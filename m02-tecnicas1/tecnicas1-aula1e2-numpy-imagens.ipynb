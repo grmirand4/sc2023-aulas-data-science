{
 "cells": [
  {
   "cell_type": "markdown",
   "id": "e569da06-15a9-4b3c-8aec-7974aac6d3f3",
   "metadata": {
    "id": "e569da06-15a9-4b3c-8aec-7974aac6d3f3"
   },
   "source": [
    "# Técnicas de Programação I\n",
    "\n",
    "Conteúdo do curso:\n",
    "\n",
    "* Numpy\n",
    "* Versonamento (Git)\n",
    "* Pandas\n",
    "\n",
    "E-mail do professor: alexlimacavalera@gmail.com"
   ]
  },
  {
   "cell_type": "markdown",
   "id": "1a7021a7-2201-4d4f-8a87-5bf90f2830e3",
   "metadata": {
    "id": "1a7021a7-2201-4d4f-8a87-5bf90f2830e3"
   },
   "source": [
    "* Pesquisar sobre como criar ambientes no Anaconda."
   ]
  },
  {
   "cell_type": "markdown",
   "id": "d2b244bb-c6e8-41cf-b5e8-982bffb4d307",
   "metadata": {
    "id": "d2b244bb-c6e8-41cf-b5e8-982bffb4d307",
    "tags": []
   },
   "source": [
    "* Verificar os sites:\n",
    "    * https://www.beecrowd.com.br/jud\n",
    "    * https://www.hackerrank.com\n",
    "    * https://leetcode.com"
   ]
  },
  {
   "cell_type": "markdown",
   "id": "5d765974-bb08-459b-bdd4-9619bd006c85",
   "metadata": {
    "id": "5d765974-bb08-459b-bdd4-9619bd006c85"
   },
   "source": [
    "* Resolver os exercícios"
   ]
  },
  {
   "cell_type": "markdown",
   "id": "ed3e7707-0d96-4c86-9ec1-5632fd3d857f",
   "metadata": {
    "id": "ed3e7707-0d96-4c86-9ec1-5632fd3d857f"
   },
   "source": [
    "## Numpy"
   ]
  },
  {
   "cell_type": "markdown",
   "id": "d3a7ccb4-c4ea-4bec-9672-db84b80abb46",
   "metadata": {
    "id": "d3a7ccb4-c4ea-4bec-9672-db84b80abb46"
   },
   "source": [
    "Numpy é um dos principais pacotes Python para análise de dados, machine learning e computação científica. Alguns dos principais pacotes do Python utilizam o numpy internamente em suas funções, como por exemplo __pandas, tensorflow e scikit-learn.__"
   ]
  },
  {
   "cell_type": "code",
   "execution_count": 1,
   "id": "f3f84e16-180d-4623-aecf-f4e67a2a910b",
   "metadata": {
    "colab": {
     "base_uri": "https://localhost:8080/"
    },
    "executionInfo": {
     "elapsed": 5696,
     "status": "ok",
     "timestamp": 1691447064587,
     "user": {
      "displayName": "Gabriel Miranda",
      "userId": "15559016933675739211"
     },
     "user_tz": 180
    },
    "id": "f3f84e16-180d-4623-aecf-f4e67a2a910b",
    "outputId": "8ccab934-fb90-4910-d930-dfb88d90b898",
    "tags": []
   },
   "outputs": [
    {
     "name": "stdout",
     "output_type": "stream",
     "text": [
      "Requirement already satisfied: numpy in /usr/local/lib/python3.10/dist-packages (1.22.4)\n"
     ]
    }
   ],
   "source": [
    "! pip install numpy"
   ]
  },
  {
   "cell_type": "markdown",
   "id": "3d5790ac-2bb4-40d7-9c8b-5043739c2222",
   "metadata": {
    "id": "3d5790ac-2bb4-40d7-9c8b-5043739c2222"
   },
   "source": [
    "### 1. Criando arrays"
   ]
  },
  {
   "cell_type": "code",
   "execution_count": 2,
   "id": "04c57c3e-d968-4dba-b4ae-bc2615a09045",
   "metadata": {
    "executionInfo": {
     "elapsed": 24,
     "status": "ok",
     "timestamp": 1691447064590,
     "user": {
      "displayName": "Gabriel Miranda",
      "userId": "15559016933675739211"
     },
     "user_tz": 180
    },
    "id": "04c57c3e-d968-4dba-b4ae-bc2615a09045",
    "tags": []
   },
   "outputs": [],
   "source": [
    "import numpy as np"
   ]
  },
  {
   "cell_type": "code",
   "execution_count": 3,
   "id": "76811143-79c2-4a87-94bd-6f3abc9a81d3",
   "metadata": {
    "colab": {
     "base_uri": "https://localhost:8080/",
     "height": 54
    },
    "executionInfo": {
     "elapsed": 26,
     "status": "ok",
     "timestamp": 1691447064593,
     "user": {
      "displayName": "Gabriel Miranda",
      "userId": "15559016933675739211"
     },
     "user_tz": 180
    },
    "id": "76811143-79c2-4a87-94bd-6f3abc9a81d3",
    "outputId": "dada4966-15b9-45a8-8633-27544effa494",
    "tags": []
   },
   "outputs": [
    {
     "data": {
      "text/plain": [
       "list"
      ]
     },
     "metadata": {},
     "output_type": "display_data"
    },
    {
     "data": {
      "text/plain": [
       "numpy.ndarray"
      ]
     },
     "metadata": {},
     "output_type": "display_data"
    }
   ],
   "source": [
    "lista1 = [1,2,3]\n",
    "display(type(lista1))\n",
    "\n",
    "array1 = np.array(lista1)\n",
    "display(type(array1))"
   ]
  },
  {
   "cell_type": "markdown",
   "id": "d4690670-2856-4207-9459-6dc4cdecedf7",
   "metadata": {
    "id": "d4690670-2856-4207-9459-6dc4cdecedf7",
    "tags": []
   },
   "source": [
    "#### Arrays de 1's e 0's e valores psudo-aleatórios"
   ]
  },
  {
   "cell_type": "code",
   "execution_count": 4,
   "id": "df2ac37c-f51a-4a95-b369-31333e4b2f11",
   "metadata": {
    "colab": {
     "base_uri": "https://localhost:8080/"
    },
    "executionInfo": {
     "elapsed": 84,
     "status": "ok",
     "timestamp": 1691447065264,
     "user": {
      "displayName": "Gabriel Miranda",
      "userId": "15559016933675739211"
     },
     "user_tz": 180
    },
    "id": "df2ac37c-f51a-4a95-b369-31333e4b2f11",
    "outputId": "37754adb-e0a3-4272-bd80-4107e546def9",
    "tags": []
   },
   "outputs": [
    {
     "data": {
      "text/plain": [
       "array([[1., 1., 1.],\n",
       "       [1., 1., 1.],\n",
       "       [1., 1., 1.]])"
      ]
     },
     "execution_count": 4,
     "metadata": {},
     "output_type": "execute_result"
    }
   ],
   "source": [
    "ones1 = np.ones((3,3))\n",
    "ones1"
   ]
  },
  {
   "cell_type": "code",
   "execution_count": 5,
   "id": "d5515578-d7c3-45b6-9a68-72130a9d2693",
   "metadata": {
    "colab": {
     "base_uri": "https://localhost:8080/"
    },
    "executionInfo": {
     "elapsed": 82,
     "status": "ok",
     "timestamp": 1691447065264,
     "user": {
      "displayName": "Gabriel Miranda",
      "userId": "15559016933675739211"
     },
     "user_tz": 180
    },
    "id": "d5515578-d7c3-45b6-9a68-72130a9d2693",
    "outputId": "fb056b34-b4a9-444d-f831-3e4f2ae1aa44",
    "tags": []
   },
   "outputs": [
    {
     "data": {
      "text/plain": [
       "array([[0., 0., 0.],\n",
       "       [0., 0., 0.],\n",
       "       [0., 0., 0.]])"
      ]
     },
     "execution_count": 5,
     "metadata": {},
     "output_type": "execute_result"
    }
   ],
   "source": [
    "zeros1 = np.zeros((3,3))\n",
    "zeros1"
   ]
  },
  {
   "cell_type": "code",
   "execution_count": 6,
   "id": "1c27add1-5698-46b1-b5ef-864b314e14fb",
   "metadata": {
    "colab": {
     "base_uri": "https://localhost:8080/"
    },
    "executionInfo": {
     "elapsed": 80,
     "status": "ok",
     "timestamp": 1691447065265,
     "user": {
      "displayName": "Gabriel Miranda",
      "userId": "15559016933675739211"
     },
     "user_tz": 180
    },
    "id": "1c27add1-5698-46b1-b5ef-864b314e14fb",
    "outputId": "29f3decf-6f67-4f38-be65-168b13bb5cdc",
    "tags": []
   },
   "outputs": [
    {
     "data": {
      "text/plain": [
       "array([[5, 7, 8],\n",
       "       [2, 4, 8],\n",
       "       [1, 0, 9]])"
      ]
     },
     "execution_count": 6,
     "metadata": {},
     "output_type": "execute_result"
    }
   ],
   "source": [
    "random1 = np.random.randint(0,10,(3,3))\n",
    "random1"
   ]
  },
  {
   "cell_type": "markdown",
   "id": "bef38cb1-ef16-42b7-98ff-f3c0a9efc3c7",
   "metadata": {
    "id": "bef38cb1-ef16-42b7-98ff-f3c0a9efc3c7",
    "tags": []
   },
   "source": [
    "#### Indexação"
   ]
  },
  {
   "cell_type": "code",
   "execution_count": 7,
   "id": "c33d7846-8910-49dd-a5f9-4b99b5ab5aaa",
   "metadata": {
    "colab": {
     "base_uri": "https://localhost:8080/"
    },
    "executionInfo": {
     "elapsed": 78,
     "status": "ok",
     "timestamp": 1691447065266,
     "user": {
      "displayName": "Gabriel Miranda",
      "userId": "15559016933675739211"
     },
     "user_tz": 180
    },
    "id": "c33d7846-8910-49dd-a5f9-4b99b5ab5aaa",
    "outputId": "1ef27732-ab55-423d-82c2-66e0e22157d8",
    "tags": []
   },
   "outputs": [
    {
     "name": "stdout",
     "output_type": "stream",
     "text": [
      "[[ 8 12 18]\n",
      " [13 16  6]\n",
      " [ 9  0  2]]\n"
     ]
    }
   ],
   "source": [
    "array2 = np.random.randint(0,20,(3,3))\n",
    "print(array2)"
   ]
  },
  {
   "cell_type": "code",
   "execution_count": 8,
   "id": "9268fadb-1992-4703-86d0-ac5a78e7908c",
   "metadata": {
    "colab": {
     "base_uri": "https://localhost:8080/"
    },
    "executionInfo": {
     "elapsed": 74,
     "status": "ok",
     "timestamp": 1691447065266,
     "user": {
      "displayName": "Gabriel Miranda",
      "userId": "15559016933675739211"
     },
     "user_tz": 180
    },
    "id": "9268fadb-1992-4703-86d0-ac5a78e7908c",
    "outputId": "9cfb7cad-c758-4df1-f9b5-d3c5a669e900",
    "tags": []
   },
   "outputs": [
    {
     "name": "stdout",
     "output_type": "stream",
     "text": [
      "[ 8 12 18]\n"
     ]
    }
   ],
   "source": [
    "print(array2[0])"
   ]
  },
  {
   "cell_type": "code",
   "execution_count": 9,
   "id": "44772341-c273-4d11-9923-43e37b792dd8",
   "metadata": {
    "colab": {
     "base_uri": "https://localhost:8080/"
    },
    "executionInfo": {
     "elapsed": 71,
     "status": "ok",
     "timestamp": 1691447065267,
     "user": {
      "displayName": "Gabriel Miranda",
      "userId": "15559016933675739211"
     },
     "user_tz": 180
    },
    "id": "44772341-c273-4d11-9923-43e37b792dd8",
    "outputId": "f7468980-ecde-4559-8118-fd3e6d528af3",
    "tags": []
   },
   "outputs": [
    {
     "name": "stdout",
     "output_type": "stream",
     "text": [
      "[[13 16  6]\n",
      " [ 9  0  2]]\n"
     ]
    }
   ],
   "source": [
    "print(array2[1:])"
   ]
  },
  {
   "cell_type": "markdown",
   "id": "667ae12e-7218-42df-ba26-cf1b234bacab",
   "metadata": {
    "id": "667ae12e-7218-42df-ba26-cf1b234bacab",
    "tags": []
   },
   "source": [
    "#### Aritmética de arrays"
   ]
  },
  {
   "cell_type": "code",
   "execution_count": 10,
   "id": "2fd7a65c-8d38-4bb2-8e1f-1befa5fc49dc",
   "metadata": {
    "executionInfo": {
     "elapsed": 69,
     "status": "ok",
     "timestamp": 1691447065268,
     "user": {
      "displayName": "Gabriel Miranda",
      "userId": "15559016933675739211"
     },
     "user_tz": 180
    },
    "id": "2fd7a65c-8d38-4bb2-8e1f-1befa5fc49dc",
    "tags": []
   },
   "outputs": [],
   "source": [
    "array3 = np.array([1,2,3])\n",
    "array4 = np.ones(3)"
   ]
  },
  {
   "cell_type": "markdown",
   "id": "b804d08b-c3b6-455a-bc2c-4195600a6d17",
   "metadata": {
    "id": "b804d08b-c3b6-455a-bc2c-4195600a6d17"
   },
   "source": [
    "Adição:"
   ]
  },
  {
   "cell_type": "code",
   "execution_count": 11,
   "id": "4b9ca764-90a2-4400-9524-47114e2aed72",
   "metadata": {
    "colab": {
     "base_uri": "https://localhost:8080/"
    },
    "executionInfo": {
     "elapsed": 70,
     "status": "ok",
     "timestamp": 1691447065270,
     "user": {
      "displayName": "Gabriel Miranda",
      "userId": "15559016933675739211"
     },
     "user_tz": 180
    },
    "id": "4b9ca764-90a2-4400-9524-47114e2aed72",
    "outputId": "65871bb0-0232-4876-fd12-9df45add2494",
    "tags": []
   },
   "outputs": [
    {
     "data": {
      "text/plain": [
       "array([2., 3., 4.])"
      ]
     },
     "execution_count": 11,
     "metadata": {},
     "output_type": "execute_result"
    }
   ],
   "source": [
    "array3 + array4"
   ]
  },
  {
   "cell_type": "markdown",
   "id": "0f026102-98e4-4d90-b0c6-e107adb5a903",
   "metadata": {
    "id": "0f026102-98e4-4d90-b0c6-e107adb5a903",
    "tags": []
   },
   "source": [
    "Subtração:"
   ]
  },
  {
   "cell_type": "code",
   "execution_count": 12,
   "id": "01ac9c5d-af1e-448c-bde1-f306000749c3",
   "metadata": {
    "colab": {
     "base_uri": "https://localhost:8080/"
    },
    "executionInfo": {
     "elapsed": 66,
     "status": "ok",
     "timestamp": 1691447065271,
     "user": {
      "displayName": "Gabriel Miranda",
      "userId": "15559016933675739211"
     },
     "user_tz": 180
    },
    "id": "01ac9c5d-af1e-448c-bde1-f306000749c3",
    "outputId": "c63c2547-3a7a-454e-e954-77d0c947937e",
    "tags": []
   },
   "outputs": [
    {
     "data": {
      "text/plain": [
       "array([0., 1., 2.])"
      ]
     },
     "execution_count": 12,
     "metadata": {},
     "output_type": "execute_result"
    }
   ],
   "source": [
    "array3 - array4"
   ]
  },
  {
   "cell_type": "markdown",
   "id": "969dec7b-d91c-402b-a22a-0c3e84e1f740",
   "metadata": {
    "id": "969dec7b-d91c-402b-a22a-0c3e84e1f740"
   },
   "source": [
    "Multiplicação por escalar:"
   ]
  },
  {
   "cell_type": "code",
   "execution_count": 13,
   "id": "5de0fcbb-9a85-4bcd-9c7f-491a58d63c37",
   "metadata": {
    "colab": {
     "base_uri": "https://localhost:8080/"
    },
    "executionInfo": {
     "elapsed": 61,
     "status": "ok",
     "timestamp": 1691447065272,
     "user": {
      "displayName": "Gabriel Miranda",
      "userId": "15559016933675739211"
     },
     "user_tz": 180
    },
    "id": "5de0fcbb-9a85-4bcd-9c7f-491a58d63c37",
    "outputId": "414ea4e9-19da-444f-ce1c-552960cd1d7b",
    "tags": []
   },
   "outputs": [
    {
     "data": {
      "text/plain": [
       "array([3, 6, 9])"
      ]
     },
     "execution_count": 13,
     "metadata": {},
     "output_type": "execute_result"
    }
   ],
   "source": [
    "array3*3"
   ]
  },
  {
   "cell_type": "markdown",
   "id": "9b339884-f8fb-42c4-a6c3-0a9ae40f42fe",
   "metadata": {
    "id": "9b339884-f8fb-42c4-a6c3-0a9ae40f42fe"
   },
   "source": [
    "#### Agregação"
   ]
  },
  {
   "cell_type": "code",
   "execution_count": 14,
   "id": "5c2964e4-5bcf-4dcf-87e2-7142fc7d53e3",
   "metadata": {
    "colab": {
     "base_uri": "https://localhost:8080/"
    },
    "executionInfo": {
     "elapsed": 55,
     "status": "ok",
     "timestamp": 1691447065273,
     "user": {
      "displayName": "Gabriel Miranda",
      "userId": "15559016933675739211"
     },
     "user_tz": 180
    },
    "id": "5c2964e4-5bcf-4dcf-87e2-7142fc7d53e3",
    "outputId": "4c81daa9-9faf-4e0f-e57e-ca953b09ca70",
    "tags": []
   },
   "outputs": [
    {
     "data": {
      "text/plain": [
       "array([1, 2, 3])"
      ]
     },
     "execution_count": 14,
     "metadata": {},
     "output_type": "execute_result"
    }
   ],
   "source": [
    "array3"
   ]
  },
  {
   "cell_type": "code",
   "execution_count": 15,
   "id": "59a0867f-54e3-4394-ad97-3bcf4cdadecb",
   "metadata": {
    "colab": {
     "base_uri": "https://localhost:8080/"
    },
    "executionInfo": {
     "elapsed": 51,
     "status": "ok",
     "timestamp": 1691447065274,
     "user": {
      "displayName": "Gabriel Miranda",
      "userId": "15559016933675739211"
     },
     "user_tz": 180
    },
    "id": "59a0867f-54e3-4394-ad97-3bcf4cdadecb",
    "outputId": "89d58075-5aaf-4744-cfe1-7e4c36982a88",
    "tags": []
   },
   "outputs": [
    {
     "data": {
      "text/plain": [
       "3"
      ]
     },
     "execution_count": 15,
     "metadata": {},
     "output_type": "execute_result"
    }
   ],
   "source": [
    "array3.max()"
   ]
  },
  {
   "cell_type": "code",
   "execution_count": 16,
   "id": "04a2fc77-bc67-4b68-b811-3249859ee922",
   "metadata": {
    "colab": {
     "base_uri": "https://localhost:8080/"
    },
    "executionInfo": {
     "elapsed": 50,
     "status": "ok",
     "timestamp": 1691447065276,
     "user": {
      "displayName": "Gabriel Miranda",
      "userId": "15559016933675739211"
     },
     "user_tz": 180
    },
    "id": "04a2fc77-bc67-4b68-b811-3249859ee922",
    "outputId": "e904c199-65d2-4352-c385-a9265b19427e",
    "tags": []
   },
   "outputs": [
    {
     "data": {
      "text/plain": [
       "1"
      ]
     },
     "execution_count": 16,
     "metadata": {},
     "output_type": "execute_result"
    }
   ],
   "source": [
    "array3.min()"
   ]
  },
  {
   "cell_type": "code",
   "execution_count": 17,
   "id": "70315efd-be7b-4909-9110-f396a730b8d7",
   "metadata": {
    "colab": {
     "base_uri": "https://localhost:8080/"
    },
    "executionInfo": {
     "elapsed": 48,
     "status": "ok",
     "timestamp": 1691447065277,
     "user": {
      "displayName": "Gabriel Miranda",
      "userId": "15559016933675739211"
     },
     "user_tz": 180
    },
    "id": "70315efd-be7b-4909-9110-f396a730b8d7",
    "outputId": "45330c27-7afa-4535-edbe-c9511defcf89",
    "tags": []
   },
   "outputs": [
    {
     "data": {
      "text/plain": [
       "6"
      ]
     },
     "execution_count": 17,
     "metadata": {},
     "output_type": "execute_result"
    }
   ],
   "source": [
    "array3.sum()"
   ]
  },
  {
   "cell_type": "markdown",
   "id": "3f411b98-a9db-4558-a116-5d57ef4fda69",
   "metadata": {
    "id": "3f411b98-a9db-4558-a116-5d57ef4fda69"
   },
   "source": [
    "#### Outras funções"
   ]
  },
  {
   "cell_type": "code",
   "execution_count": 18,
   "id": "a7daffad-de1f-416f-9e25-38469d945755",
   "metadata": {
    "colab": {
     "base_uri": "https://localhost:8080/"
    },
    "executionInfo": {
     "elapsed": 46,
     "status": "ok",
     "timestamp": 1691447065278,
     "user": {
      "displayName": "Gabriel Miranda",
      "userId": "15559016933675739211"
     },
     "user_tz": 180
    },
    "id": "a7daffad-de1f-416f-9e25-38469d945755",
    "outputId": "ce7fa289-d61a-4a27-9242-ca829a938eb4",
    "tags": []
   },
   "outputs": [
    {
     "data": {
      "text/plain": [
       "array([1, 3, 6])"
      ]
     },
     "execution_count": 18,
     "metadata": {},
     "output_type": "execute_result"
    }
   ],
   "source": [
    "array3.cumsum() # Soma acumulada"
   ]
  },
  {
   "cell_type": "code",
   "execution_count": 19,
   "id": "60893fda-0b7e-47c9-8f7e-a36f3d7efc8c",
   "metadata": {
    "colab": {
     "base_uri": "https://localhost:8080/"
    },
    "executionInfo": {
     "elapsed": 45,
     "status": "ok",
     "timestamp": 1691447065279,
     "user": {
      "displayName": "Gabriel Miranda",
      "userId": "15559016933675739211"
     },
     "user_tz": 180
    },
    "id": "60893fda-0b7e-47c9-8f7e-a36f3d7efc8c",
    "outputId": "44b7a4d8-61ef-4f70-fc7f-ae537970c6d9",
    "tags": []
   },
   "outputs": [
    {
     "data": {
      "text/plain": [
       "2.0"
      ]
     },
     "execution_count": 19,
     "metadata": {},
     "output_type": "execute_result"
    }
   ],
   "source": [
    "array3.mean() # Média aritmética"
   ]
  },
  {
   "cell_type": "code",
   "execution_count": 20,
   "id": "04513850-8724-4ac0-b1c1-08c84cbc2dd7",
   "metadata": {
    "colab": {
     "base_uri": "https://localhost:8080/"
    },
    "executionInfo": {
     "elapsed": 44,
     "status": "ok",
     "timestamp": 1691447065280,
     "user": {
      "displayName": "Gabriel Miranda",
      "userId": "15559016933675739211"
     },
     "user_tz": 180
    },
    "id": "04513850-8724-4ac0-b1c1-08c84cbc2dd7",
    "outputId": "d1aa67cf-1123-49b6-ae50-01800f4cd73d",
    "tags": []
   },
   "outputs": [
    {
     "data": {
      "text/plain": [
       "0.816496580927726"
      ]
     },
     "execution_count": 20,
     "metadata": {},
     "output_type": "execute_result"
    }
   ],
   "source": [
    "array3.std() # Desvio padrão"
   ]
  },
  {
   "cell_type": "code",
   "execution_count": 21,
   "id": "a90b03a8-743d-45e0-abc1-411e32168ec3",
   "metadata": {
    "colab": {
     "base_uri": "https://localhost:8080/"
    },
    "executionInfo": {
     "elapsed": 34,
     "status": "ok",
     "timestamp": 1691447065281,
     "user": {
      "displayName": "Gabriel Miranda",
      "userId": "15559016933675739211"
     },
     "user_tz": 180
    },
    "id": "a90b03a8-743d-45e0-abc1-411e32168ec3",
    "outputId": "64ad03ec-8401-4d72-e52d-29c48c471e1c",
    "tags": []
   },
   "outputs": [
    {
     "data": {
      "text/plain": [
       "(3,)"
      ]
     },
     "execution_count": 21,
     "metadata": {},
     "output_type": "execute_result"
    }
   ],
   "source": [
    "array3.shape"
   ]
  },
  {
   "cell_type": "markdown",
   "id": "526d89eb-bbce-4bd0-b6d3-e2c21d7d8cbf",
   "metadata": {
    "id": "526d89eb-bbce-4bd0-b6d3-e2c21d7d8cbf"
   },
   "source": [
    "#### Array 1D"
   ]
  },
  {
   "cell_type": "code",
   "execution_count": 22,
   "id": "2e7a9f8b-efd0-47c3-bb44-080f2be511e5",
   "metadata": {
    "colab": {
     "base_uri": "https://localhost:8080/"
    },
    "executionInfo": {
     "elapsed": 33,
     "status": "ok",
     "timestamp": 1691447065282,
     "user": {
      "displayName": "Gabriel Miranda",
      "userId": "15559016933675739211"
     },
     "user_tz": 180
    },
    "id": "2e7a9f8b-efd0-47c3-bb44-080f2be511e5",
    "outputId": "db50257b-70a1-41c6-f808-8ccda22f5672",
    "tags": []
   },
   "outputs": [
    {
     "name": "stdout",
     "output_type": "stream",
     "text": [
      "(3,)\n",
      "1\n",
      "3\n",
      "[1 3 2]\n"
     ]
    }
   ],
   "source": [
    "meu_array = np.array([1,3,2])\n",
    "print(meu_array.shape)\n",
    "print(meu_array.ndim)\n",
    "print(meu_array.size)\n",
    "print(meu_array)"
   ]
  },
  {
   "cell_type": "markdown",
   "id": "a97081bf-c9ea-47e0-aff4-49f27c41a423",
   "metadata": {
    "id": "a97081bf-c9ea-47e0-aff4-49f27c41a423",
    "tags": []
   },
   "source": [
    "#### Array 2D"
   ]
  },
  {
   "cell_type": "code",
   "execution_count": 23,
   "id": "0e99fc07-8d5a-4e52-b5be-cba7111912a4",
   "metadata": {
    "colab": {
     "base_uri": "https://localhost:8080/"
    },
    "executionInfo": {
     "elapsed": 551,
     "status": "ok",
     "timestamp": 1691447065802,
     "user": {
      "displayName": "Gabriel Miranda",
      "userId": "15559016933675739211"
     },
     "user_tz": 180
    },
    "id": "0e99fc07-8d5a-4e52-b5be-cba7111912a4",
    "outputId": "99cf3e89-3a8e-419a-ff93-85a688b60686",
    "tags": []
   },
   "outputs": [
    {
     "name": "stdout",
     "output_type": "stream",
     "text": [
      "(2, 3)\n",
      "2\n",
      "6\n",
      "[[1 3 2]\n",
      " [5 8 1]]\n"
     ]
    }
   ],
   "source": [
    "meu_array = np.array([[1,3,2], [5,8,1]])\n",
    "print(meu_array.shape)\n",
    "print(meu_array.ndim)\n",
    "print(meu_array.size)\n",
    "print(meu_array)"
   ]
  },
  {
   "cell_type": "markdown",
   "id": "e70dce29-904c-4a61-a286-21bc907a868e",
   "metadata": {
    "id": "e70dce29-904c-4a61-a286-21bc907a868e"
   },
   "source": [
    "#### Array 3D"
   ]
  },
  {
   "cell_type": "code",
   "execution_count": 24,
   "id": "d2ae8dac-4bd8-4e15-a025-429884741e73",
   "metadata": {
    "colab": {
     "base_uri": "https://localhost:8080/"
    },
    "executionInfo": {
     "elapsed": 42,
     "status": "ok",
     "timestamp": 1691447065803,
     "user": {
      "displayName": "Gabriel Miranda",
      "userId": "15559016933675739211"
     },
     "user_tz": 180
    },
    "id": "d2ae8dac-4bd8-4e15-a025-429884741e73",
    "outputId": "21234f1d-7f10-4fab-f659-758ea2e3f9c7",
    "tags": []
   },
   "outputs": [
    {
     "name": "stdout",
     "output_type": "stream",
     "text": [
      "(2, 2, 3)\n",
      "3\n",
      "12\n",
      "[[[1 3 2]\n",
      "  [5 8 1]]\n",
      "\n",
      " [[3 0 2]\n",
      "  [2 7 1]]]\n"
     ]
    }
   ],
   "source": [
    "meu_array = np.array([[[1,3,2], [5,8,1]],\n",
    "                      [[3,0,2], [2,7,1]]])\n",
    "print(meu_array.shape)\n",
    "print(meu_array.ndim)\n",
    "print(meu_array.size)\n",
    "print(meu_array)"
   ]
  },
  {
   "cell_type": "markdown",
   "id": "df6538e0-d0f6-4234-9ce8-1c5444def250",
   "metadata": {
    "id": "df6538e0-d0f6-4234-9ce8-1c5444def250"
   },
   "source": [
    "![image.png](attachment:84af9a5b-85dd-4301-a8b6-20aecafe1199.png)\n",
    "![image.png](attachment:3f5d5151-05c0-45b5-ab0c-009758991018.png)"
   ]
  },
  {
   "cell_type": "markdown",
   "id": "3a16f13a-2074-49e9-a571-b71174d94943",
   "metadata": {
    "id": "3a16f13a-2074-49e9-a571-b71174d94943"
   },
   "source": [
    "#### Adicionando valores em um array"
   ]
  },
  {
   "cell_type": "code",
   "execution_count": 25,
   "id": "546e03de-b7df-4d36-9017-1848bbb6f9af",
   "metadata": {
    "colab": {
     "base_uri": "https://localhost:8080/"
    },
    "executionInfo": {
     "elapsed": 40,
     "status": "ok",
     "timestamp": 1691447065804,
     "user": {
      "displayName": "Gabriel Miranda",
      "userId": "15559016933675739211"
     },
     "user_tz": 180
    },
    "id": "546e03de-b7df-4d36-9017-1848bbb6f9af",
    "outputId": "373bb80c-f172-4da2-bb07-0069d9c32284",
    "tags": []
   },
   "outputs": [
    {
     "name": "stdout",
     "output_type": "stream",
     "text": [
      "[0. 1. 2. 3. 4. 5. 6. 7. 8. 9.]\n"
     ]
    }
   ],
   "source": [
    "array1 = np.array([])\n",
    "\n",
    "for i in range(10):\n",
    "    array1 = np.append(array1, i)\n",
    "\n",
    "print(array1)"
   ]
  },
  {
   "cell_type": "markdown",
   "id": "bd19a104-30b6-4472-a239-577e26490c0c",
   "metadata": {
    "id": "bd19a104-30b6-4472-a239-577e26490c0c"
   },
   "source": [
    "### 2. Plotando arrays"
   ]
  },
  {
   "cell_type": "code",
   "execution_count": 26,
   "id": "bd1416eb-1471-4425-873a-2b8ed087bb23",
   "metadata": {
    "colab": {
     "base_uri": "https://localhost:8080/",
     "height": 448
    },
    "executionInfo": {
     "elapsed": 36,
     "status": "ok",
     "timestamp": 1691447065805,
     "user": {
      "displayName": "Gabriel Miranda",
      "userId": "15559016933675739211"
     },
     "user_tz": 180
    },
    "id": "bd1416eb-1471-4425-873a-2b8ed087bb23",
    "outputId": "757dd802-0101-49cd-d657-e9f13465a954",
    "tags": []
   },
   "outputs": [
    {
     "data": {
      "text/plain": [
       "[<matplotlib.lines.Line2D at 0x7bb7387050c0>]"
      ]
     },
     "execution_count": 26,
     "metadata": {},
     "output_type": "execute_result"
    },
    {
     "data": {
      "image/png": "[encoded data removed]",
      "text/plain": [
       "<Figure size 640x480 with 1 Axes>"
      ]
     },
     "metadata": {},
     "output_type": "display_data"
    }
   ],
   "source": [
    "from matplotlib import pyplot as plt\n",
    "\n",
    "array1 = np.array([1,2,3])\n",
    "array2 = np.array([3,2,1])\n",
    "\n",
    "plt.plot(array1, array2)"
   ]
  },
  {
   "cell_type": "markdown",
   "id": "9dc54345-fa0e-416f-9428-6a314830faa4",
   "metadata": {
    "id": "9dc54345-fa0e-416f-9428-6a314830faa4"
   },
   "source": [
    "### 3. Imagens"
   ]
  },
  {
   "cell_type": "code",
   "execution_count": 27,
   "id": "d3e53aa7-5e4b-4a14-85b1-1024d774b94f",
   "metadata": {
    "executionInfo": {
     "elapsed": 24,
     "status": "ok",
     "timestamp": 1691447065806,
     "user": {
      "displayName": "Gabriel Miranda",
      "userId": "15559016933675739211"
     },
     "user_tz": 180
    },
    "id": "d3e53aa7-5e4b-4a14-85b1-1024d774b94f",
    "tags": []
   },
   "outputs": [],
   "source": [
    "from matplotlib import image as img"
   ]
  },
  {
   "cell_type": "code",
   "execution_count": 28,
   "id": "87807cb3-de5d-4b11-844e-91b16200a5a8",
   "metadata": {
    "executionInfo": {
     "elapsed": 27,
     "status": "ok",
     "timestamp": 1691447065810,
     "user": {
      "displayName": "Gabriel Miranda",
      "userId": "15559016933675739211"
     },
     "user_tz": 180
    },
    "id": "87807cb3-de5d-4b11-844e-91b16200a5a8",
    "tags": []
   },
   "outputs": [],
   "source": [
    "imagem = img.imread(\"ex_img.png\")"
   ]
  },
  {
   "cell_type": "code",
   "execution_count": 29,
   "id": "8d7edda6-c6df-4a20-8fd7-44dac364b393",
   "metadata": {
    "colab": {
     "base_uri": "https://localhost:8080/"
    },
    "executionInfo": {
     "elapsed": 32,
     "status": "ok",
     "timestamp": 1691447065816,
     "user": {
      "displayName": "Gabriel Miranda",
      "userId": "15559016933675739211"
     },
     "user_tz": 180
    },
    "id": "8d7edda6-c6df-4a20-8fd7-44dac364b393",
    "outputId": "c8574d20-7e95-429c-d8a7-0ae96b0b87d4",
    "tags": []
   },
   "outputs": [
    {
     "data": {
      "text/plain": [
       "(2048, 2048, 4)"
      ]
     },
     "execution_count": 29,
     "metadata": {},
     "output_type": "execute_result"
    }
   ],
   "source": [
    "imagem.shape\n",
    "\n",
    "# (altura, largura, (r,g,b,alpha))\n",
    "# Alpha refere-se à transparência da imagem."
   ]
  },
  {
   "cell_type": "code",
   "execution_count": 30,
   "id": "e083759b-d06e-4edf-9c56-25ad51ba3381",
   "metadata": {
    "colab": {
     "base_uri": "https://localhost:8080/"
    },
    "executionInfo": {
     "elapsed": 31,
     "status": "ok",
     "timestamp": 1691447065819,
     "user": {
      "displayName": "Gabriel Miranda",
      "userId": "15559016933675739211"
     },
     "user_tz": 180
    },
    "id": "e083759b-d06e-4edf-9c56-25ad51ba3381",
    "outputId": "93411ba5-980d-491d-a64a-6c2d968bfa03",
    "tags": []
   },
   "outputs": [
    {
     "data": {
      "text/plain": [
       "3"
      ]
     },
     "execution_count": 30,
     "metadata": {},
     "output_type": "execute_result"
    }
   ],
   "source": [
    "# Nossa imagem tem 3 dimensões.\n",
    "imagem.ndim"
   ]
  },
  {
   "cell_type": "code",
   "execution_count": 31,
   "id": "d35d6e2b-cb28-407e-abf9-06d6ea0b8151",
   "metadata": {
    "colab": {
     "base_uri": "https://localhost:8080/",
     "height": 453
    },
    "executionInfo": {
     "elapsed": 1576,
     "status": "ok",
     "timestamp": 1691447067367,
     "user": {
      "displayName": "Gabriel Miranda",
      "userId": "15559016933675739211"
     },
     "user_tz": 180
    },
    "id": "d35d6e2b-cb28-407e-abf9-06d6ea0b8151",
    "outputId": "901ec9e4-5cad-40a3-a66a-5b60610a3ffb",
    "tags": []
   },
   "outputs": [
    {
     "data": {
      "text/plain": [
       "<matplotlib.image.AxesImage at 0x7bb7387f5990>"
      ]
     },
     "execution_count": 31,
     "metadata": {},
     "output_type": "execute_result"
    },
    {
     "data": {
      "image/png": "[encoded data removed]",
      "text/plain": [
       "<Figure size 640x480 with 1 Axes>"
      ]
     },
     "metadata": {},
     "output_type": "display_data"
    }
   ],
   "source": [
    "# Imagem total\n",
    "plt.imshow(imagem)"
   ]
  },
  {
   "cell_type": "code",
   "execution_count": 43,
   "id": "2blrrBvrGqAw",
   "metadata": {
    "colab": {
     "base_uri": "https://localhost:8080/"
    },
    "executionInfo": {
     "elapsed": 398,
     "status": "ok",
     "timestamp": 1691447122173,
     "user": {
      "displayName": "Gabriel Miranda",
      "userId": "15559016933675739211"
     },
     "user_tz": 180
    },
    "id": "2blrrBvrGqAw",
    "outputId": "10383961-308d-4088-9500-4985f7778053"
   },
   "outputs": [
    {
     "data": {
      "text/plain": [
       "  C_CONTIGUOUS : True\n",
       "  F_CONTIGUOUS : False\n",
       "  OWNDATA : True\n",
       "  WRITEABLE : True\n",
       "  ALIGNED : True\n",
       "  WRITEBACKIFCOPY : False\n",
       "  UPDATEIFCOPY : False"
      ]
     },
     "execution_count": 43,
     "metadata": {},
     "output_type": "execute_result"
    }
   ],
   "source": [
    "# Características da imagem\n",
    "\n",
    "imagem.flags"
   ]
  },
  {
   "cell_type": "code",
   "execution_count": 32,
   "id": "a4edc110-c68a-4214-b41f-4736e0d2e108",
   "metadata": {
    "colab": {
     "base_uri": "https://localhost:8080/",
     "height": 453
    },
    "executionInfo": {
     "elapsed": 779,
     "status": "ok",
     "timestamp": 1691447068132,
     "user": {
      "displayName": "Gabriel Miranda",
      "userId": "15559016933675739211"
     },
     "user_tz": 180
    },
    "id": "a4edc110-c68a-4214-b41f-4736e0d2e108",
    "outputId": "51c99bd0-ff26-49d1-f8e5-52c86de1df92",
    "tags": []
   },
   "outputs": [
    {
     "data": {
      "text/plain": [
       "<matplotlib.image.AxesImage at 0x7bb73839c2b0>"
      ]
     },
     "execution_count": 32,
     "metadata": {},
     "output_type": "execute_result"
    },
    {
     "data": {
      "image/png": "[encoded data removed]",
      "text/plain": [
       "<Figure size 640x480 with 1 Axes>"
      ]
     },
     "metadata": {},
     "output_type": "display_data"
    }
   ],
   "source": [
    "# Quando limitamos os valores da 3° dimensão,\n",
    "# o matplotlib coloca uma escala de cores padrão para os valores (viridis).\n",
    "plt.imshow(imagem[:,:,0])"
   ]
  },
  {
   "cell_type": "code",
   "execution_count": 33,
   "id": "c6998640-2a32-4dfb-8a7f-fb25b0df6da9",
   "metadata": {
    "colab": {
     "base_uri": "https://localhost:8080/",
     "height": 453
    },
    "executionInfo": {
     "elapsed": 660,
     "status": "ok",
     "timestamp": 1691447068766,
     "user": {
      "displayName": "Gabriel Miranda",
      "userId": "15559016933675739211"
     },
     "user_tz": 180
    },
    "id": "c6998640-2a32-4dfb-8a7f-fb25b0df6da9",
    "outputId": "96dd3fbf-fdbe-45f0-9315-e125cf362aaf",
    "tags": []
   },
   "outputs": [
    {
     "data": {
      "text/plain": [
       "<matplotlib.image.AxesImage at 0x7bb7382062c0>"
      ]
     },
     "execution_count": 33,
     "metadata": {},
     "output_type": "execute_result"
    },
    {
     "data": {
      "image/png": "[encoded data removed]",
      "text/plain": [
       "<Figure size 640x480 with 1 Axes>"
      ]
     },
     "metadata": {},
     "output_type": "display_data"
    }
   ],
   "source": [
    "plt.imshow(imagem[:,:,0], cmap=\"Reds\")"
   ]
  },
  {
   "cell_type": "markdown",
   "id": "0ae78c77-7a87-4f98-a62e-fec4626afe45",
   "metadata": {
    "id": "0ae78c77-7a87-4f98-a62e-fec4626afe45"
   },
   "source": [
    "Uma forma de plotar apenas a cor vermelha da imagem. Precisamos zerar todas as outras matrizes e passar o resultado completo da imagem."
   ]
  },
  {
   "cell_type": "code",
   "execution_count": 34,
   "id": "d3dcbc97-8094-4aa0-b8b3-2b5a7c62b417",
   "metadata": {
    "colab": {
     "base_uri": "https://localhost:8080/",
     "height": 453
    },
    "executionInfo": {
     "elapsed": 1805,
     "status": "ok",
     "timestamp": 1691447070559,
     "user": {
      "displayName": "Gabriel Miranda",
      "userId": "15559016933675739211"
     },
     "user_tz": 180
    },
    "id": "d3dcbc97-8094-4aa0-b8b3-2b5a7c62b417",
    "outputId": "bad3c0ad-3859-4f0f-9f77-ab9ffb556bcb",
    "tags": []
   },
   "outputs": [
    {
     "data": {
      "text/plain": [
       "<matplotlib.image.AxesImage at 0x7bb73829c640>"
      ]
     },
     "execution_count": 34,
     "metadata": {},
     "output_type": "execute_result"
    },
    {
     "data": {
      "image/png": "[encoded data removed]",
      "text/plain": [
       "<Figure size 640x480 with 1 Axes>"
      ]
     },
     "metadata": {},
     "output_type": "display_data"
    }
   ],
   "source": [
    "imagem = img.imread(\"ex_img.png\") # Importando a imagem com todos os canais.\n",
    "\n",
    "#imagem[:,:,0] = 0 # Zerando o canal vermelho.\n",
    "imagem[:,:,1] = 0 # Zerando o canal verde.\n",
    "imagem[:,:,2] = 0 # Zerando o canal azul.\n",
    "\n",
    "plt.imshow(imagem)"
   ]
  },
  {
   "cell_type": "markdown",
   "id": "da0543d5-2a73-4192-a4e9-0e83019a9133",
   "metadata": {
    "id": "da0543d5-2a73-4192-a4e9-0e83019a9133",
    "tags": []
   },
   "source": [
    "Ressaltando pontos da imagem:"
   ]
  },
  {
   "cell_type": "code",
   "execution_count": 35,
   "id": "92d23856-317b-49a1-a053-37177f1ebf69",
   "metadata": {
    "colab": {
     "base_uri": "https://localhost:8080/",
     "height": 453
    },
    "executionInfo": {
     "elapsed": 594,
     "status": "ok",
     "timestamp": 1691447071136,
     "user": {
      "displayName": "Gabriel Miranda",
      "userId": "15559016933675739211"
     },
     "user_tz": 180
    },
    "id": "92d23856-317b-49a1-a053-37177f1ebf69",
    "outputId": "f8b25f6d-0bca-4448-d34e-a783767dd79b",
    "tags": []
   },
   "outputs": [
    {
     "data": {
      "text/plain": [
       "<matplotlib.image.AxesImage at 0x7bb7382eb8e0>"
      ]
     },
     "execution_count": 35,
     "metadata": {},
     "output_type": "execute_result"
    },
    {
     "data": {
      "image/png": "[encoded data removed]",
      "text/plain": [
       "<Figure size 640x480 with 1 Axes>"
      ]
     },
     "metadata": {},
     "output_type": "display_data"
    }
   ],
   "source": [
    "imagem = img.imread(\"ex_img.png\") # Importando a imagem com todos os canais.\n",
    "imagem_bin = np.where(imagem[:,:,0]>0.5, 1, 0)\n",
    "plt.imshow(imagem_bin, cmap=\"Reds\")"
   ]
  },
  {
   "cell_type": "markdown",
   "id": "d21e2f79-935a-4fc0-9c91-840e2868ecc2",
   "metadata": {
    "id": "d21e2f79-935a-4fc0-9c91-840e2868ecc2"
   },
   "source": [
    "Criando uma imagem aleatória:"
   ]
  },
  {
   "cell_type": "code",
   "execution_count": 36,
   "id": "b9e40217-0813-40f3-ac58-ed83a07c5ca2",
   "metadata": {
    "colab": {
     "base_uri": "https://localhost:8080/",
     "height": 451
    },
    "executionInfo": {
     "elapsed": 867,
     "status": "ok",
     "timestamp": 1691447071983,
     "user": {
      "displayName": "Gabriel Miranda",
      "userId": "15559016933675739211"
     },
     "user_tz": 180
    },
    "id": "b9e40217-0813-40f3-ac58-ed83a07c5ca2",
    "outputId": "fc0d63e8-5583-467a-d5a1-887ab3d8e73a",
    "tags": []
   },
   "outputs": [
    {
     "data": {
      "text/plain": [
       "<matplotlib.image.AxesImage at 0x7bb73819cfd0>"
      ]
     },
     "execution_count": 36,
     "metadata": {},
     "output_type": "execute_result"
    },
    {
     "data": {
      "image/png": "[encoded data removed]",
      "text/plain": [
       "<Figure size 640x480 with 1 Axes>"
      ]
     },
     "metadata": {},
     "output_type": "display_data"
    }
   ],
   "source": [
    "img_random = np.random.random([100,100,3])\n",
    "plt.imshow(img_random)"
   ]
  },
  {
   "cell_type": "code",
   "execution_count": 37,
   "id": "e8622c62-f85d-487d-8e20-08b7fb962109",
   "metadata": {
    "colab": {
     "base_uri": "https://localhost:8080/",
     "height": 453
    },
    "executionInfo": {
     "elapsed": 77,
     "status": "ok",
     "timestamp": 1691447071984,
     "user": {
      "displayName": "Gabriel Miranda",
      "userId": "15559016933675739211"
     },
     "user_tz": 180
    },
    "id": "e8622c62-f85d-487d-8e20-08b7fb962109",
    "outputId": "2b22d545-18d6-461f-af4a-80cf99dffa15",
    "tags": []
   },
   "outputs": [
    {
     "data": {
      "text/plain": [
       "<matplotlib.image.AxesImage at 0x7bb7380057b0>"
      ]
     },
     "execution_count": 37,
     "metadata": {},
     "output_type": "execute_result"
    },
    {
     "data": {
      "image/png": "[encoded data removed]",
      "text/plain": [
       "<Figure size 640x480 with 1 Axes>"
      ]
     },
     "metadata": {},
     "output_type": "display_data"
    }
   ],
   "source": [
    "img_random = np.random.random([3,3])\n",
    "plt.imshow(img_random)"
   ]
  },
  {
   "cell_type": "code",
   "execution_count": 38,
   "id": "a820898c-03ea-4cbb-a7a8-565c6b9d186b",
   "metadata": {
    "colab": {
     "base_uri": "https://localhost:8080/"
    },
    "executionInfo": {
     "elapsed": 72,
     "status": "ok",
     "timestamp": 1691447071985,
     "user": {
      "displayName": "Gabriel Miranda",
      "userId": "15559016933675739211"
     },
     "user_tz": 180
    },
    "id": "a820898c-03ea-4cbb-a7a8-565c6b9d186b",
    "outputId": "b31832f0-4180-4674-ff98-db0091b1ba23",
    "tags": []
   },
   "outputs": [
    {
     "name": "stdout",
     "output_type": "stream",
     "text": [
      "(100, 100, 3, 10)\n",
      "4\n",
      "300000\n"
     ]
    }
   ],
   "source": [
    "img_random = np.random.random([100,100,3,10])\n",
    "print(img_random.shape)\n",
    "print(img_random.ndim)\n",
    "print(img_random.size)"
   ]
  },
  {
   "cell_type": "markdown",
   "id": "bc0e45c2-6f0b-436b-bf15-0d9cfc054b55",
   "metadata": {
    "id": "bc0e45c2-6f0b-436b-bf15-0d9cfc054b55",
    "tags": []
   },
   "source": [
    "### 4. Atividade"
   ]
  },
  {
   "cell_type": "code",
   "execution_count": 39,
   "id": "29016ae6-632f-4f7a-8255-ff9f22c9ee7b",
   "metadata": {
    "colab": {
     "base_uri": "https://localhost:8080/"
    },
    "executionInfo": {
     "elapsed": 71,
     "status": "ok",
     "timestamp": 1691447071986,
     "user": {
      "displayName": "Gabriel Miranda",
      "userId": "15559016933675739211"
     },
     "user_tz": 180
    },
    "id": "29016ae6-632f-4f7a-8255-ff9f22c9ee7b",
    "outputId": "186d329b-4b9b-4ac5-ffed-a24cf70902b5",
    "tags": []
   },
   "outputs": [
    {
     "name": "stdout",
     "output_type": "stream",
     "text": [
      "0: \u0000\n",
      "1: \u0001\n",
      "2: \u0002\n",
      "3: \u0003\n",
      "4: \u0004\n",
      "5: \u0005\n",
      "6: \u0006\n",
      "7: \u0007\n",
      "8:\n",
      "9: \t\n",
      "10: \n",
      "\n",
      "11: \u000b",
      "\n",
      "12: \f",
      "\n",
      "13: \n",
      "14: \u000e\n",
      "15: \u000f\n",
      "16: \u0010\n",
      "17: \u0011\n",
      "18: \u0012\n",
      "19: \u0013\n",
      "20: \u0014\n",
      "21: \u0015\n",
      "22: \u0016\n",
      "23: \u0017\n",
      "24: \u0018\n",
      "25: \u0019\n",
      "26: \u001a\n",
      "27: \u001b\n",
      "28: \u001c",
      "\n",
      "29: \u001d",
      "\n",
      "30: \u001e",
      "\n",
      "31: \u001f\n",
      "32:  \n",
      "33: !\n",
      "34: \"\n",
      "35: #\n",
      "36: $\n",
      "37: %\n",
      "38: &\n",
      "39: '\n",
      "40: (\n",
      "41: )\n",
      "42: *\n",
      "43: +\n",
      "44: ,\n",
      "45: -\n",
      "46: .\n",
      "47: /\n",
      "48: 0\n",
      "49: 1\n",
      "50: 2\n",
      "51: 3\n",
      "52: 4\n",
      "53: 5\n",
      "54: 6\n",
      "55: 7\n",
      "56: 8\n",
      "57: 9\n",
      "58: :\n",
      "59: ;\n",
      "60: <\n",
      "61: =\n",
      "62: >\n",
      "63: ?\n",
      "64: @\n",
      "65: A\n",
      "66: B\n",
      "67: C\n",
      "68: D\n",
      "69: E\n",
      "70: F\n",
      "71: G\n",
      "72: H\n",
      "73: I\n",
      "74: J\n",
      "75: K\n",
      "76: L\n",
      "77: M\n",
      "78: N\n",
      "79: O\n",
      "80: P\n",
      "81: Q\n",
      "82: R\n",
      "83: S\n",
      "84: T\n",
      "85: U\n",
      "86: V\n",
      "87: W\n",
      "88: X\n",
      "89: Y\n",
      "90: Z\n",
      "91: [\n",
      "92: \\\n",
      "93: ]\n",
      "94: ^\n",
      "95: _\n",
      "96: `\n",
      "97: a\n",
      "98: b\n",
      "99: c\n",
      "100: d\n",
      "101: e\n",
      "102: f\n",
      "103: g\n",
      "104: h\n",
      "105: i\n",
      "106: j\n",
      "107: k\n",
      "108: l\n",
      "109: m\n",
      "110: n\n",
      "111: o\n",
      "112: p\n",
      "113: q\n",
      "114: r\n",
      "115: s\n",
      "116: t\n",
      "117: u\n",
      "118: v\n",
      "119: w\n",
      "120: x\n",
      "121: y\n",
      "122: z\n",
      "123: {\n",
      "124: |\n",
      "125: }\n",
      "126: ~\n",
      "127: \n",
      "128: \n",
      "129: \n",
      "130: \n",
      "131: \n",
      "132: \n",
      "133: ",
      "\n",
      "134: \n",
      "135: \n",
      "136: \n",
      "137: \n",
      "138: \n",
      "139: \n",
      "140: \n",
      "141: \n",
      "142: \n",
      "143: \n",
      "144: \n",
      "145: \n",
      "146: \n",
      "147: \n",
      "148: \n",
      "149: \n",
      "150: \n",
      "151: \n",
      "152: \n",
      "153: \n",
      "154: \n",
      "155: \n",
      "156: \n",
      "157: \n",
      "158: \n",
      "159: \n",
      "160:  \n",
      "161: ¡\n",
      "162: ¢\n",
      "163: £\n",
      "164: ¤\n",
      "165: ¥\n",
      "166: ¦\n",
      "167: §\n",
      "168: ¨\n",
      "169: ©\n",
      "170: ª\n",
      "171: «\n",
      "172: ¬\n",
      "173: ­\n",
      "174: ®\n",
      "175: ¯\n",
      "176: °\n",
      "177: ±\n",
      "178: ²\n",
      "179: ³\n",
      "180: ´\n",
      "181: µ\n",
      "182: ¶\n",
      "183: ·\n",
      "184: ¸\n",
      "185: ¹\n",
      "186: º\n",
      "187: »\n",
      "188: ¼\n",
      "189: ½\n",
      "190: ¾\n",
      "191: ¿\n",
      "192: À\n",
      "193: Á\n",
      "194: Â\n",
      "195: Ã\n",
      "196: Ä\n",
      "197: Å\n",
      "198: Æ\n",
      "199: Ç\n",
      "200: È\n",
      "201: É\n",
      "202: Ê\n",
      "203: Ë\n",
      "204: Ì\n",
      "205: Í\n",
      "206: Î\n",
      "207: Ï\n",
      "208: Ð\n",
      "209: Ñ\n",
      "210: Ò\n",
      "211: Ó\n",
      "212: Ô\n",
      "213: Õ\n",
      "214: Ö\n",
      "215: ×\n",
      "216: Ø\n",
      "217: Ù\n",
      "218: Ú\n",
      "219: Û\n",
      "220: Ü\n",
      "221: Ý\n",
      "222: Þ\n",
      "223: ß\n",
      "224: à\n",
      "225: á\n",
      "226: â\n",
      "227: ã\n",
      "228: ä\n",
      "229: å\n",
      "230: æ\n",
      "231: ç\n",
      "232: è\n",
      "233: é\n",
      "234: ê\n",
      "235: ë\n",
      "236: ì\n",
      "237: í\n",
      "238: î\n",
      "239: ï\n",
      "240: ð\n",
      "241: ñ\n",
      "242: ò\n",
      "243: ó\n",
      "244: ô\n",
      "245: õ\n",
      "246: ö\n",
      "247: ÷\n",
      "248: ø\n",
      "249: ù\n",
      "250: ú\n",
      "251: û\n",
      "252: ü\n",
      "253: ý\n",
      "254: þ\n",
      "255: ÿ\n"
     ]
    }
   ],
   "source": [
    "for codigo in range(256):\n",
    "    caracter = chr(codigo)\n",
    "    print(f\"{codigo}: {caracter}\")"
   ]
  },
  {
   "cell_type": "code",
   "execution_count": 40,
   "id": "3977ca7d-91e1-432e-8f56-0be6c71a4740",
   "metadata": {
    "colab": {
     "base_uri": "https://localhost:8080/"
    },
    "executionInfo": {
     "elapsed": 69,
     "status": "ok",
     "timestamp": 1691447071988,
     "user": {
      "displayName": "Gabriel Miranda",
      "userId": "15559016933675739211"
     },
     "user_tz": 180
    },
    "id": "3977ca7d-91e1-432e-8f56-0be6c71a4740",
    "outputId": "c6d5c54f-9426-41a4-e6d9-88692bdd2a6a",
    "tags": []
   },
   "outputs": [
    {
     "name": "stdout",
     "output_type": "stream",
     "text": [
      "x: 120\n"
     ]
    }
   ],
   "source": [
    "# Fazendo o contrário\n",
    "\n",
    "a = \"x\"\n",
    "b = ord(a)\n",
    "print(f\"{a}: {b}\")"
   ]
  },
  {
   "cell_type": "markdown",
   "id": "32c72a3c-046c-481d-a10e-fec2240d02a5",
   "metadata": {
    "id": "32c72a3c-046c-481d-a10e-fec2240d02a5"
   },
   "source": [
    "### 1"
   ]
  },
  {
   "cell_type": "markdown",
   "id": "c81d11b8-0f6b-4d18-bc83-8cda3c2a24d3",
   "metadata": {
    "id": "c81d11b8-0f6b-4d18-bc83-8cda3c2a24d3",
    "tags": []
   },
   "source": [
    "Faça uma função que receba uma string e retorne um array numpy contendo os caracteres dessa string."
   ]
  },
  {
   "cell_type": "code",
   "execution_count": 41,
   "id": "794e12af-e3fe-4d0b-acbe-f29baab88e1c",
   "metadata": {
    "colab": {
     "base_uri": "https://localhost:8080/"
    },
    "executionInfo": {
     "elapsed": 49,
     "status": "ok",
     "timestamp": 1691447071991,
     "user": {
      "displayName": "Gabriel Miranda",
      "userId": "15559016933675739211"
     },
     "user_tz": 180
    },
    "id": "794e12af-e3fe-4d0b-acbe-f29baab88e1c",
    "outputId": "c6ba1817-7639-425b-87c1-ef0b977a1ecb",
    "tags": []
   },
   "outputs": [
    {
     "name": "stdout",
     "output_type": "stream",
     "text": [
      "['T' 'e' 's' 't' 'a' 'n' 'd' 'o']\n"
     ]
    }
   ],
   "source": [
    "import numpy as np\n",
    "\n",
    "def transformar_em_array(string):\n",
    "    array_string = np.array([])\n",
    "    for c in string:\n",
    "        array_string = np.append(array_string, c)\n",
    "    return array_string\n",
    "\n",
    "input_usuario = \"Testando\"\n",
    "print(transformar_em_array(input_usuario))"
   ]
  },
  {
   "cell_type": "markdown",
   "id": "b47a1ec2-0b3a-4b4f-853c-4142febcd61a",
   "metadata": {
    "id": "b47a1ec2-0b3a-4b4f-853c-4142febcd61a"
   },
   "source": [
    "### 2"
   ]
  },
  {
   "cell_type": "markdown",
   "id": "dd769ea5-41d8-486e-94dd-f6b8c744e545",
   "metadata": {
    "id": "dd769ea5-41d8-486e-94dd-f6b8c744e545"
   },
   "source": [
    "Uma das primeiras obras muldialmente publicadas de Dan Brown, autor do famoso `Código Da Vinci`, é o livro Fortaleza Digital. Neste livro, a personagem principal, Suzan Fletcher, é uma criptógrafa da NSA (National Security Agency). No livro, a personagem descreve como criar uma criptografia de forma simples :\n",
    " - 1. Substitua cada letra do alfabeto por um número. Assim, A = 1, B = 2, C = 3 e assim por diante. Logo a palavra ADA pode ser representada por 121.\n",
    "   - ADA => A = 1\n",
    "            D = 4\n",
    "            A = 1\n",
    "\n",
    "- 2. Para cada letra da palavra que deseja encriptar adicione 1.\n",
    " - ADA => A = 1 + 1 = 2 --> B\n",
    "          D = 4 + 1 = 5 --> E\n",
    "          A = 1 + 1 = 2 --> B\n",
    " - Assim, a palavra ADA codificada seria BEB.\n",
    "\n",
    "- 3. Para decriptar, basta fazer o processo inverso. Representando cada letra da palavra codificada como número, subtraindo 1 e mapeando para a letra correspondente.\n",
    "\n",
    " Faça um programa que receba uma entrada e aplique a criptografia como mostrada acima.<br>\n",
    "> Obs.: Considere os valores de cada letra como os valores da tabela ascii."
   ]
  },
  {
   "cell_type": "code",
   "execution_count": 42,
   "id": "6e1d8073-a10a-4ce0-80cc-2359ac3a2f31",
   "metadata": {
    "colab": {
     "base_uri": "https://localhost:8080/"
    },
    "executionInfo": {
     "elapsed": 455,
     "status": "ok",
     "timestamp": 1691447072400,
     "user": {
      "displayName": "Gabriel Miranda",
      "userId": "15559016933675739211"
     },
     "user_tz": 180
    },
    "id": "6e1d8073-a10a-4ce0-80cc-2359ac3a2f31",
    "outputId": "c37b76eb-b340-4904-b521-656ff79941c4",
    "tags": []
   },
   "outputs": [
    {
     "name": "stdout",
     "output_type": "stream",
     "text": [
      "Frase original: Testando codigo\n",
      "Frase criptografada: Uftuboep!dpejhp\n",
      "Frase descriptografada: Testando codigo\n",
      "[ True  True  True  True  True  True  True  True  True  True  True  True\n",
      "  True  True  True]\n"
     ]
    }
   ],
   "source": [
    "# Gabriel\n",
    "\n",
    "import numpy as np\n",
    "\n",
    "def transformar_em_array(string):\n",
    "    array_string = np.array([])\n",
    "    for c in string:\n",
    "        array_string = np.append(array_string, c)\n",
    "    return array_string\n",
    "\n",
    "def codigo_para_frase(array_numeros):\n",
    "    for n in array_numeros:\n",
    "        print(chr(n), end=\"\")\n",
    "\n",
    "def criptografar(array_frase):\n",
    "    array_codigo = np.array([], dtype=int)\n",
    "    array_criptografado = np.array([], dtype=int)\n",
    "    for letra in array_frase:\n",
    "        array_codigo = np.append(array_codigo, ord(letra))\n",
    "        array_criptografado = np.append(array_criptografado, ord(letra)+1)\n",
    "    return [array_codigo, array_criptografado]\n",
    "\n",
    "def descriptografar(array_criptografado):\n",
    "    array_descriptografado = np.array([], dtype=int)\n",
    "    for n in array_criptografado:\n",
    "        array_descriptografado = np.append(array_descriptografado, n-1)\n",
    "    return array_descriptografado\n",
    "\n",
    "\n",
    "minha_frase = \"Testando codigo\"\n",
    "print(\"Frase original:\", minha_frase)\n",
    "\n",
    "# Transformando a frase em array:\n",
    "array_frase = transformar_em_array(minha_frase)\n",
    "\n",
    "# Transformando o array_frase em um array de códigos (array_codigo) e na criptografia:\n",
    "array_codigo, criptografia = criptografar(array_frase)\n",
    "\n",
    "# Printando a frase criptografada:\n",
    "print(\"Frase criptografada:\", end=\" \")\n",
    "codigo_para_frase(criptografia)\n",
    "\n",
    "print()\n",
    "\n",
    "# Descriptografando:\n",
    "descriptografia = descriptografar(criptografia)\n",
    "\n",
    "print(\"Frase descriptografada:\", end=\" \")\n",
    "codigo_para_frase(descriptografia)\n",
    "\n",
    "print()\n",
    "\n",
    "# O array correspondente à minha frase é igual ao array descriptografado?\n",
    "print(array_codigo == descriptografia)"
   ]
  }
 ],
 "metadata": {
  "colab": {
   "provenance": []
  },
  "kernelspec": {
   "display_name": "Python 3 (ipykernel)",
   "language": "python",
   "name": "python3"
  },
  "language_info": {
   "codemirror_mode": {
    "name": "ipython",
    "version": 3
   },
   "file_extension": ".py",
   "mimetype": "text/x-python",
   "name": "python",
   "nbconvert_exporter": "python",
   "pygments_lexer": "ipython3",
   "version": "3.10.10"
  }
 },
 "nbformat": 4,
 "nbformat_minor": 5
}
