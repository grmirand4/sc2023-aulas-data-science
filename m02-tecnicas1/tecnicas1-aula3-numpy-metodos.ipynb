{
 "cells": [
  {
   "cell_type": "code",
   "execution_count": 3,
   "id": "7c89d276-a265-428d-8be4-098e33e97a3f",
   "metadata": {
    "tags": []
   },
   "outputs": [],
   "source": [
    "import numpy as np\n",
    "import matplotlib.pyplot as plt"
   ]
  },
  {
   "cell_type": "markdown",
   "id": "ac5933ff-c465-4343-8a3d-d5787de13ff7",
   "metadata": {},
   "source": [
    "#### np.linspace"
   ]
  },
  {
   "cell_type": "code",
   "execution_count": 4,
   "id": "d9856183-ac02-4df5-9216-29e9fde0cd3a",
   "metadata": {
    "tags": []
   },
   "outputs": [
    {
     "data": {
      "text/plain": [
       "[<matplotlib.lines.Line2D at 0x7f7b4a855e70>]"
      ]
     },
     "execution_count": 4,
     "metadata": {},
     "output_type": "execute_result"
    },
    {
     "data": {
      "image/png": "[encoded data removed]",
      "text/plain": [
       "<Figure size 640x480 with 1 Axes>"
      ]
     },
     "metadata": {},
     "output_type": "display_data"
    }
   ],
   "source": [
    "x = np.linspace(0,10,100)\n",
    "y = np.sqrt(x)\n",
    "\n",
    "plt.plot(x,y)"
   ]
  },
  {
   "cell_type": "markdown",
   "id": "5356056f-6d05-4762-bdfc-d378a9b9b035",
   "metadata": {},
   "source": [
    "#### np.where"
   ]
  },
  {
   "cell_type": "code",
   "execution_count": 24,
   "id": "491d242d-2eb8-4903-aa15-2ee81f79b6a8",
   "metadata": {
    "tags": []
   },
   "outputs": [
    {
     "data": {
      "text/plain": [
       "array([10, 10, 10, 10, 10, 10, 10, 10, 10, 10, 10, 10, 10, 10, 10, 10, 10,\n",
       "       10, 10, 10, 10, 10, 10, 10, 10, 10, 10, 10, 10, 10, 10, 10, 10, 10,\n",
       "       10, 10, 10, 10, 10, 10, 10, 10, 10, 10, 10, 10, 10, 10, 10, 10,  0,\n",
       "        0,  0,  0,  0,  0,  0,  0,  0,  0,  0,  0,  0,  0,  0,  0,  0,  0,\n",
       "        0,  0,  0,  0,  0,  0,  0,  0,  0,  0,  0,  0,  0,  0,  0,  0,  0,\n",
       "        0,  0,  0,  0,  0,  0,  0,  0,  0,  0,  0,  0,  0,  0,  0])"
      ]
     },
     "execution_count": 24,
     "metadata": {},
     "output_type": "execute_result"
    }
   ],
   "source": [
    "np.where(x>5, 0, 10)"
   ]
  },
  {
   "cell_type": "code",
   "execution_count": 25,
   "id": "0bcffab7-00b2-42ae-a545-d0f5178a8ea1",
   "metadata": {
    "tags": []
   },
   "outputs": [
    {
     "data": {
      "text/plain": [
       "array([ 5.05050505,  5.15151515,  5.25252525,  5.35353535,  5.45454545,\n",
       "        5.55555556,  5.65656566,  5.75757576,  5.85858586,  5.95959596,\n",
       "        6.06060606,  6.16161616,  6.26262626,  6.36363636,  6.46464646,\n",
       "        6.56565657,  6.66666667,  6.76767677,  6.86868687,  6.96969697,\n",
       "        7.07070707,  7.17171717,  7.27272727,  7.37373737,  7.47474747,\n",
       "        7.57575758,  7.67676768,  7.77777778,  7.87878788,  7.97979798,\n",
       "        8.08080808,  8.18181818,  8.28282828,  8.38383838,  8.48484848,\n",
       "        8.58585859,  8.68686869,  8.78787879,  8.88888889,  8.98989899,\n",
       "        9.09090909,  9.19191919,  9.29292929,  9.39393939,  9.49494949,\n",
       "        9.5959596 ,  9.6969697 ,  9.7979798 ,  9.8989899 , 10.        ])"
      ]
     },
     "execution_count": 25,
     "metadata": {},
     "output_type": "execute_result"
    }
   ],
   "source": [
    "# Usando como filtro:\n",
    "\n",
    "filtro = np.where(x>5, True, False)\n",
    "\n",
    "# Exibindo apenas o que é >5:\n",
    "\n",
    "x[filtro]"
   ]
  },
  {
   "cell_type": "markdown",
   "id": "1318e10f-4a31-4337-89b1-c70f0bba9d00",
   "metadata": {},
   "source": [
    "#### np.arange"
   ]
  },
  {
   "cell_type": "code",
   "execution_count": 11,
   "id": "0200da86-fdaf-47bd-b5dd-0e5c8b8d6007",
   "metadata": {
    "tags": []
   },
   "outputs": [
    {
     "data": {
      "text/plain": [
       "array([5, 7, 9])"
      ]
     },
     "execution_count": 11,
     "metadata": {},
     "output_type": "execute_result"
    }
   ],
   "source": [
    "np.arange(5,10,2)"
   ]
  },
  {
   "cell_type": "markdown",
   "id": "cfc670d6-cfe5-4cb2-9c7e-c86ce94eff87",
   "metadata": {},
   "source": [
    "#### np.concatenate"
   ]
  },
  {
   "cell_type": "code",
   "execution_count": 15,
   "id": "5285756b-4e45-4165-bf93-dbba0cb69c44",
   "metadata": {
    "tags": []
   },
   "outputs": [
    {
     "data": {
      "text/plain": [
       "array([0, 1, 2, 4, 5, 6])"
      ]
     },
     "execution_count": 15,
     "metadata": {},
     "output_type": "execute_result"
    }
   ],
   "source": [
    "A = np.arange(3)\n",
    "B = np.arange(4,7)\n",
    "np.concatenate((A,B))"
   ]
  },
  {
   "cell_type": "code",
   "execution_count": 26,
   "id": "bf4f0e2d-8fec-46b0-9f10-f1e2f7ff5262",
   "metadata": {
    "tags": []
   },
   "outputs": [
    {
     "data": {
      "text/plain": [
       "array([[ 1,  2,  7,  8,  9],\n",
       "       [ 3,  4, 10, 11, 12]])"
      ]
     },
     "execution_count": 26,
     "metadata": {},
     "output_type": "execute_result"
    }
   ],
   "source": [
    "# Com matrizes\n",
    "\n",
    "A = np.array([[1,2],[3,4]])\n",
    "B = np.array([[7,8,9],[10,11,12]])\n",
    "\n",
    "#np.concatenate([A,B], axis=0) # Erro, porque as matrizes tem número de colunas diferentes.\n",
    "np.concatenate([A,B], axis=1)"
   ]
  },
  {
   "cell_type": "markdown",
   "id": "8873503a-fb40-4841-8995-93d8bc953ec2",
   "metadata": {},
   "source": [
    "#### np.unique"
   ]
  },
  {
   "cell_type": "code",
   "execution_count": 30,
   "id": "0bad3609-4537-40be-83d4-3a87716c833f",
   "metadata": {
    "tags": []
   },
   "outputs": [
    {
     "data": {
      "text/plain": [
       "array([ 1,  2,  3,  5, 45])"
      ]
     },
     "execution_count": 30,
     "metadata": {},
     "output_type": "execute_result"
    }
   ],
   "source": [
    "meu_array = np.array([1,1,1,2,5,3,45,1,2,3,1])\n",
    "\n",
    "np.unique(meu_array)"
   ]
  },
  {
   "cell_type": "code",
   "execution_count": 36,
   "id": "a2d4a7e6-c975-441e-bfe4-5ac78f8950db",
   "metadata": {
    "tags": []
   },
   "outputs": [
    {
     "name": "stdout",
     "output_type": "stream",
     "text": [
      "1\n"
     ]
    }
   ],
   "source": [
    "# Usando para calcular a moda:\n",
    "\n",
    "valores, frequencias = np.unique(meu_array, return_counts=True)\n",
    "\n",
    "index_do_valor_mais_repetido = np.argmax(frequencias)\n",
    "\n",
    "# Moda:\n",
    "print(valores[index_do_valor_mais_repetido])"
   ]
  },
  {
   "cell_type": "markdown",
   "id": "7fdaa6f9-5d6a-454d-92a7-3d7f7712b7fa",
   "metadata": {},
   "source": [
    "#### reshape"
   ]
  },
  {
   "cell_type": "code",
   "execution_count": 45,
   "id": "91f5e84e-f51b-49c5-a488-025eba1db727",
   "metadata": {
    "tags": []
   },
   "outputs": [
    {
     "data": {
      "text/plain": [
       "array([[[  0,  10,  20],\n",
       "        [ 30,  40,  50],\n",
       "        [ 60,  70,  80]],\n",
       "\n",
       "       [[ 90, 100, 110],\n",
       "        [120, 130, 140],\n",
       "        [150, 160, 170]],\n",
       "\n",
       "       [[180, 190, 200],\n",
       "        [210, 220, 230],\n",
       "        [240, 250, 260]]])"
      ]
     },
     "execution_count": 45,
     "metadata": {},
     "output_type": "execute_result"
    }
   ],
   "source": [
    "A = np.arange(27)*10\n",
    "A.reshape(3,3,3)"
   ]
  },
  {
   "cell_type": "code",
   "execution_count": 46,
   "id": "54f67f59-6f01-4185-8b2b-f6de537e0527",
   "metadata": {
    "tags": []
   },
   "outputs": [
    {
     "data": {
      "text/plain": [
       "array([[0, 1, 2],\n",
       "       [3, 4, 5],\n",
       "       [6, 7, 8]])"
      ]
     },
     "execution_count": 46,
     "metadata": {},
     "output_type": "execute_result"
    }
   ],
   "source": [
    "B = np.arange(9)\n",
    "B.reshape(3,3)"
   ]
  }
 ],
 "metadata": {
  "kernelspec": {
   "display_name": "Python 3 (ipykernel)",
   "language": "python",
   "name": "python3"
  },
  "language_info": {
   "codemirror_mode": {
    "name": "ipython",
    "version": 3
   },
   "file_extension": ".py",
   "mimetype": "text/x-python",
   "name": "python",
   "nbconvert_exporter": "python",
   "pygments_lexer": "ipython3",
   "version": "3.10.10"
  }
 },
 "nbformat": 4,
 "nbformat_minor": 5
}
