{
 "cells": [
  {
   "cell_type": "markdown",
   "metadata": {
    "id": "6c_oKJuZ9Qp5"
   },
   "source": [
    "## Lógica de programação II - Dicionários\n",
    "\n",
    "Na aula de hoje, iremos explorar os seguintes tópicos em Python:\n",
    "- Dicionários\n"
   ]
  },
  {
   "cell_type": "markdown",
   "metadata": {
    "id": "1HUp71Tj9WbW"
   },
   "source": [
    "### Dicionários\n",
    "\n",
    "Uma outra estrutura de dados bem importante em Python são os **dicionários**.\n",
    "\n",
    "O dicionário também é uma **coleção de dados**.\n",
    "\n",
    "A diferença é que um dicionário é definido a partir de **dois elementos**: uma **chave** e um **valor**.\n",
    "\n",
    "- A **chave** é uma string ou int **(preferencialmente, já que ela pode ser de qualquer tipo)** que é utilizada como se fosse um índice, identificando os respectivos valores.\n",
    "\n",
    "- O **valor** pode ser qualquer dado: um int, um float, uma str, um bool, uma lista, uma tupla, outro dicionário...\n",
    "\n"
   ]
  },
  {
   "cell_type": "markdown",
   "metadata": {
    "id": "bcGKF2w4wh5y"
   },
   "source": [
    "Dicionários são indicados **entre chaves {}** segundo a estrutura:\n",
    "```python\n",
    "dicionario = {\"chave\": valor}\n",
    "```"
   ]
  },
  {
   "cell_type": "code",
   "execution_count": 1,
   "metadata": {
    "colab": {
     "base_uri": "https://localhost:8080/"
    },
    "executionInfo": {
     "elapsed": 9,
     "status": "ok",
     "timestamp": 1664732091708,
     "user": {
      "displayName": "Gilberto Kaihami",
      "userId": "07651446941847976228"
     },
     "user_tz": 180
    },
    "id": "1DvgGEEH8KQ1",
    "outputId": "535f285d-4dfe-4e96-f0d9-3c286136e2c5"
   },
   "outputs": [],
   "source": [
    "# Definindo um dicionário\n",
    "# Formato\n",
    "# {\n",
    "#    'chave': valor\n",
    "#    'chave': valor\n",
    "# }\n",
    "\n",
    "# Valores de um dicionário podem ser qualquer objeto!"
   ]
  },
  {
   "cell_type": "markdown",
   "metadata": {
    "id": "vQ9brwtMz-bL"
   },
   "source": [
    "Podemos acessar os valores do dicionário a partir das chaves"
   ]
  },
  {
   "cell_type": "code",
   "execution_count": 2,
   "metadata": {
    "colab": {
     "base_uri": "https://localhost:8080/",
     "height": 35
    },
    "executionInfo": {
     "elapsed": 10,
     "status": "ok",
     "timestamp": 1664732904718,
     "user": {
      "displayName": "Gilberto Kaihami",
      "userId": "07651446941847976228"
     },
     "user_tz": 180
    },
    "id": "O-nKlTdsw6pi",
    "outputId": "79cc184d-d774-4595-c81e-c1381e52889c"
   },
   "outputs": [],
   "source": [
    "alunos = {'nome': 'Gabriel',\n",
    "          'idade': 26,\n",
    "          'sexo': 'm',\n",
    "          'estado': 'BA',\n",
    "          'filhos': False,\n",
    "          'notas': {'p1': 10, 'p2': 8}\n",
    "         }"
   ]
  },
  {
   "cell_type": "markdown",
   "metadata": {
    "id": "mpgq6sQH0RG7"
   },
   "source": [
    "Poderíamos, ao invés de um dicionário, usar uma lista de listas, como abaixo.\n",
    "\n",
    "Porém, neste caso, fica bem menos intuitivo quando queremos selecionar os elementos que representam nomes ou cidades, porque somos obrigado a usar números para indexar, ao invés das chaves."
   ]
  },
  {
   "cell_type": "code",
   "execution_count": 3,
   "metadata": {
    "id": "QfHgva-S0L7I"
   },
   "outputs": [],
   "source": [
    "nomes = [\"Joãozinho\", \"Mariazinha\"]\n",
    "idades = [32, 25]\n",
    "alturas  = [1.8, 1.65]"
   ]
  },
  {
   "cell_type": "code",
   "execution_count": 4,
   "metadata": {
    "id": "ZLw7uvsk0TGS"
   },
   "outputs": [],
   "source": [
    "cadastro_listas = [\n",
    "    nomes,\n",
    "    idades,\n",
    "    alturas\n",
    "]"
   ]
  },
  {
   "cell_type": "code",
   "execution_count": 5,
   "metadata": {
    "colab": {
     "base_uri": "https://localhost:8080/"
    },
    "executionInfo": {
     "elapsed": 5,
     "status": "ok",
     "timestamp": 1664732978727,
     "user": {
      "displayName": "Gilberto Kaihami",
      "userId": "07651446941847976228"
     },
     "user_tz": 180
    },
    "id": "TWJgOKLI0UPc",
    "outputId": "2112b2ff-b359-460a-b613-a01b3dd33744"
   },
   "outputs": [
    {
     "data": {
      "text/plain": [
       "1.8"
      ]
     },
     "execution_count": 5,
     "metadata": {},
     "output_type": "execute_result"
    }
   ],
   "source": [
    "# Pegando a altura de Joãozinho utilizando listas de listas\n",
    "cadastro_listas[2][0]"
   ]
  },
  {
   "cell_type": "code",
   "execution_count": 6,
   "metadata": {
    "colab": {
     "base_uri": "https://localhost:8080/"
    },
    "executionInfo": {
     "elapsed": 4,
     "status": "ok",
     "timestamp": 1664733027081,
     "user": {
      "displayName": "Gilberto Kaihami",
      "userId": "07651446941847976228"
     },
     "user_tz": 180
    },
    "id": "eb6K7hvo0VxI",
    "outputId": "30686798-b52b-4d01-aa56-16aa6b2cc279"
   },
   "outputs": [],
   "source": [
    "# Pegando a altura de Joãozinho com dicionários\n",
    "\n",
    "cadastro_dic = {'nomes': nomes,\n",
    "                'idades': idades,\n",
    "                'alturas': alturas}"
   ]
  },
  {
   "cell_type": "code",
   "execution_count": 7,
   "metadata": {
    "tags": []
   },
   "outputs": [
    {
     "data": {
      "text/plain": [
       "0"
      ]
     },
     "execution_count": 7,
     "metadata": {},
     "output_type": "execute_result"
    }
   ],
   "source": [
    "cadastro_dic['nomes'].index(\"Joãozinho\")"
   ]
  },
  {
   "cell_type": "code",
   "execution_count": 8,
   "metadata": {
    "tags": []
   },
   "outputs": [
    {
     "data": {
      "text/plain": [
       "1.8"
      ]
     },
     "execution_count": 8,
     "metadata": {},
     "output_type": "execute_result"
    }
   ],
   "source": [
    "cadastro_dic['alturas'][cadastro_dic['nomes'].index(\"Joãozinho\")]"
   ]
  },
  {
   "cell_type": "markdown",
   "metadata": {
    "id": "NpZisa5H0kZL"
   },
   "source": [
    "Para adicionar elementos ao dicionário, não precisamos de uma função pronta (como o append das listas).\n",
    "\n",
    "Basta definir a nova chave como uma variável, e atribuir um novo valor a ela:\n"
   ]
  },
  {
   "cell_type": "code",
   "execution_count": 9,
   "metadata": {
    "colab": {
     "base_uri": "https://localhost:8080/"
    },
    "executionInfo": {
     "elapsed": 4,
     "status": "ok",
     "timestamp": 1664733049717,
     "user": {
      "displayName": "Gilberto Kaihami",
      "userId": "07651446941847976228"
     },
     "user_tz": 180
    },
    "id": "-vZ-tkF60XgT",
    "outputId": "7f58814c-f5c9-4628-c657-636c578592f0"
   },
   "outputs": [
    {
     "data": {
      "text/plain": [
       "{'nomes': ['Joãozinho', 'Mariazinha'],\n",
       " 'idades': [32, 25],\n",
       " 'alturas': [1.8, 1.65]}"
      ]
     },
     "execution_count": 9,
     "metadata": {},
     "output_type": "execute_result"
    }
   ],
   "source": [
    "cadastro_dic"
   ]
  },
  {
   "cell_type": "code",
   "execution_count": 10,
   "metadata": {
    "id": "8DgO2Jqq0icN"
   },
   "outputs": [],
   "source": [
    "# Adicionando uma nova chave ao dicionário `cadastro`\n",
    "\n",
    "cadastro_dic[\"filhos\"] = [True, False]"
   ]
  },
  {
   "cell_type": "code",
   "execution_count": 11,
   "metadata": {
    "colab": {
     "base_uri": "https://localhost:8080/"
    },
    "executionInfo": {
     "elapsed": 421,
     "status": "ok",
     "timestamp": 1664733088452,
     "user": {
      "displayName": "Gilberto Kaihami",
      "userId": "07651446941847976228"
     },
     "user_tz": 180
    },
    "id": "FWNzuDo40oPg",
    "outputId": "dfb19c2c-840d-4f73-d24f-54a8cf7ac18b"
   },
   "outputs": [
    {
     "data": {
      "text/plain": [
       "{'nomes': ['Joãozinho', 'Mariazinha'],\n",
       " 'idades': [32, 25],\n",
       " 'alturas': [1.8, 1.65],\n",
       " 'filhos': [True, False]}"
      ]
     },
     "execution_count": 11,
     "metadata": {},
     "output_type": "execute_result"
    }
   ],
   "source": [
    "cadastro_dic"
   ]
  },
  {
   "cell_type": "code",
   "execution_count": 12,
   "metadata": {
    "id": "PXojn4WL0pk6"
   },
   "outputs": [],
   "source": [
    "# Realizando a mesma operação com lista de listas\n",
    "\n",
    "cadastro_listas.append([True, False])"
   ]
  },
  {
   "cell_type": "code",
   "execution_count": 13,
   "metadata": {
    "colab": {
     "base_uri": "https://localhost:8080/"
    },
    "executionInfo": {
     "elapsed": 3,
     "status": "ok",
     "timestamp": 1664733117163,
     "user": {
      "displayName": "Gilberto Kaihami",
      "userId": "07651446941847976228"
     },
     "user_tz": 180
    },
    "id": "pEMvJr7p0z8r",
    "outputId": "75801273-66e2-4ff1-effb-92408599eb05"
   },
   "outputs": [
    {
     "data": {
      "text/plain": [
       "[['Joãozinho', 'Mariazinha'], [32, 25], [1.8, 1.65], [True, False]]"
      ]
     },
     "execution_count": 13,
     "metadata": {},
     "output_type": "execute_result"
    }
   ],
   "source": [
    "# Automaticamente, o elemento criado é adicionado ao fim!\n",
    "cadastro_listas"
   ]
  },
  {
   "cell_type": "markdown",
   "metadata": {
    "id": "csxv7X_A05pd"
   },
   "source": [
    "__Para apagar uma chave, utilize o \"pop\"__"
   ]
  },
  {
   "cell_type": "code",
   "execution_count": 14,
   "metadata": {
    "colab": {
     "base_uri": "https://localhost:8080/"
    },
    "executionInfo": {
     "elapsed": 5,
     "status": "ok",
     "timestamp": 1664733152517,
     "user": {
      "displayName": "Gilberto Kaihami",
      "userId": "07651446941847976228"
     },
     "user_tz": 180
    },
    "id": "dCFwhScu0-Hb",
    "outputId": "9a7f4adf-28da-4851-ca53-4f0eea87af4e"
   },
   "outputs": [
    {
     "data": {
      "text/plain": [
       "[True, False]"
      ]
     },
     "execution_count": 14,
     "metadata": {},
     "output_type": "execute_result"
    }
   ],
   "source": [
    "cadastro_dic.pop(\"filhos\")"
   ]
  },
  {
   "cell_type": "code",
   "execution_count": 15,
   "metadata": {
    "id": "BsqwvdV-01Ak"
   },
   "outputs": [
    {
     "data": {
      "text/plain": [
       "{'nomes': ['Joãozinho', 'Mariazinha'],\n",
       " 'idades': [32, 25],\n",
       " 'alturas': [1.8, 1.65]}"
      ]
     },
     "execution_count": 15,
     "metadata": {},
     "output_type": "execute_result"
    }
   ],
   "source": [
    "cadastro_dic"
   ]
  },
  {
   "cell_type": "markdown",
   "metadata": {
    "id": "BJNGUVJU1CtN"
   },
   "source": [
    "__Ou, utilize o \"del\"__"
   ]
  },
  {
   "cell_type": "code",
   "execution_count": 16,
   "metadata": {
    "colab": {
     "base_uri": "https://localhost:8080/"
    },
    "executionInfo": {
     "elapsed": 3,
     "status": "ok",
     "timestamp": 1664733189483,
     "user": {
      "displayName": "Gilberto Kaihami",
      "userId": "07651446941847976228"
     },
     "user_tz": 180
    },
    "id": "vxYS7YY809pE",
    "outputId": "0c270869-9e43-4be6-c58c-f01d7f83eabd"
   },
   "outputs": [],
   "source": [
    "cadastro_dic[\"filhos\"] = [True, False]"
   ]
  },
  {
   "cell_type": "code",
   "execution_count": 17,
   "metadata": {
    "tags": []
   },
   "outputs": [],
   "source": [
    "del cadastro_dic[\"filhos\"]"
   ]
  },
  {
   "cell_type": "code",
   "execution_count": 18,
   "metadata": {
    "tags": []
   },
   "outputs": [
    {
     "data": {
      "text/plain": [
       "{'nomes': ['Joãozinho', 'Mariazinha'],\n",
       " 'idades': [32, 25],\n",
       " 'alturas': [1.8, 1.65]}"
      ]
     },
     "execution_count": 18,
     "metadata": {},
     "output_type": "execute_result"
    }
   ],
   "source": [
    "cadastro_dic"
   ]
  },
  {
   "cell_type": "markdown",
   "metadata": {
    "id": "12x-17pt1MK-"
   },
   "source": [
    "Alterar os valores também é possível:\n",
    "\n",
    "Posso também alterar elementos individuais dos valores, os indexando\n",
    "\n",
    "(Lembre-se que, neste caso, os valores são listas! Então, devo indexá-las para alterar seus elementos!)"
   ]
  },
  {
   "cell_type": "code",
   "execution_count": 19,
   "metadata": {
    "id": "e5GyDPf91JN8"
   },
   "outputs": [],
   "source": [
    "cadastro_dic['idades'][0] = 18"
   ]
  },
  {
   "cell_type": "code",
   "execution_count": 20,
   "metadata": {
    "colab": {
     "base_uri": "https://localhost:8080/"
    },
    "executionInfo": {
     "elapsed": 4,
     "status": "ok",
     "timestamp": 1664733228304,
     "user": {
      "displayName": "Gilberto Kaihami",
      "userId": "07651446941847976228"
     },
     "user_tz": 180
    },
    "id": "tmxvbrea1RbQ",
    "outputId": "0c6cf733-081d-4baf-f1a5-e95b5d1416a1"
   },
   "outputs": [
    {
     "data": {
      "text/plain": [
       "{'nomes': ['Joãozinho', 'Mariazinha'],\n",
       " 'idades': [18, 25],\n",
       " 'alturas': [1.8, 1.65]}"
      ]
     },
     "execution_count": 20,
     "metadata": {},
     "output_type": "execute_result"
    }
   ],
   "source": [
    "cadastro_dic"
   ]
  },
  {
   "cell_type": "code",
   "execution_count": 21,
   "metadata": {
    "colab": {
     "base_uri": "https://localhost:8080/"
    },
    "executionInfo": {
     "elapsed": 5,
     "status": "ok",
     "timestamp": 1664733235279,
     "user": {
      "displayName": "Gilberto Kaihami",
      "userId": "07651446941847976228"
     },
     "user_tz": 180
    },
    "id": "-i6nv5XH1SkB",
    "outputId": "c08361c3-977b-400b-d133-c4ee985868b3"
   },
   "outputs": [],
   "source": [
    "# Alteração indevida de valor\n",
    "# cadastro_dic['nomes'] = 1\n",
    "# cadastro_dic"
   ]
  },
  {
   "cell_type": "code",
   "execution_count": 22,
   "metadata": {
    "colab": {
     "base_uri": "https://localhost:8080/"
    },
    "executionInfo": {
     "elapsed": 4,
     "status": "ok",
     "timestamp": 1664733242372,
     "user": {
      "displayName": "Gilberto Kaihami",
      "userId": "07651446941847976228"
     },
     "user_tz": 180
    },
    "id": "yMlIT0kD1USt",
    "outputId": "67e7ed27-b013-47b8-c83c-2b6b426702bd"
   },
   "outputs": [
    {
     "data": {
      "text/plain": [
       "{'nomes': ['Joãozinho', 'Mariazinha'],\n",
       " 'idades': [18, 25],\n",
       " 'alturas': [1.8, 1.65],\n",
       " 'cidades': ['Paris', 'Londres']}"
      ]
     },
     "execution_count": 22,
     "metadata": {},
     "output_type": "execute_result"
    }
   ],
   "source": [
    "cadastro_dic['cidades'] = ['Paris', 'Londres']\n",
    "cadastro_dic"
   ]
  },
  {
   "cell_type": "code",
   "execution_count": 23,
   "metadata": {
    "id": "Sc3sH_Er1XNx"
   },
   "outputs": [],
   "source": [
    "# Essa é uma forma de atenuar alterações indevidas: passando tuplas\n",
    "\n",
    "cadastro_dic['trabalho'] = ('Dentista', 'Cientista de dados')"
   ]
  },
  {
   "cell_type": "code",
   "execution_count": 24,
   "metadata": {
    "colab": {
     "base_uri": "https://localhost:8080/",
     "height": 166
    },
    "executionInfo": {
     "elapsed": 7,
     "status": "error",
     "timestamp": 1664733257983,
     "user": {
      "displayName": "Gilberto Kaihami",
      "userId": "07651446941847976228"
     },
     "user_tz": 180
    },
    "id": "FAl3AkBQ1YR_",
    "outputId": "39d999b0-e2eb-4e4c-8dca-248ab508a756"
   },
   "outputs": [],
   "source": [
    "# Se fizermos a seguinte tentativa de alteração:\n",
    "# cadastro_dic['trabalho'][0] = 'Engenheiro'\n",
    "# Teremos erro."
   ]
  },
  {
   "cell_type": "code",
   "execution_count": 25,
   "metadata": {
    "id": "COTHUf0o1Z1h"
   },
   "outputs": [],
   "source": [
    "# Porem uma alteração direta na chave é permitida:\n",
    "\n",
    "cadastro_dic['trabalho'] = ['Dentista', 'Cientista de dados']\n",
    "cadastro_dic['trabalho'][0] = 'Engenheiro'"
   ]
  },
  {
   "cell_type": "code",
   "execution_count": 26,
   "metadata": {
    "colab": {
     "base_uri": "https://localhost:8080/"
    },
    "executionInfo": {
     "elapsed": 2,
     "status": "ok",
     "timestamp": 1664733287376,
     "user": {
      "displayName": "Gilberto Kaihami",
      "userId": "07651446941847976228"
     },
     "user_tz": 180
    },
    "id": "ijVUCMX51bjJ",
    "outputId": "4a0d458e-80de-46bd-8794-429215ac5755"
   },
   "outputs": [
    {
     "data": {
      "text/plain": [
       "{'nomes': ['Joãozinho', 'Mariazinha'],\n",
       " 'idades': [18, 25],\n",
       " 'alturas': [1.8, 1.65],\n",
       " 'cidades': ['Paris', 'Londres'],\n",
       " 'trabalho': ['Engenheiro', 'Cientista de dados']}"
      ]
     },
     "execution_count": 26,
     "metadata": {},
     "output_type": "execute_result"
    }
   ],
   "source": [
    "cadastro_dic"
   ]
  },
  {
   "cell_type": "markdown",
   "metadata": {},
   "source": [
    "Para adicionar novos elementos aos valores (que são listas), usamos o append:"
   ]
  },
  {
   "cell_type": "code",
   "execution_count": 27,
   "metadata": {},
   "outputs": [],
   "source": [
    "cadastro_dic['nomes'].append('Fulano')\n",
    "cadastro_dic['idades'].append(22)\n",
    "cadastro_dic['cidades'].append('Rio')\n",
    "cadastro_dic['alturas'].append(1.75)\n",
    "cadastro_dic['trabalho'].append('Engenheiro')"
   ]
  },
  {
   "cell_type": "code",
   "execution_count": 29,
   "metadata": {
    "tags": []
   },
   "outputs": [
    {
     "data": {
      "text/plain": [
       "{'nomes': ['Joãozinho', 'Mariazinha', 'Fulano'],\n",
       " 'idades': [18, 25, 22],\n",
       " 'alturas': [1.8, 1.65, 1.75],\n",
       " 'cidades': ['Paris', 'Londres', 'Rio'],\n",
       " 'trabalho': ['Engenheiro', 'Cientista de dados', 'Engenheiro']}"
      ]
     },
     "execution_count": 29,
     "metadata": {},
     "output_type": "execute_result"
    }
   ],
   "source": [
    "cadastro_dic"
   ]
  },
  {
   "cell_type": "markdown",
   "metadata": {},
   "source": [
    "## Exercícios"
   ]
  },
  {
   "cell_type": "markdown",
   "metadata": {},
   "source": [
    "1. Adicione o par chave-valor \"cor\": \"azul: no dicionário `carro` abaixo"
   ]
  },
  {
   "cell_type": "code",
   "execution_count": 31,
   "metadata": {},
   "outputs": [
    {
     "name": "stdout",
     "output_type": "stream",
     "text": [
      "{'marca': 'Toyota', 'modelo': 'Yaris', 'ano': 1964, 'cor': 'azul'}\n"
     ]
    }
   ],
   "source": [
    "carro = {\n",
    "    'marca': \"Toyota\",\n",
    "    'modelo': \"Yaris\",\n",
    "    \"ano\": 1964\n",
    "}\n",
    "carro['cor'] = 'azul'\n",
    "\n",
    "print(carro)"
   ]
  },
  {
   "cell_type": "markdown",
   "metadata": {},
   "source": [
    "2. Remova o campo (chave) \"modelo\" do dicionário `carro` abaixo"
   ]
  },
  {
   "cell_type": "code",
   "execution_count": 32,
   "metadata": {},
   "outputs": [
    {
     "name": "stdout",
     "output_type": "stream",
     "text": [
      "{'marca': 'Toyota', 'ano': 1964}\n"
     ]
    }
   ],
   "source": [
    "carro = {\n",
    "    'marca': \"Toyota\",\n",
    "    'modelo': \"Yaris\",\n",
    "    \"ano\": 1964\n",
    "}\n",
    "\n",
    "del carro['modelo']\n",
    "\n",
    "print(carro)"
   ]
  },
  {
   "cell_type": "markdown",
   "metadata": {
    "id": "tAbWt3BE6a07"
   },
   "source": [
    "3. Modifique o ano de fabricação (campo `ano`) de 1964 para 2020 no dicionário abaixo"
   ]
  },
  {
   "cell_type": "code",
   "execution_count": 43,
   "metadata": {
    "id": "d32XGfjp6aPE"
   },
   "outputs": [
    {
     "name": "stdout",
     "output_type": "stream",
     "text": [
      "{'marca': 'Toyota', 'modelo': 'Yaris', 'ano': 2020}\n"
     ]
    }
   ],
   "source": [
    "carro = {\n",
    "    'marca': \"Toyota\",\n",
    "    'modelo': \"Yaris\",\n",
    "    \"ano\": 1964\n",
    "}\n",
    "\n",
    "carro['ano'] = 2020\n",
    "\n",
    "print(carro)"
   ]
  },
  {
   "cell_type": "markdown",
   "metadata": {},
   "source": [
    "-----------------------------------------------------------\n",
    "------------------------------------------------------------"
   ]
  },
  {
   "cell_type": "markdown",
   "metadata": {},
   "source": [
    "### Iterando dicionários"
   ]
  },
  {
   "cell_type": "markdown",
   "metadata": {
    "id": "QU1JDj161oSe"
   },
   "source": [
    "Dicionários podem ser percorridos com um for.\n",
    "\n",
    "Ao fazer isso, **as chaves serão percorridas**\n",
    "\n",
    "Porém, a partir da chave obtém-se o valor:"
   ]
  },
  {
   "cell_type": "code",
   "execution_count": 44,
   "metadata": {
    "colab": {
     "base_uri": "https://localhost:8080/"
    },
    "executionInfo": {
     "elapsed": 282,
     "status": "ok",
     "timestamp": 1664733325216,
     "user": {
      "displayName": "Gilberto Kaihami",
      "userId": "07651446941847976228"
     },
     "user_tz": 180
    },
    "id": "HzbJGz-s1m79",
    "outputId": "3de6f96a-3320-44b0-b5b1-37e102028471"
   },
   "outputs": [
    {
     "data": {
      "text/plain": [
       "{'nomes': ['Joãozinho', 'Mariazinha', 'Fulano'],\n",
       " 'idades': [18, 25, 22],\n",
       " 'alturas': [1.8, 1.65, 1.75],\n",
       " 'cidades': ['Paris', 'Londres', 'Rio'],\n",
       " 'trabalho': ['Engenheiro', 'Cientista de dados', 'Engenheiro']}"
      ]
     },
     "execution_count": 44,
     "metadata": {},
     "output_type": "execute_result"
    }
   ],
   "source": [
    "cadastro_dic"
   ]
  },
  {
   "cell_type": "code",
   "execution_count": 46,
   "metadata": {
    "colab": {
     "base_uri": "https://localhost:8080/"
    },
    "executionInfo": {
     "elapsed": 3,
     "status": "ok",
     "timestamp": 1664733330404,
     "user": {
      "displayName": "Gilberto Kaihami",
      "userId": "07651446941847976228"
     },
     "user_tz": 180
    },
    "id": "f7F4fj-81qPm",
    "outputId": "5179757e-7fba-438d-adcf-8814a5e331b0"
   },
   "outputs": [
    {
     "name": "stdout",
     "output_type": "stream",
     "text": [
      "nomes\n",
      "idades\n",
      "alturas\n",
      "cidades\n",
      "trabalho\n"
     ]
    }
   ],
   "source": [
    "for chave in cadastro_dic:\n",
    "    print(chave)"
   ]
  },
  {
   "cell_type": "code",
   "execution_count": 51,
   "metadata": {
    "colab": {
     "base_uri": "https://localhost:8080/"
    },
    "executionInfo": {
     "elapsed": 246,
     "status": "ok",
     "timestamp": 1664733338988,
     "user": {
      "displayName": "Gilberto Kaihami",
      "userId": "07651446941847976228"
     },
     "user_tz": 180
    },
    "id": "gEDb7xYU1rh3",
    "outputId": "093f17a6-fe41-4b24-eddb-54aa39a4193b"
   },
   "outputs": [
    {
     "name": "stdout",
     "output_type": "stream",
     "text": [
      "\"nomes\" refere-se a: ['Joãozinho', 'Mariazinha', 'Fulano']\n",
      "\"idades\" refere-se a: [18, 25, 22]\n",
      "\"alturas\" refere-se a: [1.8, 1.65, 1.75]\n",
      "\"cidades\" refere-se a: ['Paris', 'Londres', 'Rio']\n",
      "\"trabalho\" refere-se a: ['Engenheiro', 'Cientista de dados', 'Engenheiro']\n"
     ]
    }
   ],
   "source": [
    "# Percorrendo agora os valores:\n",
    "\n",
    "for chave in cadastro_dic:\n",
    "    print(f\"\\\"{chave}\\\" refere-se a: {cadastro_dic[chave]}\")"
   ]
  },
  {
   "cell_type": "code",
   "execution_count": 54,
   "metadata": {
    "colab": {
     "base_uri": "https://localhost:8080/"
    },
    "executionInfo": {
     "elapsed": 4,
     "status": "ok",
     "timestamp": 1664733365762,
     "user": {
      "displayName": "Gilberto Kaihami",
      "userId": "07651446941847976228"
     },
     "user_tz": 180
    },
    "id": "GGQ7TmiW1tmb",
    "outputId": "4480bd5c-81ca-49b0-ef09-21fd5658bdc2"
   },
   "outputs": [
    {
     "name": "stdout",
     "output_type": "stream",
     "text": [
      "nomes: Joãozinho, Mariazinha, Fulano, \n",
      "idades: 18, 25, 22, \n",
      "alturas: 1.8, 1.65, 1.75, \n",
      "cidades: Paris, Londres, Rio, \n",
      "trabalho: Engenheiro, Cientista de dados, Engenheiro, \n"
     ]
    }
   ],
   "source": [
    "# Outra forma:\n",
    "\n",
    "for chave in cadastro_dic:\n",
    "    print(f\"{chave}: \", end='')\n",
    "    for elemento in cadastro_dic[chave]:\n",
    "        print(elemento, end=', ')\n",
    "    print()"
   ]
  },
  {
   "cell_type": "markdown",
   "metadata": {},
   "source": [
    "Função isinstance(variável, tipo) verifica se uma variável é de um determinado tipo."
   ]
  },
  {
   "cell_type": "code",
   "execution_count": 58,
   "metadata": {
    "colab": {
     "base_uri": "https://localhost:8080/"
    },
    "executionInfo": {
     "elapsed": 4,
     "status": "ok",
     "timestamp": 1664733396465,
     "user": {
      "displayName": "Gilberto Kaihami",
      "userId": "07651446941847976228"
     },
     "user_tz": 180
    },
    "id": "NucmTQ1D1u8j",
    "outputId": "2298c84f-2609-4d76-d6ee-c4f31e786088"
   },
   "outputs": [
    {
     "name": "stdout",
     "output_type": "stream",
     "text": [
      "True\n"
     ]
    }
   ],
   "source": [
    "print(isinstance(cadastro_dic, dict))"
   ]
  },
  {
   "cell_type": "code",
   "execution_count": 59,
   "metadata": {
    "colab": {
     "base_uri": "https://localhost:8080/"
    },
    "executionInfo": {
     "elapsed": 319,
     "status": "ok",
     "timestamp": 1664733414385,
     "user": {
      "displayName": "Gilberto Kaihami",
      "userId": "07651446941847976228"
     },
     "user_tz": 180
    },
    "id": "Dw6tWesO1-VU",
    "outputId": "f6ccaa47-1b2d-4dfc-bc32-d9d2f1ce842c"
   },
   "outputs": [
    {
     "name": "stdout",
     "output_type": "stream",
     "text": [
      "nomes: Joãozinho, Mariazinha, Fulano, \n",
      "idades: 18, 25, 22, \n",
      "alturas: 1.8, 1.65, 1.75, \n",
      "cidades: Paris, Londres, Rio, \n",
      "trabalho: Engenheiro, Cientista de dados, Engenheiro, \n"
     ]
    }
   ],
   "source": [
    "# Assim, podemos adicionar uma condição para o caso de os valores do dicionários não serem listas:\n",
    "\n",
    "for chave in cadastro_dic:\n",
    "    print(f\"{chave}: \", end='')\n",
    "    if isinstance(cadastro_dic, dict):\n",
    "        for elemento in cadastro_dic[chave]:\n",
    "            print(elemento, end=', ')\n",
    "    else:\n",
    "        print(\"Não é lista\")\n",
    "    print()"
   ]
  },
  {
   "cell_type": "markdown",
   "metadata": {
    "id": "UDkFOm6j2M1o"
   },
   "source": [
    "Uma utilidade disso é para pegar os dados respectivos de cada elemento do cadastro:"
   ]
  },
  {
   "cell_type": "code",
   "execution_count": 62,
   "metadata": {
    "colab": {
     "base_uri": "https://localhost:8080/"
    },
    "executionInfo": {
     "elapsed": 413,
     "status": "ok",
     "timestamp": 1664733474289,
     "user": {
      "displayName": "Gilberto Kaihami",
      "userId": "07651446941847976228"
     },
     "user_tz": 180
    },
    "id": "hZUlReQq2HH0",
    "outputId": "bcd601e1-601a-47bd-f2a2-9b8b3db3534a"
   },
   "outputs": [
    {
     "name": "stdout",
     "output_type": "stream",
     "text": [
      "['Fulano', 22, 1.75, 'Rio', 'Engenheiro']\n"
     ]
    }
   ],
   "source": [
    "nome = \"Fulano\"\n",
    "dados = []\n",
    "\n",
    "for chave in cadastro_dic:\n",
    "    index = cadastro_dic['nomes'].index(nome)\n",
    "    dados.append(cadastro_dic[chave][index])\n",
    "\n",
    "print(dados)"
   ]
  },
  {
   "cell_type": "markdown",
   "metadata": {
    "id": "cB2rvA08271h"
   },
   "source": [
    "Mas também é possível acessar apenas os valores do dicionário com o método `values()`"
   ]
  },
  {
   "cell_type": "code",
   "execution_count": 65,
   "metadata": {
    "colab": {
     "base_uri": "https://localhost:8080/"
    },
    "executionInfo": {
     "elapsed": 236,
     "status": "ok",
     "timestamp": 1664733482903,
     "user": {
      "displayName": "Gilberto Kaihami",
      "userId": "07651446941847976228"
     },
     "user_tz": 180
    },
    "id": "iGjjzlqN2Ok4",
    "outputId": "dff813d9-0648-4893-f0db-e5033aa63849"
   },
   "outputs": [
    {
     "name": "stdout",
     "output_type": "stream",
     "text": [
      "['Fulano', 22, 1.75, 'Rio', 'Engenheiro']\n"
     ]
    }
   ],
   "source": [
    "# Também podemos fazer isso com o método .values()\n",
    "\n",
    "nome = \"Fulano\"\n",
    "dados = []\n",
    "\n",
    "for valor in cadastro_dic.values():\n",
    "    index = cadastro_dic['nomes'].index(nome)\n",
    "    dados.append(valor[index])\n",
    "\n",
    "print(dados)"
   ]
  },
  {
   "cell_type": "markdown",
   "metadata": {
    "id": "1N_AZ1Gu3JR2"
   },
   "source": [
    "É possível obter chaves e valores separadamente.\n",
    "\n",
    "Para isso, usamos os métodos `keys()` e `values()`."
   ]
  },
  {
   "cell_type": "markdown",
   "metadata": {
    "id": "k2rhkbaX3Np6"
   },
   "source": [
    "E esses valores podem ser transformados em listas com a função `list()`"
   ]
  },
  {
   "cell_type": "code",
   "execution_count": 70,
   "metadata": {
    "tags": []
   },
   "outputs": [
    {
     "data": {
      "text/plain": [
       "['nomes', 'idades', 'alturas', 'cidades', 'trabalho']"
      ]
     },
     "execution_count": 70,
     "metadata": {},
     "output_type": "execute_result"
    }
   ],
   "source": [
    "list(cadastro_dic.keys())"
   ]
  },
  {
   "cell_type": "code",
   "execution_count": 69,
   "metadata": {
    "colab": {
     "base_uri": "https://localhost:8080/"
    },
    "executionInfo": {
     "elapsed": 438,
     "status": "ok",
     "timestamp": 1664733722103,
     "user": {
      "displayName": "Gilberto Kaihami",
      "userId": "07651446941847976228"
     },
     "user_tz": 180
    },
    "id": "3jWUFaL63CXJ",
    "outputId": "e18ff5a8-de2f-4f04-d7cc-78f173ef8dee"
   },
   "outputs": [
    {
     "data": {
      "text/plain": [
       "[['Joãozinho', 'Mariazinha', 'Fulano'],\n",
       " [18, 25, 22],\n",
       " [1.8, 1.65, 1.75],\n",
       " ['Paris', 'Londres', 'Rio'],\n",
       " ['Engenheiro', 'Cientista de dados', 'Engenheiro']]"
      ]
     },
     "execution_count": 69,
     "metadata": {},
     "output_type": "execute_result"
    }
   ],
   "source": [
    "list(cadastro_dic.values())"
   ]
  },
  {
   "cell_type": "markdown",
   "metadata": {},
   "source": [
    "Equivalente ao enumerate() para dicionários:"
   ]
  },
  {
   "cell_type": "code",
   "execution_count": 73,
   "metadata": {
    "colab": {
     "base_uri": "https://localhost:8080/"
    },
    "executionInfo": {
     "elapsed": 254,
     "status": "ok",
     "timestamp": 1664733745266,
     "user": {
      "displayName": "Gilberto Kaihami",
      "userId": "07651446941847976228"
     },
     "user_tz": 180
    },
    "id": "A0BFLvWY3LHO",
    "outputId": "09d351c5-9738-4676-c9b6-fb3c02c0c578"
   },
   "outputs": [
    {
     "name": "stdout",
     "output_type": "stream",
     "text": [
      "nomes -> ['Joãozinho', 'Mariazinha', 'Fulano']\n",
      "idades -> [18, 25, 22]\n",
      "alturas -> [1.8, 1.65, 1.75]\n",
      "cidades -> ['Paris', 'Londres', 'Rio']\n",
      "trabalho -> ['Engenheiro', 'Cientista de dados', 'Engenheiro']\n"
     ]
    }
   ],
   "source": [
    "for chave, valores in cadastro_dic.items():\n",
    "    print(f\"{chave} -> {valores}\")"
   ]
  },
  {
   "cell_type": "markdown",
   "metadata": {
    "id": "7taUk-qH3pFj"
   },
   "source": [
    "**Verificando a existência de uma chave**\n",
    "\n",
    "Queremos adicionar uma nova chave no dicionário acima. Por exemplo renda.\n",
    "Há como inserir os três salários ao mesmo tempo como vimos acima.\n",
    "Mas por outro lado, podemos inserir de forma sequencial, um valor de cada vez\n",
    "\n",
    "Como realizar tal operação?"
   ]
  },
  {
   "cell_type": "code",
   "execution_count": 74,
   "metadata": {
    "colab": {
     "base_uri": "https://localhost:8080/"
    },
    "executionInfo": {
     "elapsed": 4,
     "status": "ok",
     "timestamp": 1664733969714,
     "user": {
      "displayName": "Gilberto Kaihami",
      "userId": "07651446941847976228"
     },
     "user_tz": 180
    },
    "id": "5KVUvZfu3jxv",
    "outputId": "11e1ecc3-2fc4-4ad8-a2d5-c7d297c9e27e"
   },
   "outputs": [
    {
     "data": {
      "text/plain": [
       "{'nomes': ['Joãozinho', 'Mariazinha', 'Fulano'],\n",
       " 'idades': [18, 25, 22],\n",
       " 'alturas': [1.8, 1.65, 1.75],\n",
       " 'cidades': ['Paris', 'Londres', 'Rio'],\n",
       " 'trabalho': ['Engenheiro', 'Cientista de dados', 'Engenheiro']}"
      ]
     },
     "execution_count": 74,
     "metadata": {},
     "output_type": "execute_result"
    }
   ],
   "source": [
    "cadastro_dic"
   ]
  },
  {
   "cell_type": "markdown",
   "metadata": {
    "id": "ZxwJH0Wd48KQ"
   },
   "source": [
    "O primeiro passo consiste em verificar se uma chave existe no dicionário"
   ]
  },
  {
   "cell_type": "code",
   "execution_count": 76,
   "metadata": {
    "colab": {
     "base_uri": "https://localhost:8080/"
    },
    "executionInfo": {
     "elapsed": 243,
     "status": "ok",
     "timestamp": 1664734355107,
     "user": {
      "displayName": "Gilberto Kaihami",
      "userId": "07651446941847976228"
     },
     "user_tz": 180
    },
    "id": "DIqQo01I5TVc",
    "outputId": "39a25210-31b2-481b-cad1-401f616c26cc"
   },
   "outputs": [
    {
     "name": "stdout",
     "output_type": "stream",
     "text": [
      "True\n",
      "False\n"
     ]
    }
   ],
   "source": [
    "# Quando perguntamos uma chave está presente na chaves de um dicionário:\n",
    "# Retornamos um booleano (True/False)\n",
    "# No caso de nomes retorna...\n",
    "print(\"nomes\" in cadastro_dic.keys())\n",
    "\n",
    "# No caso de rendas retorna...\n",
    "print(\"renda\" in cadastro_dic.keys())"
   ]
  },
  {
   "cell_type": "code",
   "execution_count": 80,
   "metadata": {
    "colab": {
     "base_uri": "https://localhost:8080/"
    },
    "executionInfo": {
     "elapsed": 10943,
     "status": "ok",
     "timestamp": 1664734433985,
     "user": {
      "displayName": "Gilberto Kaihami",
      "userId": "07651446941847976228"
     },
     "user_tz": 180
    },
    "id": "iGkwUcaD47VF",
    "outputId": "386ed000-c0aa-43cf-d540-d6a94f8546f1"
   },
   "outputs": [
    {
     "name": "stdin",
     "output_type": "stream",
     "text": [
      "Digite a renda de Joãozinho:  500\n",
      "Digite a renda de Mariazinha:  600\n",
      "Digite a renda de Fulano:  700\n"
     ]
    }
   ],
   "source": [
    "# cadastro de renda\n",
    "for nome in cadastro_dic[\"nomes\"]:\n",
    "    renda = float(input(f\"Digite a renda de {nome}: \"))\n",
    "  \n",
    "    # Verificando se já existe a coluna \"rendas\"\n",
    "    if \"rendas\" in cadastro_dic.keys():\n",
    "        cadastro_dic[\"rendas\"].append(renda)\n",
    "    else:\n",
    "        cadastro_dic[\"rendas\"] = [renda]"
   ]
  },
  {
   "cell_type": "code",
   "execution_count": 81,
   "metadata": {
    "colab": {
     "base_uri": "https://localhost:8080/"
    },
    "executionInfo": {
     "elapsed": 539,
     "status": "ok",
     "timestamp": 1664734444043,
     "user": {
      "displayName": "Gilberto Kaihami",
      "userId": "07651446941847976228"
     },
     "user_tz": 180
    },
    "id": "NVt_CLNS52VU",
    "outputId": "7883dc18-68e1-4ba8-faf8-592fb21c61e9"
   },
   "outputs": [
    {
     "data": {
      "text/plain": [
       "{'nomes': ['Joãozinho', 'Mariazinha', 'Fulano'],\n",
       " 'idades': [18, 25, 22],\n",
       " 'alturas': [1.8, 1.65, 1.75],\n",
       " 'cidades': ['Paris', 'Londres', 'Rio'],\n",
       " 'trabalho': ['Engenheiro', 'Cientista de dados', 'Engenheiro'],\n",
       " 'rendas': [500.0, 600.0, 700.0]}"
      ]
     },
     "execution_count": 81,
     "metadata": {},
     "output_type": "execute_result"
    }
   ],
   "source": [
    "cadastro_dic"
   ]
  },
  {
   "cell_type": "markdown",
   "metadata": {
    "id": "CpbAUaEO7o6M"
   },
   "source": [
    "Outra forma de acessar os valores do dicionário é utilizando o método `get`"
   ]
  },
  {
   "cell_type": "code",
   "execution_count": 82,
   "metadata": {
    "id": "ZxViAjXi7oOS"
   },
   "outputs": [],
   "source": [
    "carro = {\n",
    "    \"modelo\": \"Yaris\",\n",
    "    \"marca\": \"Toyota\",\n",
    "    \"ano\": 2020\n",
    "}"
   ]
  },
  {
   "cell_type": "code",
   "execution_count": 83,
   "metadata": {
    "colab": {
     "base_uri": "https://localhost:8080/",
     "height": 35
    },
    "executionInfo": {
     "elapsed": 7,
     "status": "ok",
     "timestamp": 1664818840238,
     "user": {
      "displayName": "Gilberto Kaihami",
      "userId": "07651446941847976228"
     },
     "user_tz": 180
    },
    "id": "F0HhcSmn7noA",
    "outputId": "5176b180-ceac-4424-d3b5-e7eafb8d6970"
   },
   "outputs": [
    {
     "data": {
      "text/plain": [
       "'Yaris'"
      ]
     },
     "execution_count": 83,
     "metadata": {},
     "output_type": "execute_result"
    }
   ],
   "source": [
    "carro.get(\"modelo\")"
   ]
  },
  {
   "cell_type": "code",
   "execution_count": 84,
   "metadata": {
    "tags": []
   },
   "outputs": [
    {
     "data": {
      "text/plain": [
       "['Joãozinho', 'Mariazinha', 'Fulano']"
      ]
     },
     "execution_count": 84,
     "metadata": {},
     "output_type": "execute_result"
    }
   ],
   "source": [
    "cadastro_dic.get(\"nomes\")"
   ]
  },
  {
   "cell_type": "markdown",
   "metadata": {
    "id": "B9Mb_FCv75pS"
   },
   "source": [
    "A vantagem do método `get` é quando tentamos acessar uma chave que não está presente no dicionário"
   ]
  },
  {
   "cell_type": "code",
   "execution_count": 92,
   "metadata": {
    "colab": {
     "base_uri": "https://localhost:8080/"
    },
    "executionInfo": {
     "elapsed": 5,
     "status": "ok",
     "timestamp": 1664818920956,
     "user": {
      "displayName": "Gilberto Kaihami",
      "userId": "07651446941847976228"
     },
     "user_tz": 180
    },
    "id": "bPiy5E5F75Jf",
    "outputId": "cf0b4db4-54a6-4857-c163-583e9e2576a5"
   },
   "outputs": [
    {
     "name": "stdout",
     "output_type": "stream",
     "text": [
      "None\n"
     ]
    }
   ],
   "source": [
    "# Chave cor não está presente no dicionário carro\n",
    "print(carro.get(\"cor\"))"
   ]
  },
  {
   "cell_type": "markdown",
   "metadata": {
    "id": "-z4uVNai8NJT"
   },
   "source": [
    "A estrutura do `get` é `get(<chave>, <default>)`\n",
    "\n",
    "Ou seja, podemos definir um valor padrão caso a chave não esteja presente"
   ]
  },
  {
   "cell_type": "markdown",
   "metadata": {
    "colab": {
     "base_uri": "https://localhost:8080/"
    },
    "executionInfo": {
     "elapsed": 5,
     "status": "ok",
     "timestamp": 1664818977306,
     "user": {
      "displayName": "Gilberto Kaihami",
      "userId": "07651446941847976228"
     },
     "user_tz": 180
    },
    "id": "7LAcCuL973ox",
    "outputId": "26c3600f-3e13-45df-e01b-311ceff03df1"
   },
   "source": [
    "### Exercícios"
   ]
  },
  {
   "cell_type": "markdown",
   "metadata": {
    "id": "6bPagFIe8fl7"
   },
   "source": [
    "1. Utilize o método `get` de dicionário para imprimir o valor da chave \"cor\" de ambos os dicionários (carro_toyota, carro_ford), e caso a chave não esteja presente retorne o valor preto."
   ]
  },
  {
   "cell_type": "code",
   "execution_count": 101,
   "metadata": {
    "id": "0Sc9tDuh8ZqM"
   },
   "outputs": [
    {
     "name": "stdout",
     "output_type": "stream",
     "text": [
      "Cor do dicionário \"carro_toyota\": preto\n",
      "Cor do dicionário \"carro_ford\": amarelo\n"
     ]
    }
   ],
   "source": [
    "def imprime_cor(dic: dict) -> str:\n",
    "    if dic.get(\"cor\") == None:\n",
    "        return \"preto\"\n",
    "    else:\n",
    "        return dic.get(\"cor\")\n",
    "\n",
    "\n",
    "carro_toyota = {\n",
    "    \"modelo\": \"Yaris\",\n",
    "    \"marca\": \"Toyota\",\n",
    "    \"ano\": 2020\n",
    "}\n",
    "\n",
    "carro_ford = {\n",
    "    \"modelo\": \"Mustang\",\n",
    "    \"marca\": \"Ford\",\n",
    "    \"ano\": 1964,\n",
    "    \"cor\": \"amarelo\"\n",
    "}\n",
    "\n",
    "print(f\"Cor do dicionário \\\"carro_toyota\\\": {imprime_cor(carro_toyota)}\")\n",
    "print(f\"Cor do dicionário \\\"carro_ford\\\": {imprime_cor(carro_ford)}\")"
   ]
  },
  {
   "cell_type": "code",
   "execution_count": 140,
   "metadata": {
    "tags": []
   },
   "outputs": [
    {
     "name": "stdout",
     "output_type": "stream",
     "text": [
      "preto\n",
      "amarelo\n"
     ]
    }
   ],
   "source": [
    "# Outra forma mais fácil:\n",
    "\n",
    "print(carro_toyota.get(\"cor\", \"preto\"))\n",
    "print(carro_ford.get(\"cor\", \"preto\"))"
   ]
  },
  {
   "cell_type": "markdown",
   "metadata": {
    "id": "EmoT0RZlBsd4"
   },
   "source": [
    "2. Escreva um programa que pergunte uma string para a pessoa usuária e retorne um dicionário cujas chaves são os caracteres da string de entrada e os valores a ocorrência de cada caracter na string.\n",
    "\n",
    "Por exemplo:\n",
    "\n",
    "Na string `language` o programa deve retornar o dicionário:\n",
    "\n",
    "```python\n",
    " {'l': 1, 'a': 2, 'n': 1, 'g': 2, 'u': 1, 'e': 1}\n",
    "```"
   ]
  },
  {
   "cell_type": "code",
   "execution_count": 124,
   "metadata": {
    "id": "yngUZ4bCBrqV"
   },
   "outputs": [
    {
     "name": "stdin",
     "output_type": "stream",
     "text": [
      "Digite uma palavra ou frase:  language\n"
     ]
    },
    {
     "name": "stdout",
     "output_type": "stream",
     "text": [
      "{'l': 1, 'a': 2, 'n': 1, 'g': 2, 'u': 1, 'e': 1}\n"
     ]
    }
   ],
   "source": [
    "entrada = input(\"Digite uma palavra ou frase: \")\n",
    "caracteres = []\n",
    "ocorrencias = []\n",
    "\n",
    "for char in entrada:\n",
    "    if not(char in caracteres):\n",
    "        caracteres.append(char)\n",
    "        ocorrencias.append(entrada.count(char))\n",
    "        \n",
    "dicionario_entrada = {}\n",
    "\n",
    "for i in range(len(caracteres)):\n",
    "    dicionario_entrada[caracteres[i]] = ocorrencias[i]\n",
    "\n",
    "print(dicionario_entrada)"
   ]
  },
  {
   "cell_type": "code",
   "execution_count": 144,
   "metadata": {
    "tags": []
   },
   "outputs": [
    {
     "name": "stdin",
     "output_type": "stream",
     "text": [
      "Digite uma palavra ou frase:  language\n"
     ]
    },
    {
     "name": "stdout",
     "output_type": "stream",
     "text": [
      "{'l': 1, 'a': 2, 'n': 1, 'g': 2, 'u': 1, 'e': 1}\n"
     ]
    }
   ],
   "source": [
    "# Maneira mais fácil\n",
    "\n",
    "entrada = input(\"Digite uma palavra ou frase: \")\n",
    "dic = dict((char, entrada.count(char)) for char in entrada)\n",
    "print(dic)"
   ]
  },
  {
   "cell_type": "markdown",
   "metadata": {
    "id": "Qwwm-peiCSKf"
   },
   "source": [
    "3. Escreva um programa que aceite um inteiro (k) e retorne um dicionário em que a chave é um inteiro de 1 até o valor (k) e os valores são o fatorial desses (1!, 2!, ..., k!).\n",
    "\n",
    "Por exemplo:  \n",
    "Entrada k=1\n",
    "```\n",
    "{1: 1!}\n",
    "```\n",
    "\n",
    "Entrada k=2\n",
    "```\n",
    "{1: 1!,\n",
    " 2: 2!}\n",
    "```\n",
    "\n",
    "Entrada k=5\n",
    "```\n",
    "{1: 1!,\n",
    " 2: 2!,\n",
    " 3: 3!,\n",
    " 4: 4!,\n",
    " 5: 5!}\n",
    "```"
   ]
  },
  {
   "cell_type": "code",
   "execution_count": 148,
   "metadata": {
    "colab": {
     "base_uri": "https://localhost:8080/"
    },
    "executionInfo": {
     "elapsed": 4,
     "status": "ok",
     "timestamp": 1665169226594,
     "user": {
      "displayName": "Gilberto Kaihami",
      "userId": "07651446941847976228"
     },
     "user_tz": 180
    },
    "id": "SLFdDBGh0fGr",
    "outputId": "8a2be80d-5a39-4857-c75a-a3edd785279c"
   },
   "outputs": [
    {
     "name": "stdin",
     "output_type": "stream",
     "text": [
      "Digite um número inteiro:  2\n"
     ]
    },
    {
     "name": "stdout",
     "output_type": "stream",
     "text": [
      "{1: 1, 2: 2}\n"
     ]
    }
   ],
   "source": [
    "def fatorial(n: int) -> int:\n",
    "    resultado = n\n",
    "    for i in range(1,n):\n",
    "        resultado *= i\n",
    "    return resultado\n",
    "\n",
    "numero = int(input(\"Digite um número inteiro: \"))\n",
    "dic_fatorial = {}\n",
    "\n",
    "for i in range(1,numero+1):\n",
    "    dic_fatorial[i] = fatorial(i)\n",
    "\n",
    "print(dic_fatorial)"
   ]
  },
  {
   "cell_type": "markdown",
   "metadata": {
    "id": "AWuaSDNgDVN9"
   },
   "source": [
    "4. Considere que temos um dicionário de tamanho N.\n",
    "\n",
    "Com os nomes sendo as chaves e as notas sendo os valores\n",
    "\n",
    "```\n",
    "{'Alex': [10, 5, 3],\n",
    " 'Maria': [5, 7, 6.5],\n",
    " ...}\n",
    "```\n",
    "Escreva um programa que pegue esse dicionário e retorne um novo dicionário com as chaves sendo os nomes dos estudantes e os valores a média de suas notas:\n",
    "\n",
    "```\n",
    "{'Alex': 6.0,\n",
    " 'Maria': 6.16\n",
    " ...\n",
    "```\n"
   ]
  },
  {
   "cell_type": "code",
   "execution_count": 138,
   "metadata": {
    "colab": {
     "base_uri": "https://localhost:8080/"
    },
    "executionInfo": {
     "elapsed": 5,
     "status": "ok",
     "timestamp": 1665169327571,
     "user": {
      "displayName": "Gilberto Kaihami",
      "userId": "07651446941847976228"
     },
     "user_tz": 180
    },
    "id": "ztWiPNbYD0oE",
    "outputId": "ae67e056-937e-4b1b-eda5-d9c2a477b214"
   },
   "outputs": [
    {
     "name": "stdout",
     "output_type": "stream",
     "text": [
      "{'Alex': 6.0, 'Maria': 6.166666666666667}\n"
     ]
    }
   ],
   "source": [
    "def media(notas: list) -> float:\n",
    "    soma = 0\n",
    "    for nota in notas:\n",
    "        soma += nota\n",
    "    return soma/len(notas)\n",
    "\n",
    "dc = {'Alex': [10, 5, 3], 'Maria': [5, 7, 6.5]}\n",
    "novo_dc = {}\n",
    "\n",
    "for chave in dc:\n",
    "    novo_dc[chave] = media(dc[chave])\n",
    "    \n",
    "print(novo_dc)"
   ]
  },
  {
   "cell_type": "code",
   "execution_count": 153,
   "metadata": {
    "tags": []
   },
   "outputs": [
    {
     "name": "stdout",
     "output_type": "stream",
     "text": [
      "{'Alex': 6.0, 'Maria': 6.17}\n"
     ]
    }
   ],
   "source": [
    "# Maneira mais fácil:\n",
    "\n",
    "dc = {'Alex': [10, 5, 3], 'Maria': [5, 7, 6.5]}\n",
    "novo_dc = {}\n",
    "\n",
    "for chave in dc:\n",
    "    novo_dc[chave] = round(sum(dc[chave])/len(dc[chave]), 2)\n",
    "\n",
    "print(novo_dc)"
   ]
  }
 ],
 "metadata": {
  "colab": {
   "authorship_tag": "ABX9TyPXbkehrudF6CWL2y9nw+Ni",
   "provenance": []
  },
  "kernelspec": {
   "display_name": "Python 3 (ipykernel)",
   "language": "python",
   "name": "python3"
  },
  "language_info": {
   "codemirror_mode": {
    "name": "ipython",
    "version": 3
   },
   "file_extension": ".py",
   "mimetype": "text/x-python",
   "name": "python",
   "nbconvert_exporter": "python",
   "pygments_lexer": "ipython3",
   "version": "3.10.10"
  }
 },
 "nbformat": 4,
 "nbformat_minor": 4
}
