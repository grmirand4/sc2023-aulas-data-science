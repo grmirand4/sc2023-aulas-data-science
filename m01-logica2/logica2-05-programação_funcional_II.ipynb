{
 "cells": [
  {
   "cell_type": "markdown",
   "metadata": {
    "id": "focKkoauo_Zk"
   },
   "source": [
    "## Lógica de programação II - Programação Funcional II\n",
    "\n",
    "Na aula de hoje iremos explorar os seguintes tópicos em Python:\n",
    "\n",
    "- Funções recursivas\n",
    "- Tratamento de exceções"
   ]
  },
  {
   "cell_type": "markdown",
   "metadata": {
    "id": "AR2qeD8UpK0t"
   },
   "source": [
    "### 1. Funções Recursivas\n",
    "\n",
    "Quando vamos codificar algo, há dois termos que surgem, **iterativo** e **recursivo**. Ambos os termos referem-se a dois tipos diferentes de estrutura de código, executar uma série de instruções sequenciais de forma repetida.\n",
    "\n",
    "#### O que iteração?\n",
    "Esse é o tipo de código que temos estudado até o momento!\n",
    "\n",
    "O código é estruturado em laços (`loops`) de repetição que executam uma série de instruções. Em outras palavras, a iteração utiliza de **estruturas de repetição**.\n",
    "\n",
    "Para relembrar essa estrutura de código, vamos pensar num algoritmo que irá pegar um livro baseado em uma pilha de livros. Nosso objeto é achar o livro de interesse, então começamos a pegar um livro de cada vez e verificamos uma condição, se achamos o livro de interesse ou não. Se achamos o livro finalizamos o nosso trabalho, caso contrário continuamos a procurar o livro um por um até que a pilha de livros se acabe.\n",
    "\n",
    "O pseudocódigo seria:\n",
    "- Contrua uma pilha de livros a ser procurado\n",
    "- Enquanto houver livros não vasculhados:\n",
    "  - Pegue um livro:\n",
    "    - Se o livro não for o livro de interesse, remova da pilha\n",
    "    - Se o livro for de interesse, finalizamos o trabalho\n",
    "  - Volte para a pilha de livros\n",
    "\n",
    "Um possível código seria:\n",
    "```python\n",
    "pilha_de_livros = [\n",
    "    'Senhor dos aneis', 'Guerra dos mundos', '1984', 'A revolução dos bichos'\n",
    "]\n",
    "\n",
    "livro_de_interesse = '1984'\n",
    "\n",
    "def ache_livro_iterativo(pilha_de_livros, livro_de_interesse):\n",
    "  pilha_livros_busca = pilha_de_livros[::]\n",
    "  while pilha_livros_busca:\n",
    "    livro_da_pilha = pilha_livros_busca.pop()\n",
    "    print('Tamanho da pilha original:', len(pilha_de_livros))\n",
    "    print('Tamanho da pilha de busca:', len(pilha_livros_busca))\n",
    "    print('Analisando o livro da pilha:', livro_da_pilha)\n",
    "    if livro_da_pilha == livro_de_interesse:\n",
    "      return livro_de_interesse\n",
    "    else:\n",
    "      print('Continuando a busca')\n",
    "      pass\n",
    "    print('-'*32)\n",
    "  print('Livro não encontrado')\n",
    "  return 'Livro não encontrado'\n",
    "\n",
    "ache_livro_iterativo(pilha_de_livros, livro_de_interesse)\n",
    "```\n",
    "Nesse caso temos uma busca linear (o `while`) e podemos perceber que no pior caso, o livro de interesse não está presente na pilha, iremos percorrer todos os livros. Esse é um dos motivos de programas iterativos serem de fácil análise de algoritmo, no caso linear.\n",
    "\n",
    "#### Recursão\n",
    "De primeira vista, a recursão pode parecer difícil de entender.\n",
    "\n",
    "De acordo com o dicionário, recrusão é: \"Propriedade de função, programa ou afim que se pode invocar a si próprio.\". Ou seja, a recursão ocorre quando uma função chama ela mesma no programa.  Qualquer função que faz a sua própria chamada é conhecida como função recursiva.\n",
    "\n",
    "Porém para evitar uma recursão infinita, a função precisa de **um caso base**. A função recursiva termina uma vez que a condição base é identificada.\n",
    "\n",
    "Voltando para o problema dos livros, podemos reescrever o mesmo de forma recursiva!\n",
    "\n",
    "```\n",
    "pilha_de_livros = [\n",
    "    'Senhor dos aneis', 'Guerra dos mundos', '1984', 'A revolução dos bichos'\n",
    "]\n",
    "\n",
    "livro_de_interesse = 'A pequena sereia'\n",
    "\n",
    "def ache_livro_recursivo(pilha_de_livros, livro_de_interesse):\n",
    "  print(pilha_de_livros)\n",
    "  pilha_livros_busca = pilha_de_livros[::]\n",
    "  if len(pilha_livros_busca) == 0:\n",
    "    return 'Livro não encontrado'\n",
    "  livro_da_pilha = pilha_livros_busca.pop()\n",
    "  if livro_da_pilha == livro_de_interesse:\n",
    "    return livro_de_interesse\n",
    "  else:\n",
    "    return ache_livro_recursivo(pilha_livros_busca, livro_de_interesse)\n",
    "\n",
    "ache_livro_recursivo(pilha_de_livros, livro_de_interesse)\n",
    "```\n",
    "\n",
    "#### **Diferenças entre recursão e iteração**\n",
    "Implementação:\n",
    "- Recursiva: Implementada com uma função chamando ela mesma\n",
    "- Iterativa: Implementada utilizando laços\n",
    "\n",
    "Estado:\n",
    "- Recursiva: Definida por valores armazenadas em uma pilha\n",
    "- Iterativa: Definida por variáveis de controle\n",
    "\n",
    "Sintaxe:\n",
    "- Recursiva: Pelo menos uma condição de terminação é necessária\n",
    "- Iterativa: Inclui inicialização, condicionais, e incremento/decrescim das variáveis de controle\n",
    "\n",
    "Terminação\n",
    "- Recursiva: Condição definida no corpo da função\n",
    "- Iterativa: Definida dentro laço\n",
    "\n",
    "Tamanho do código:\n",
    "- Recursiva: Menor que iterativa\n",
    "- Iterativa: Maior\n",
    "\n",
    "Velocidade:\n",
    "- Recursiva: Mais devagar devido ao overhead de manter os stacks de função\n",
    "- Iterativa: Mais rápida\n",
    "\n",
    "Complexidade de tempo:\n",
    "- Recursiva: Maior compelxidade de tempo\n",
    "- Iterativa: Mais fácil de ser cálculada olhando os loops de execução. Em geral, apresentam menor complexidade de tempo\n",
    "\n",
    "Utilização de memória:\n",
    "- Recursiva: Mais memoria é requerida\n",
    "- Iterativa: Menos memoria é requerida.\n",
    "\n",
    "\n",
    "#### Quando utilizar recursão vs iteração?\n",
    "Essa é uma pergunta que assombra a maior parte das pessoas programadoras. A maior parte dos códigos podem ser escritas tanto de forma recursiva como iterativa. Entretanto, em alguns casos a recursão pode ser mais intuitiva que a iteração.\n",
    "\n",
    "Vantagens de utilizar Funções Recursivas:\n",
    "\n",
    "    Simplicidade de código: Em muitos casos, o uso de funções recursivas pode levar a um código mais conciso e fácil de entender. A recursão permite que você resolva problemas complexos dividindo-os em subproblemas menores e resolvendo-os de maneira recursiva.\n",
    "\n",
    "    Resolução de problemas complexos: Algoritmos recursivos são especialmente úteis quando o problema pode ser dividido em subproblemas semelhantes ao problema original. Isso facilita a implementação da solução, pois você pode resolver cada subproblema chamando a própria função recursivamente.\n",
    "\n",
    "    Redução do tempo de desenvolvimento: Em alguns casos, a implementação de uma solução recursiva pode ser mais rápida do que uma solução iterativa, especialmente quando a estrutura do problema se encaixa naturalmente com a abordagem recursiva.\n",
    "\n",
    "    Facilidade em lidar com estruturas de dados recursivas: Alguns tipos de dados, como árvores e listas ligadas, têm estruturas recursivas. Nesses casos, a implementação de funções recursivas pode ser mais intuitiva e mais próxima da definição do problema."
   ]
  },
  {
   "cell_type": "code",
   "execution_count": 1,
   "metadata": {
    "tags": []
   },
   "outputs": [],
   "source": [
    "def ache_livro_iterativo(pilha_de_livros, livro_de_interesse):\n",
    "  pilha_livros_busca = pilha_de_livros[::]\n",
    "  while pilha_livros_busca:\n",
    "    livro_da_pilha = pilha_livros_busca.pop()\n",
    "    print('Tamanho da pilha original:', len(pilha_de_livros))\n",
    "    print('Tamanho da pilha de busca:', len(pilha_livros_busca))\n",
    "    print('Analisando o livro da pilha:', livro_da_pilha)\n",
    "    if livro_da_pilha == livro_de_interesse:\n",
    "      return livro_de_interesse\n",
    "    else:\n",
    "      print('Continuando a busca')\n",
    "      pass\n",
    "    print('-'*32)\n",
    "  print('Livro não encontrado')\n",
    "  return 'Livro não encontrado'"
   ]
  },
  {
   "cell_type": "code",
   "execution_count": 2,
   "metadata": {
    "tags": []
   },
   "outputs": [],
   "source": [
    "def ache_livro_recursivo(pilha_de_livros, livro_de_interesse):\n",
    "  print(pilha_de_livros)\n",
    "  pilha_livros_busca = pilha_de_livros[::]\n",
    "  if len(pilha_livros_busca) == 0:\n",
    "    return 'Livro não encontrado'\n",
    "  livro_da_pilha = pilha_livros_busca.pop()\n",
    "  if livro_da_pilha == livro_de_interesse:\n",
    "    return livro_de_interesse\n",
    "  else:\n",
    "    return ache_livro_recursivo(pilha_livros_busca, livro_de_interesse)"
   ]
  },
  {
   "cell_type": "code",
   "execution_count": 3,
   "metadata": {
    "colab": {
     "base_uri": "https://localhost:8080/",
     "height": 122
    },
    "id": "xYRrL_vJvOPK",
    "outputId": "d49a69e9-32dd-4119-c413-2c336118bc53",
    "tags": []
   },
   "outputs": [
    {
     "name": "stdout",
     "output_type": "stream",
     "text": [
      "Tamanho da pilha original: 4\n",
      "Tamanho da pilha de busca: 3\n",
      "Analisando o livro da pilha: A revolução dos bichos\n",
      "Continuando a busca\n",
      "--------------------------------\n",
      "Tamanho da pilha original: 4\n",
      "Tamanho da pilha de busca: 2\n",
      "Analisando o livro da pilha: 1984\n",
      "Continuando a busca\n",
      "--------------------------------\n",
      "Tamanho da pilha original: 4\n",
      "Tamanho da pilha de busca: 1\n",
      "Analisando o livro da pilha: Guerra dos mundos\n",
      "Continuando a busca\n",
      "--------------------------------\n",
      "Tamanho da pilha original: 4\n",
      "Tamanho da pilha de busca: 0\n",
      "Analisando o livro da pilha: Senhor dos aneis\n",
      "Continuando a busca\n",
      "--------------------------------\n",
      "Livro não encontrado\n"
     ]
    },
    {
     "data": {
      "text/plain": [
       "'Livro não encontrado'"
      ]
     },
     "execution_count": 3,
     "metadata": {},
     "output_type": "execute_result"
    }
   ],
   "source": [
    "pilha_de_livros = [\n",
    "    'Senhor dos aneis', 'Guerra dos mundos', '1984', 'A revolução dos bichos'\n",
    "]\n",
    "\n",
    "livro_de_interesse = 'A pequena sereia'\n",
    "\n",
    "# Função iterativa\n",
    "\n",
    "ache_livro_iterativo(pilha_de_livros, livro_de_interesse)"
   ]
  },
  {
   "cell_type": "code",
   "execution_count": 4,
   "metadata": {
    "tags": []
   },
   "outputs": [
    {
     "name": "stdout",
     "output_type": "stream",
     "text": [
      "['Senhor dos aneis', 'Guerra dos mundos', '1984', 'A revolução dos bichos']\n",
      "['Senhor dos aneis', 'Guerra dos mundos', '1984']\n",
      "['Senhor dos aneis', 'Guerra dos mundos']\n",
      "['Senhor dos aneis']\n",
      "[]\n"
     ]
    },
    {
     "data": {
      "text/plain": [
       "'Livro não encontrado'"
      ]
     },
     "execution_count": 4,
     "metadata": {},
     "output_type": "execute_result"
    }
   ],
   "source": [
    "#Função Recursiva\n",
    "\n",
    "ache_livro_recursivo(pilha_de_livros, livro_de_interesse)"
   ]
  },
  {
   "cell_type": "markdown",
   "metadata": {},
   "source": [
    "Comparando tempo da Função Iterativa e da Função Recursiva:"
   ]
  },
  {
   "cell_type": "code",
   "execution_count": 5,
   "metadata": {
    "id": "IGFmMfr8o11d"
   },
   "outputs": [],
   "source": [
    "def factorial_iterative(n):\n",
    "    k = 1\n",
    "    result = 1\n",
    "    while k <= n:\n",
    "        result *= k\n",
    "        print(k, result)\n",
    "        k+=1\n",
    "\n",
    "    return result"
   ]
  },
  {
   "cell_type": "code",
   "execution_count": 6,
   "metadata": {
    "colab": {
     "base_uri": "https://localhost:8080/"
    },
    "id": "LUtsmU7ntdEc",
    "outputId": "59d58597-342d-45d9-e133-ba593cd9e4d9"
   },
   "outputs": [
    {
     "name": "stdout",
     "output_type": "stream",
     "text": [
      "1 1\n",
      "2 2\n",
      "3 6\n",
      "4 24\n",
      "5 120\n",
      "6 720\n",
      "7 5040\n",
      "8 40320\n",
      "9 362880\n",
      "10 3628800\n",
      "CPU times: user 0 ns, sys: 465 µs, total: 465 µs\n",
      "Wall time: 357 µs\n"
     ]
    },
    {
     "data": {
      "text/plain": [
       "3628800"
      ]
     },
     "execution_count": 6,
     "metadata": {},
     "output_type": "execute_result"
    }
   ],
   "source": [
    "%%time\n",
    "factorial_iterative(10)"
   ]
  },
  {
   "cell_type": "code",
   "execution_count": 7,
   "metadata": {
    "id": "sQpfWfwgpWko"
   },
   "outputs": [],
   "source": [
    "def factorial_recursive(n, result = ''):\n",
    "    print(n)\n",
    "    if n == 0 or n == 1:\n",
    "        result += \"* 1\"\n",
    "        print(result)\n",
    "        return 1\n",
    "    else:\n",
    "        if result == \"\":\n",
    "          result += f\"{n}\"\n",
    "        else:\n",
    "          result += f\"* {n}\"\n",
    "    return n * factorial_recursive(n-1, result)"
   ]
  },
  {
   "cell_type": "code",
   "execution_count": 8,
   "metadata": {
    "colab": {
     "base_uri": "https://localhost:8080/"
    },
    "id": "IBVzX1PUpX1T",
    "outputId": "4efa7447-e5fb-47b1-abd6-5efd3103d1b8"
   },
   "outputs": [
    {
     "name": "stdout",
     "output_type": "stream",
     "text": [
      "10\n",
      "9\n",
      "8\n",
      "7\n",
      "6\n",
      "5\n",
      "4\n",
      "3\n",
      "2\n",
      "1\n",
      "10* 9* 8* 7* 6* 5* 4* 3* 2* 1\n",
      "3628800\n",
      "CPU times: user 387 µs, sys: 0 ns, total: 387 µs\n",
      "Wall time: 252 µs\n"
     ]
    }
   ],
   "source": [
    "%%time\n",
    "a = factorial_recursive(10)\n",
    "print(a)"
   ]
  },
  {
   "cell_type": "markdown",
   "metadata": {
    "id": "9SQVrLXm41Wu"
   },
   "source": [
    "### 2. Tratamento de exceções\n",
    "\n",
    "Em diversos momentos geramos alguns erros provocados por operações inválidas nos programas desenvolvidos até o momento.\n",
    "\n",
    "Por exemplo, ao alterar o valor de uma string para inteiro.\n",
    "```\n",
    "string = 'ola'\n",
    "numero = int(string)\n",
    "```\n",
    "Resultando num `ValueError`.\n",
    "\n",
    "Por sua vez, ao tentarmos dividir um valor por zero:\n",
    "```\n",
    "x = 1/0\n",
    "```\n",
    "\n",
    "Resulta num erro de `ZeroDivisionError`.\n",
    "\n",
    "Nos dois casos acima, temos um nome, `ValueError` e `ZeroDivisionError` indicando quais foram os erros levantados.\n",
    "\n",
    "É importante notar que estes não são erros de lógica e de sintaxe, e são conhecidos como **exceções**.\n",
    "\n",
    "Para uma lista completa das exceções temos [a documentação oficial](https://docs.python.org/pt-br/3/library/exceptions.html)"
   ]
  },
  {
   "cell_type": "markdown",
   "metadata": {
    "id": "crq2CDoV52_n"
   },
   "source": [
    "### Try/except\n",
    "\n",
    "Para lidar com as exceções podemos criar blocos lógicos do tipo `try`/`except`.\n",
    "\n",
    "Permitindo que a tratativa do erro seja feita de forma correta, possibilitando que este seja operacionalizado de forma correta."
   ]
  },
  {
   "cell_type": "code",
   "execution_count": 9,
   "metadata": {
    "colab": {
     "base_uri": "https://localhost:8080/",
     "height": 271
    },
    "id": "e5XbYeVx52wQ",
    "outputId": "22fcefca-6917-4b28-f811-12c2f4667fc0"
   },
   "outputs": [
    {
     "name": "stdout",
     "output_type": "stream",
     "text": [
      "3\n",
      "2\n",
      "1\n",
      "0\n"
     ]
    },
    {
     "ename": "ZeroDivisionError",
     "evalue": "division by zero",
     "output_type": "error",
     "traceback": [
      "\u001b[0;31m---------------------------------------------------------------------------\u001b[0m",
      "\u001b[0;31mZeroDivisionError\u001b[0m                         Traceback (most recent call last)",
      "Cell \u001b[0;32mIn[9], line 5\u001b[0m\n\u001b[1;32m      3\u001b[0m \u001b[38;5;28;01mfor\u001b[39;00m n \u001b[38;5;129;01min\u001b[39;00m \u001b[38;5;28mrange\u001b[39m(\u001b[38;5;241m3\u001b[39m, \u001b[38;5;241m-\u001b[39m\u001b[38;5;241m3\u001b[39m, \u001b[38;5;241m-\u001b[39m\u001b[38;5;241m1\u001b[39m):\n\u001b[1;32m      4\u001b[0m     \u001b[38;5;28mprint\u001b[39m(n)\n\u001b[0;32m----> 5\u001b[0m     divisao \u001b[38;5;241m=\u001b[39m \u001b[38;5;241;43m10\u001b[39;49m\u001b[38;5;241;43m/\u001b[39;49m\u001b[43mn\u001b[49m\n",
      "\u001b[0;31mZeroDivisionError\u001b[0m: division by zero"
     ]
    }
   ],
   "source": [
    "# Gerando um erro de divisão por zero\n",
    "\n",
    "for n in range(3, -3, -1):\n",
    "    print(n)\n",
    "    divisao = 10/n"
   ]
  },
  {
   "cell_type": "markdown",
   "metadata": {
    "id": "BKmNF8i_6fhy"
   },
   "source": [
    "Tratando esse erro, usando o try/except"
   ]
  },
  {
   "cell_type": "code",
   "execution_count": 10,
   "metadata": {
    "colab": {
     "base_uri": "https://localhost:8080/"
    },
    "id": "5Tq6FIp852mG",
    "outputId": "83288345-543b-489a-f5bf-5b84e585194c"
   },
   "outputs": [
    {
     "name": "stdout",
     "output_type": "stream",
     "text": [
      "3\n",
      "2\n",
      "1\n",
      "0\n",
      "Divisão por 0.\n",
      "-1\n",
      "-2\n"
     ]
    }
   ],
   "source": [
    "# Gerando um erro de divisão por zero\n",
    "\n",
    "for n in range(3, -3, -1):\n",
    "    try:\n",
    "        print(n)\n",
    "        divisao = 10/n\n",
    "    except ZeroDivisionError:\n",
    "        print(\"Divisão por 0.\")\n",
    "        "
   ]
  },
  {
   "cell_type": "markdown",
   "metadata": {
    "id": "dirGmlbH64i5"
   },
   "source": [
    "Podemos encadear erros que podem ser tratados e não tratados!"
   ]
  },
  {
   "cell_type": "code",
   "execution_count": 11,
   "metadata": {
    "colab": {
     "base_uri": "https://localhost:8080/",
     "height": 409
    },
    "id": "ss75IROR619f",
    "outputId": "3d48b0db-2088-4009-f885-0a6678378ce2"
   },
   "outputs": [
    {
     "name": "stdout",
     "output_type": "stream",
     "text": [
      "-10.00\n",
      "-2.00\n",
      "Divisão por zero.\n",
      "5.88\n",
      "Input errado.\n",
      "1.11\n"
     ]
    }
   ],
   "source": [
    "divisao = lambda a,b: a/b\n",
    "\n",
    "lista = [-1, -5, 0, 1.7, \"coisa\", 9]\n",
    "\n",
    "for elemento in lista:\n",
    "    try:\n",
    "        div = divisao(10, elemento)\n",
    "        print(\"{:.2f}\".format(div))\n",
    "    except ZeroDivisionError:\n",
    "        print(\"Divisão por zero.\")\n",
    "    except TypeError:\n",
    "        print(\"Input errado.\")"
   ]
  },
  {
   "cell_type": "markdown",
   "metadata": {
    "id": "mJddpwOP7XnS"
   },
   "source": [
    "No exemplo acima temos um erro de `TypeError`.\n",
    "\n",
    "Podemos colocar outro bloco de except permitindo que esse erro não ocorra."
   ]
  },
  {
   "cell_type": "markdown",
   "metadata": {
    "id": "1ejw1jql7y-L"
   },
   "source": [
    "Por fim podemos inserir um except genêrico para todos os erros finalizando o código!"
   ]
  },
  {
   "cell_type": "code",
   "execution_count": 12,
   "metadata": {
    "colab": {
     "base_uri": "https://localhost:8080/"
    },
    "id": "Rn3JCtu_40-A",
    "outputId": "ed710a1e-9d43-499f-dfe6-bb09734c8fd3"
   },
   "outputs": [
    {
     "name": "stdout",
     "output_type": "stream",
     "text": [
      "-10.00\n",
      "-2.00\n",
      "Divisão por zero.\n",
      "5.88\n",
      "Erro desconhecido.\n",
      "1.11\n"
     ]
    }
   ],
   "source": [
    "divisao = lambda a,b: a/b\n",
    "\n",
    "lista = [-1, -5, 0, 1.7, \"coisa\", 9]\n",
    "\n",
    "for elemento in lista:\n",
    "    try:\n",
    "        div = divisao(10, elemento)\n",
    "        print(\"{:.2f}\".format(div))\n",
    "    except ZeroDivisionError:\n",
    "        print(\"Divisão por zero.\")\n",
    "    except:\n",
    "        print(\"Erro desconhecido.\")"
   ]
  },
  {
   "cell_type": "markdown",
   "metadata": {
    "id": "PKl_Ablu8TOy"
   },
   "source": [
    "Podemos adicionar um `else` no `try/except`, sendo que o else somente é executado se o bloco `try` não ocorra um erro"
   ]
  },
  {
   "cell_type": "code",
   "execution_count": 13,
   "metadata": {
    "colab": {
     "base_uri": "https://localhost:8080/"
    },
    "id": "ioNruRhO8NiU",
    "outputId": "014844af-9592-4035-b2a1-ee06c9bbe527"
   },
   "outputs": [
    {
     "name": "stdout",
     "output_type": "stream",
     "text": [
      "ZeroDivisionError\n",
      "1/0 = infinito\n",
      "------------------------------\n",
      "1/2 = 0.5\n",
      "------------------------------\n",
      "1/3 = 0.3333333333333333\n",
      "------------------------------\n",
      "TypeError\n",
      "input invalido\n",
      "------------------------------\n",
      "1/5 = 0.2\n",
      "------------------------------\n"
     ]
    }
   ],
   "source": [
    "divisao = lambda a, b: a/b\n",
    "\n",
    "lista = [0, 2, 3, 'a', 5]\n",
    "for ele in lista:\n",
    "    try:\n",
    "        div = divisao(1, ele)\n",
    "    except ZeroDivisionError:\n",
    "        print('ZeroDivisionError')\n",
    "        print(f'{1}/{ele} = infinito')\n",
    "    except TypeError:\n",
    "        print('TypeError')\n",
    "        print('input invalido')\n",
    "    except Exception:\n",
    "        print(f'{1}/{ele} = erro desconhecido')\n",
    "    else:\n",
    "        print(f'{1}/{ele} = {div}')\n",
    "    print('-'*30)"
   ]
  },
  {
   "cell_type": "markdown",
   "metadata": {
    "id": "UR7zbBCaIqem"
   },
   "source": [
    "Por fim temos o `finally`, ou finalmente, esse bloco sempre é executado independentemente se ocorreu um erro ou não.\n",
    "\n",
    "Por fim temos:\n",
    "\n",
    "```\n",
    "try:\n",
    "  Tente algum código\n",
    "except:\n",
    "  Caso ocorra um erro no bloco acima\n",
    "else:\n",
    "  Execute caso não tenha excessão\n",
    "finally:\n",
    "  Sempre execute esse código\n",
    "```\n",
    "\n",
    "O `finally` é muito utilizado para fechar arquivos abertos ou conexões (com banco de dados), uma vez que ele sempre será executado"
   ]
  },
  {
   "cell_type": "code",
   "execution_count": 14,
   "metadata": {
    "colab": {
     "base_uri": "https://localhost:8080/"
    },
    "id": "okwCgJqBIdeU",
    "outputId": "284cc111-20e4-417f-d76f-2ebd255151bd"
   },
   "outputs": [
    {
     "name": "stdout",
     "output_type": "stream",
     "text": [
      "ZeroDivisionError\n",
      "1/0 = infinito\n",
      "Tenha uma bom dia\n",
      "------------------------------\n",
      "1/2 = 0.5\n",
      "Tenha uma bom dia\n",
      "------------------------------\n",
      "1/3 = 0.3333333333333333\n",
      "Tenha uma bom dia\n",
      "------------------------------\n",
      "TypeError\n",
      "input invalido\n",
      "Tenha uma bom dia\n",
      "------------------------------\n",
      "1/5 = 0.2\n",
      "Tenha uma bom dia\n",
      "------------------------------\n"
     ]
    }
   ],
   "source": [
    "divisao = lambda a, b: a/b\n",
    "\n",
    "lista = [0, 2, 3, 'a', 5]\n",
    "for ele in lista:\n",
    "    try:\n",
    "        div = divisao(1, ele)\n",
    "    except ZeroDivisionError:\n",
    "        print('ZeroDivisionError')\n",
    "        print(f'{1}/{ele} = infinito')\n",
    "    except TypeError:\n",
    "        print('TypeError')\n",
    "        print('input invalido')\n",
    "    except Exception:\n",
    "        print(f'{1}/{ele} = erro desconhecido')\n",
    "    else:\n",
    "        print(f'{1}/{ele} = {div}')\n",
    "    finally:\n",
    "        print('Tenha uma bom dia')\n",
    "    print('-'*30)"
   ]
  },
  {
   "cell_type": "markdown",
   "metadata": {
    "id": "cuRuuXD7Jg_O"
   },
   "source": [
    "Apesar de ser muito útil o `try`/`except` para evitar erros, muitas vezes queremos que algum erro ocorra no nosso sistema, indicando um comportamento inesperado!"
   ]
  },
  {
   "cell_type": "code",
   "execution_count": 15,
   "metadata": {
    "colab": {
     "base_uri": "https://localhost:8080/",
     "height": 340
    },
    "id": "6MhyXydNJghp",
    "outputId": "5a9018e0-c931-4851-a016-0815296c6eb3"
   },
   "outputs": [],
   "source": [
    "def cadastrar_salario(salario, salarios):\n",
    "    if salario <= 0:\n",
    "        raise ValueError(\"O salário deve ser maior do que zero.\")\n",
    "    salarios.append(salario)\n",
    "    return salarios"
   ]
  },
  {
   "cell_type": "code",
   "execution_count": 16,
   "metadata": {
    "tags": []
   },
   "outputs": [
    {
     "ename": "ValueError",
     "evalue": "O salário deve ser maior do que zero.",
     "output_type": "error",
     "traceback": [
      "\u001b[0;31m---------------------------------------------------------------------------\u001b[0m",
      "\u001b[0;31mValueError\u001b[0m                                Traceback (most recent call last)",
      "Cell \u001b[0;32mIn[16], line 2\u001b[0m\n\u001b[1;32m      1\u001b[0m salarios \u001b[38;5;241m=\u001b[39m []\n\u001b[0;32m----> 2\u001b[0m \u001b[38;5;28mprint\u001b[39m(\u001b[43mcadastrar_salario\u001b[49m\u001b[43m(\u001b[49m\u001b[38;5;241;43m-\u001b[39;49m\u001b[38;5;241;43m50\u001b[39;49m\u001b[43m,\u001b[49m\u001b[43m \u001b[49m\u001b[43msalarios\u001b[49m\u001b[43m)\u001b[49m)\n",
      "Cell \u001b[0;32mIn[15], line 3\u001b[0m, in \u001b[0;36mcadastrar_salario\u001b[0;34m(salario, salarios)\u001b[0m\n\u001b[1;32m      1\u001b[0m \u001b[38;5;28;01mdef\u001b[39;00m \u001b[38;5;21mcadastrar_salario\u001b[39m(salario, salarios):\n\u001b[1;32m      2\u001b[0m     \u001b[38;5;28;01mif\u001b[39;00m salario \u001b[38;5;241m<\u001b[39m\u001b[38;5;241m=\u001b[39m \u001b[38;5;241m0\u001b[39m:\n\u001b[0;32m----> 3\u001b[0m         \u001b[38;5;28;01mraise\u001b[39;00m \u001b[38;5;167;01mValueError\u001b[39;00m(\u001b[38;5;124m\"\u001b[39m\u001b[38;5;124mO salário deve ser maior do que zero.\u001b[39m\u001b[38;5;124m\"\u001b[39m)\n\u001b[1;32m      4\u001b[0m     salarios\u001b[38;5;241m.\u001b[39mappend(salario)\n\u001b[1;32m      5\u001b[0m     \u001b[38;5;28;01mreturn\u001b[39;00m salarios\n",
      "\u001b[0;31mValueError\u001b[0m: O salário deve ser maior do que zero."
     ]
    }
   ],
   "source": [
    "salarios = []\n",
    "print(cadastrar_salario(-50, salarios))"
   ]
  },
  {
   "cell_type": "markdown",
   "metadata": {
    "id": "SoHd9mP-K082"
   },
   "source": [
    "### Criando exceções customizadas"
   ]
  },
  {
   "cell_type": "markdown",
   "metadata": {},
   "source": [
    "Exceções geralmente são implementadas através de classes. O \"nome\" do erro é o nome da classe de cada exceção. Existe uma exceção genérica chamada de Exception. Quando usamos raise Exception(mensagem), estamos lançando essa exceção genérica junto de uma mensagem de erro personalizada."
   ]
  },
  {
   "cell_type": "markdown",
   "metadata": {},
   "source": [
    "O problema da nossa abordagem é que por utilizarmos uma exceção genérica não teremos como adicionar um **except** específico para nossa mensagem. Vamos criar nossa própria classe para escolher o nome do nosso erro. Exceções personalizadas geralmente herdam da classe **Exception**. Fazemos isso adicionando **(Exception)** após o nome de nossa classe."
   ]
  },
  {
   "cell_type": "code",
   "execution_count": 35,
   "metadata": {
    "tags": []
   },
   "outputs": [
    {
     "data": {
      "text/plain": [
       "50"
      ]
     },
     "execution_count": 35,
     "metadata": {},
     "output_type": "execute_result"
    }
   ],
   "source": [
    "# Explicação sobre classes:\n",
    "\n",
    "class Retangulo():\n",
    "    def __init__(self, altura, base):\n",
    "        self.altura = altura\n",
    "        self.base = base\n",
    "    def area(self):\n",
    "        return self.base * self.altura\n",
    "    \n",
    "# Criando um objeto:\n",
    "retangulo1 = Retangulo(5,10)\n",
    "\n",
    "# Usando um método:\n",
    "retangulo1.area()"
   ]
  },
  {
   "cell_type": "code",
   "execution_count": 36,
   "metadata": {
    "id": "8IeFInxGK0Kc"
   },
   "outputs": [],
   "source": [
    "class SalarioInvalido(Exception):\n",
    "    def __init__(self, salario, mensagem='Salários devem ser positivos!'):\n",
    "        self.salario = salario\n",
    "        self.message = mensagem\n",
    "        super().__init__(self.message)"
   ]
  },
  {
   "cell_type": "markdown",
   "metadata": {},
   "source": [
    "A função super() é frequentemente usada dentro do método de uma subclasse para acessar o método da mesma nome presente na classe pai. Isso permite que a subclasse estenda ou modifique o comportamento do método original sem precisar reescrevê-lo completamente."
   ]
  },
  {
   "cell_type": "code",
   "execution_count": 38,
   "metadata": {
    "id": "dNHkXWgWKKHk"
   },
   "outputs": [],
   "source": [
    "salarios = []\n",
    "\n",
    "def cadastrar_salario(salario):\n",
    "    if salario <= 0:\n",
    "        raise SalarioInvalido(salario)\n",
    "    \n",
    "    salarios.append(salario)"
   ]
  },
  {
   "cell_type": "code",
   "execution_count": 39,
   "metadata": {},
   "outputs": [
    {
     "ename": "SalarioInvalido",
     "evalue": "Salários devem ser positivos!",
     "output_type": "error",
     "traceback": [
      "\u001b[0;31m---------------------------------------------------------------------------\u001b[0m",
      "\u001b[0;31mSalarioInvalido\u001b[0m                           Traceback (most recent call last)",
      "Cell \u001b[0;32mIn[39], line 1\u001b[0m\n\u001b[0;32m----> 1\u001b[0m \u001b[43mcadastrar_salario\u001b[49m\u001b[43m(\u001b[49m\u001b[38;5;241;43m-\u001b[39;49m\u001b[38;5;241;43m2\u001b[39;49m\u001b[43m)\u001b[49m\n",
      "Cell \u001b[0;32mIn[38], line 5\u001b[0m, in \u001b[0;36mcadastrar_salario\u001b[0;34m(salario)\u001b[0m\n\u001b[1;32m      3\u001b[0m \u001b[38;5;28;01mdef\u001b[39;00m \u001b[38;5;21mcadastrar_salario\u001b[39m(salario):\n\u001b[1;32m      4\u001b[0m     \u001b[38;5;28;01mif\u001b[39;00m salario \u001b[38;5;241m<\u001b[39m\u001b[38;5;241m=\u001b[39m \u001b[38;5;241m0\u001b[39m:\n\u001b[0;32m----> 5\u001b[0m         \u001b[38;5;28;01mraise\u001b[39;00m SalarioInvalido(salario)\n\u001b[1;32m      7\u001b[0m     salarios\u001b[38;5;241m.\u001b[39mappend(salario)\n",
      "\u001b[0;31mSalarioInvalido\u001b[0m: Salários devem ser positivos!"
     ]
    }
   ],
   "source": [
    "cadastrar_salario(-2)"
   ]
  },
  {
   "cell_type": "code",
   "execution_count": 41,
   "metadata": {
    "colab": {
     "base_uri": "https://localhost:8080/"
    },
    "id": "ftOU12tbMF4Y",
    "outputId": "e052e40b-c7a6-4d73-d949-4ce79f73145d",
    "tags": []
   },
   "outputs": [
    {
     "name": "stdin",
     "output_type": "stream",
     "text": [
      "Digite o salário do funcionário:  30\n",
      "Digite o salário do funcionário:  -2\n"
     ]
    },
    {
     "name": "stdout",
     "output_type": "stream",
     "text": [
      "Salários devem ser positivos!\n",
      "O salário problemático foi: -2.0\n"
     ]
    },
    {
     "name": "stdin",
     "output_type": "stream",
     "text": [
      "Digite o salário do funcionário:  56565\n"
     ]
    },
    {
     "name": "stdout",
     "output_type": "stream",
     "text": [
      "[30.0, 56565.0]\n"
     ]
    }
   ],
   "source": [
    "salarios = []\n",
    "\n",
    "def cadastrar_salario(salario):\n",
    "    if salario <= 0:\n",
    "        raise SalarioInvalido(salario)\n",
    "    \n",
    "    salarios.append(salario)\n",
    "    \n",
    "    \n",
    "for i in range(3):\n",
    "    salario = float(input('Digite o salário do funcionário: '))\n",
    "    \n",
    "    try:\n",
    "        cadastrar_salario(salario)\n",
    "    except SalarioInvalido as excecao:\n",
    "        print(excecao) # \"Salários devem ser positivos!\"\n",
    "        print(f'O salário problemático foi: {excecao.salario}')        \n",
    "    except:\n",
    "        print('Exceção genérica')\n",
    "        \n",
    "print(salarios)"
   ]
  }
 ],
 "metadata": {
  "colab": {
   "provenance": []
  },
  "kernelspec": {
   "display_name": "Python 3 (ipykernel)",
   "language": "python",
   "name": "python3"
  },
  "language_info": {
   "codemirror_mode": {
    "name": "ipython",
    "version": 3
   },
   "file_extension": ".py",
   "mimetype": "text/x-python",
   "name": "python",
   "nbconvert_exporter": "python",
   "pygments_lexer": "ipython3",
   "version": "3.10.10"
  }
 },
 "nbformat": 4,
 "nbformat_minor": 4
}
