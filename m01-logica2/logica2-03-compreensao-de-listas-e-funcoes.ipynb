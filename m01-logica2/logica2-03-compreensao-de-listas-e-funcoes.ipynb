{
 "cells": [
  {
   "cell_type": "markdown",
   "metadata": {
    "id": "QQ3dr1t_PxnO"
   },
   "source": [
    "## Lógica de programação II - Compreensão de listas e Funções\n",
    "\n",
    "Na aula de hoje, iremos explorar os seguintes tópicos em Python:\n",
    "- Compreensão de listas\n",
    "- Compreensão de dicionários\n",
    "- Funções com parâmetros variáveis\n",
    "- Funções com parâmetros opcionais"
   ]
  },
  {
   "cell_type": "markdown",
   "metadata": {
    "id": "Hijw7hatRDOo"
   },
   "source": [
    "__________\n",
    "### Compreensão de listas\n",
    "\n",
    "\n",
    "Uma estrutura extremamente útil em python é a __compreensão de listas__ (list comprehension), com a qual é possível construir listas novas a partir de outras listas de forma bem condensada!\n",
    "\n",
    "A sintaxe é: \n",
    "\n",
    "```python\n",
    "[operacao_sobre_os_items for item in lista_base]\n",
    "```"
   ]
  },
  {
   "cell_type": "markdown",
   "metadata": {
    "id": "rpjCgSCYROtz"
   },
   "source": [
    "Por exemplo, imagine que queremos o dobro de cada número dentro de uma lista.\n",
    "\n",
    "Uma forma de realizar essa tarefa é utilizando o laço `for`."
   ]
  },
  {
   "cell_type": "code",
   "execution_count": 1,
   "metadata": {
    "id": "sL5H_aPwPoaW",
    "tags": []
   },
   "outputs": [],
   "source": [
    "numeros = [1, 2, 3, 5, 153, -56, -1247]"
   ]
  },
  {
   "cell_type": "code",
   "execution_count": 2,
   "metadata": {
    "colab": {
     "base_uri": "https://localhost:8080/"
    },
    "executionInfo": {
     "elapsed": 4,
     "status": "ok",
     "timestamp": 1664992395050,
     "user": {
      "displayName": "Gilberto Kaihami",
      "userId": "07651446941847976228"
     },
     "user_tz": 180
    },
    "id": "1GSDVHMhRifO",
    "outputId": "60aaccc0-893d-4095-9e08-5fee5451f65b",
    "tags": []
   },
   "outputs": [
    {
     "data": {
      "text/plain": [
       "[2, 4, 6, 10, 306, -112, -2494]"
      ]
     },
     "execution_count": 2,
     "metadata": {},
     "output_type": "execute_result"
    }
   ],
   "source": [
    "# Para cada número da lista determine o dobro deste\n",
    "\n",
    "dobro_numeros = []\n",
    "for n in numeros:\n",
    "    dobro_numeros.append(n*2)\n",
    "dobro_numeros"
   ]
  },
  {
   "cell_type": "markdown",
   "metadata": {
    "id": "YesY1cthR9uT"
   },
   "source": [
    "Utilizando a compreensão de listas temos:\n",
    "\n",
    "Para cada número dentro de numeros: `for numero in numeros`\n",
    "\n",
    "Calcule o dobro: `numero * 2`\n",
    "\n",
    "Logo:\n",
    "\n",
    "```\n",
    "[ numero * 2 for   numero    in   numeros   ]\n",
    ". <resultado>     <elemento>     <elementos>\n",
    "```\n",
    "\n",
    "\n"
   ]
  },
  {
   "cell_type": "code",
   "execution_count": 3,
   "metadata": {
    "id": "kaekQQ4bRiO_",
    "tags": []
   },
   "outputs": [],
   "source": [
    "dobro_numeros_compreensao_de_listas = [n*2 for n in numeros]"
   ]
  },
  {
   "cell_type": "code",
   "execution_count": 4,
   "metadata": {
    "colab": {
     "base_uri": "https://localhost:8080/"
    },
    "executionInfo": {
     "elapsed": 5,
     "status": "ok",
     "timestamp": 1664992721080,
     "user": {
      "displayName": "Gilberto Kaihami",
      "userId": "07651446941847976228"
     },
     "user_tz": 180
    },
    "id": "d1b68VbCTJJW",
    "outputId": "51482f50-a79b-4769-b029-58a19ff232ea",
    "tags": []
   },
   "outputs": [
    {
     "name": "stdout",
     "output_type": "stream",
     "text": [
      "[2, 4, 6, 10, 306, -112, -2494]\n",
      "[2, 4, 6, 10, 306, -112, -2494]\n"
     ]
    }
   ],
   "source": [
    "print(dobro_numeros)\n",
    "print(dobro_numeros_compreensao_de_listas)"
   ]
  },
  {
   "cell_type": "markdown",
   "metadata": {
    "id": "Roz-v35mT8cD"
   },
   "source": [
    "Também é possível construir uma lista usando compreensão de listas com base em alguma estrutura condicional!\n",
    "\n",
    "Se você for utilizar apenas o if, a sintaxe é:\n",
    "\n",
    "```python\n",
    "[operacao_sobre_os_items for item in lista_base if condicao]\n",
    "```"
   ]
  },
  {
   "cell_type": "code",
   "execution_count": 5,
   "metadata": {
    "colab": {
     "base_uri": "https://localhost:8080/"
    },
    "executionInfo": {
     "elapsed": 232,
     "status": "ok",
     "timestamp": 1664993080526,
     "user": {
      "displayName": "Gilberto Kaihami",
      "userId": "07651446941847976228"
     },
     "user_tz": 180
    },
    "id": "UviQbrLjTLb5",
    "outputId": "657f7080-b942-43d4-98d4-3c5e0fdefff2",
    "tags": []
   },
   "outputs": [
    {
     "name": "stdout",
     "output_type": "stream",
     "text": [
      "[2, 4, 10, 42]\n"
     ]
    }
   ],
   "source": [
    "# pega apenas os números pares e cria uma nova lista\n",
    "\n",
    "lista = [1, 2, 3, 4, 5, 10 , 21, 23, 25, 27, 42, 51]\n",
    "\n",
    "lista_pares = []\n",
    "\n",
    "# forma tradicional\n",
    "\n",
    "for n in lista:\n",
    "    if n%2 == 0:\n",
    "        lista_pares.append(n)\n",
    "        \n",
    "print(lista_pares)"
   ]
  },
  {
   "cell_type": "code",
   "execution_count": 6,
   "metadata": {
    "id": "GvgpApXGUi8E",
    "tags": []
   },
   "outputs": [
    {
     "name": "stdout",
     "output_type": "stream",
     "text": [
      "[2, 4, 10, 42]\n"
     ]
    }
   ],
   "source": [
    "#List Comp\n",
    "lista_pares_comp = [n for n in lista if n%2==0]\n",
    "print(lista_pares_comp)   "
   ]
  },
  {
   "cell_type": "code",
   "execution_count": 7,
   "metadata": {
    "colab": {
     "base_uri": "https://localhost:8080/"
    },
    "executionInfo": {
     "elapsed": 5,
     "status": "ok",
     "timestamp": 1664993134464,
     "user": {
      "displayName": "Gilberto Kaihami",
      "userId": "07651446941847976228"
     },
     "user_tz": 180
    },
    "id": "T3mV-gHqUnbj",
    "outputId": "d8b09688-3024-4390-9eb2-5e7850e30990",
    "tags": []
   },
   "outputs": [
    {
     "name": "stdout",
     "output_type": "stream",
     "text": [
      "[2, 4, 10, 42]\n",
      "[2, 4, 10, 42]\n"
     ]
    }
   ],
   "source": [
    "print(lista_pares)\n",
    "print(lista_pares_comp)"
   ]
  },
  {
   "cell_type": "markdown",
   "metadata": {
    "id": "wUD3Qo_lUzT2"
   },
   "source": [
    "Caso você queira utilizar também o else como parte da estrutura condicional, a sintaxe muda um pouco:\n",
    "\n",
    "```python\n",
    "[valor_caso_if if condicao else valor_caso_else for item in lista_base]\n",
    "```"
   ]
  },
  {
   "cell_type": "code",
   "execution_count": 8,
   "metadata": {
    "colab": {
     "base_uri": "https://localhost:8080/"
    },
    "executionInfo": {
     "elapsed": 243,
     "status": "ok",
     "timestamp": 1664993299990,
     "user": {
      "displayName": "Gilberto Kaihami",
      "userId": "07651446941847976228"
     },
     "user_tz": 180
    },
    "id": "B1IpIbN9U7ey",
    "outputId": "153ec38c-1503-454a-db50-fdfd093cbc2d",
    "tags": []
   },
   "outputs": [
    {
     "name": "stdout",
     "output_type": "stream",
     "text": [
      "['0 é par', '1 é impar', '2 é par', '3 é impar', '4 é par', '5 é impar', '6 é par', '7 é impar', '8 é par', '9 é impar']\n"
     ]
    }
   ],
   "source": [
    "# Criando uma lista dizendo se o número é par ou impar\n",
    "# ['1 é ímpar', '4 é par', ...]\n",
    "\n",
    "par_ou_impar = []\n",
    "\n",
    "for n in range(0,10):\n",
    "    if n%2 == 0:\n",
    "        par_ou_impar.append(str(n)+\" é par\")\n",
    "    else:\n",
    "        par_ou_impar.append(str(n)+\" é impar\")\n",
    "\n",
    "print(par_ou_impar)"
   ]
  },
  {
   "cell_type": "code",
   "execution_count": 9,
   "metadata": {
    "colab": {
     "base_uri": "https://localhost:8080/"
    },
    "executionInfo": {
     "elapsed": 228,
     "status": "ok",
     "timestamp": 1664993319861,
     "user": {
      "displayName": "Gilberto Kaihami",
      "userId": "07651446941847976228"
     },
     "user_tz": 180
    },
    "id": "WfdkCJFbU3so",
    "outputId": "b8b50b2b-3463-4a64-d734-4b19bdcd1ec4",
    "tags": []
   },
   "outputs": [],
   "source": [
    "par_ou_impar_comp = [str(n)+\" é par\" if n%2==0 else str(n)+\" é impar\" for n in range (0,10)]"
   ]
  },
  {
   "cell_type": "code",
   "execution_count": 10,
   "metadata": {
    "colab": {
     "base_uri": "https://localhost:8080/"
    },
    "executionInfo": {
     "elapsed": 4,
     "status": "ok",
     "timestamp": 1664993343984,
     "user": {
      "displayName": "Gilberto Kaihami",
      "userId": "07651446941847976228"
     },
     "user_tz": 180
    },
    "id": "__CQwCubU7JU",
    "outputId": "e8e05ffa-8bfd-4553-e955-e8fc3e31b140",
    "tags": []
   },
   "outputs": [
    {
     "name": "stdout",
     "output_type": "stream",
     "text": [
      "['0 é par', '1 é impar', '2 é par', '3 é impar', '4 é par', '5 é impar', '6 é par', '7 é impar', '8 é par', '9 é impar']\n",
      "['0 é par', '1 é impar', '2 é par', '3 é impar', '4 é par', '5 é impar', '6 é par', '7 é impar', '8 é par', '9 é impar']\n"
     ]
    }
   ],
   "source": [
    "print(par_ou_impar)\n",
    "print(par_ou_impar_comp)"
   ]
  },
  {
   "cell_type": "markdown",
   "metadata": {
    "id": "lJ7whJo2VqDX"
   },
   "source": [
    "Compreensão de listas usando `for` encadeados"
   ]
  },
  {
   "cell_type": "code",
   "execution_count": 11,
   "metadata": {
    "colab": {
     "base_uri": "https://localhost:8080/"
    },
    "executionInfo": {
     "elapsed": 329,
     "status": "ok",
     "timestamp": 1664993385852,
     "user": {
      "displayName": "Gilberto Kaihami",
      "userId": "07651446941847976228"
     },
     "user_tz": 180
    },
    "id": "Z6fi937yUoUP",
    "outputId": "122b103a-c4bb-461c-981f-17b3e94a0c72",
    "tags": []
   },
   "outputs": [
    {
     "name": "stdout",
     "output_type": "stream",
     "text": [
      "1 x 5 = 5\n",
      "1 x 7 = 7\n",
      "1 x 8 = 8\n",
      "2 x 5 = 10\n",
      "2 x 7 = 14\n",
      "2 x 8 = 16\n",
      "3 x 5 = 15\n",
      "3 x 7 = 21\n",
      "3 x 8 = 24\n",
      "4 x 5 = 20\n",
      "4 x 7 = 28\n",
      "4 x 8 = 32\n",
      "5 x 5 = 25\n",
      "5 x 7 = 35\n",
      "5 x 8 = 40\n",
      "6 x 5 = 30\n",
      "6 x 7 = 42\n",
      "6 x 8 = 48\n"
     ]
    }
   ],
   "source": [
    "l1 = [1, 2, 3, 4, 5, 6]\n",
    "l2 = [5, 7, 8]\n",
    "\n",
    "for num1 in l1:\n",
    "    for num2 in l2:\n",
    "        print(num1, 'x', num2, '=', num1 * num2)"
   ]
  },
  {
   "cell_type": "markdown",
   "metadata": {
    "id": "3lata2qZVvKZ"
   },
   "source": [
    "**como fazer a operação acima com compreensão de listas**"
   ]
  },
  {
   "cell_type": "code",
   "execution_count": 12,
   "metadata": {
    "colab": {
     "base_uri": "https://localhost:8080/"
    },
    "executionInfo": {
     "elapsed": 3,
     "status": "ok",
     "timestamp": 1664993398832,
     "user": {
      "displayName": "Gilberto Kaihami",
      "userId": "07651446941847976228"
     },
     "user_tz": 180
    },
    "id": "G235hPGUVtnf",
    "outputId": "54a82555-e308-4f66-d927-eb8aba152757",
    "tags": []
   },
   "outputs": [
    {
     "data": {
      "text/plain": [
       "['1 x 5 = 5',\n",
       " '1 x 7 = 7',\n",
       " '1 x 8 = 8',\n",
       " '2 x 5 = 10',\n",
       " '2 x 7 = 14',\n",
       " '2 x 8 = 16',\n",
       " '3 x 5 = 15',\n",
       " '3 x 7 = 21',\n",
       " '3 x 8 = 24',\n",
       " '4 x 5 = 20',\n",
       " '4 x 7 = 28',\n",
       " '4 x 8 = 32',\n",
       " '5 x 5 = 25',\n",
       " '5 x 7 = 35',\n",
       " '5 x 8 = 40',\n",
       " '6 x 5 = 30',\n",
       " '6 x 7 = 42',\n",
       " '6 x 8 = 48']"
      ]
     },
     "execution_count": 12,
     "metadata": {},
     "output_type": "execute_result"
    }
   ],
   "source": [
    "l1 = [1, 2, 3, 4, 5, 6]\n",
    "l2 = [5, 7, 8]\n",
    "\n",
    "[(f\"{n1} x {n2} = {n1*n2}\") for n1 in l1 for n2 in l2]"
   ]
  },
  {
   "cell_type": "markdown",
   "metadata": {
    "id": "EFu3PCYQWF-I"
   },
   "source": [
    "**Exercício**\n",
    "\n",
    "Remova todas as vogais de uma dada string utilizando compreesões de lista.\n",
    "\n",
    "Por exemplo em:  \n",
    "`\"banana\"`\n",
    "O retorno deve ser:  \n",
    "`\"bnn\"`\n",
    "\n",
    "Lembre da operação `\"\".join()`"
   ]
  },
  {
   "cell_type": "code",
   "execution_count": 13,
   "metadata": {
    "executionInfo": {
     "elapsed": 366,
     "status": "ok",
     "timestamp": 1665440272418,
     "user": {
      "displayName": "Gilberto Kaihami",
      "userId": "07651446941847976228"
     },
     "user_tz": 180
    },
    "id": "2ptPMlnZXng0"
   },
   "outputs": [],
   "source": [
    "primeira_string = \"banana\"\n",
    "segunda_string = \"abacaxi\"\n",
    "terceira_string = \"mamao\"\n",
    "quarta_string = \"uva\"\n",
    "\n",
    "lista_strings = [primeira_string, segunda_string, terceira_string, quarta_string]"
   ]
  },
  {
   "cell_type": "code",
   "execution_count": 14,
   "metadata": {},
   "outputs": [],
   "source": [
    "vogais = \"aeiou\"\n",
    "sem_vogais = [\"\".join([\"\" if char in vogais else char for char in palavra]) for palavra in lista_strings]"
   ]
  },
  {
   "cell_type": "code",
   "execution_count": 15,
   "metadata": {
    "colab": {
     "base_uri": "https://localhost:8080/"
    },
    "executionInfo": {
     "elapsed": 228,
     "status": "ok",
     "timestamp": 1665440276526,
     "user": {
      "displayName": "Gilberto Kaihami",
      "userId": "07651446941847976228"
     },
     "user_tz": 180
    },
    "id": "cDoyVQ3N-Azg",
    "outputId": "7ffc00f6-77c8-475f-dc57-251d64d25a9b"
   },
   "outputs": [
    {
     "data": {
      "text/plain": [
       "['bnn', 'bcx', 'mm', 'v']"
      ]
     },
     "execution_count": 15,
     "metadata": {},
     "output_type": "execute_result"
    }
   ],
   "source": [
    "sem_vogais"
   ]
  },
  {
   "cell_type": "markdown",
   "metadata": {
    "id": "M4NAwaGzZwLo"
   },
   "source": [
    "Utilizando compreensão de lista encadeadas."
   ]
  },
  {
   "cell_type": "markdown",
   "metadata": {
    "id": "T2vnQBd3gDvp"
   },
   "source": [
    "### Compreensões de dicionário\n",
    "\n",
    "Da mesma forma que utilizamos compreensão para listas, podemos utilizá-la para dicionários. A diferença é que precisamos, obrigatoriamente, passar um par chave-valor. O exemplo abaixo parte de uma lista de notas e uma lista de alunos e chega em um dicionário associando cada aluno a uma nota."
   ]
  },
  {
   "cell_type": "code",
   "execution_count": 16,
   "metadata": {
    "colab": {
     "base_uri": "https://localhost:8080/"
    },
    "executionInfo": {
     "elapsed": 5,
     "status": "ok",
     "timestamp": 1664996220112,
     "user": {
      "displayName": "Gilberto Kaihami",
      "userId": "07651446941847976228"
     },
     "user_tz": 180
    },
    "id": "oYWLW33JZoau",
    "outputId": "4a7c6a3a-90c3-4b50-8c41-d745a1d881a7",
    "tags": []
   },
   "outputs": [
    {
     "name": "stdout",
     "output_type": "stream",
     "text": [
      "{'Desodorante': 10, 'Alface': 4, 'Uva': 2, 'Salgadinho': 3, 'Banana': 5}\n"
     ]
    }
   ],
   "source": [
    "produtos = ['Desodorante', 'Alface', 'Uva', 'Salgadinho', 'Banana']\n",
    "quantidades = [10, 4, 2, 3, 5]\n",
    "\n",
    "cadastros = {produtos[i]:quantidades[i] for i in range(len(produtos))}\n",
    "\n",
    "print(cadastros)"
   ]
  },
  {
   "cell_type": "markdown",
   "metadata": {
    "id": "vmcOlLv7gnfT"
   },
   "source": [
    "Outro exemplo:"
   ]
  },
  {
   "cell_type": "code",
   "execution_count": 17,
   "metadata": {
    "colab": {
     "base_uri": "https://localhost:8080/"
    },
    "executionInfo": {
     "elapsed": 4,
     "status": "ok",
     "timestamp": 1664996292936,
     "user": {
      "displayName": "Gilberto Kaihami",
      "userId": "07651446941847976228"
     },
     "user_tz": 180
    },
    "id": "8ddPZSetggb3",
    "outputId": "3087de13-ea43-45d0-f2bd-a286977c0260",
    "tags": []
   },
   "outputs": [
    {
     "data": {
      "text/plain": [
       "[0, 1, 4, 9, 16, 25, 36, 49, 64, 81]"
      ]
     },
     "execution_count": 17,
     "metadata": {},
     "output_type": "execute_result"
    }
   ],
   "source": [
    "# Calculando o quadrado de um número\n",
    "# Utilizando compreensão de listas\n",
    "[x**2 for x in range(10)]"
   ]
  },
  {
   "cell_type": "code",
   "execution_count": 18,
   "metadata": {
    "colab": {
     "base_uri": "https://localhost:8080/"
    },
    "executionInfo": {
     "elapsed": 4,
     "status": "ok",
     "timestamp": 1664996334217,
     "user": {
      "displayName": "Gilberto Kaihami",
      "userId": "07651446941847976228"
     },
     "user_tz": 180
    },
    "id": "WWDTsXNfgzaJ",
    "outputId": "85dbe902-8c1e-4c94-959d-92e068fcc693",
    "tags": []
   },
   "outputs": [
    {
     "data": {
      "text/plain": [
       "{0: 0, 1: 1, 2: 4, 3: 9, 4: 16, 5: 25, 6: 36, 7: 49, 8: 64, 9: 81}"
      ]
     },
     "execution_count": 18,
     "metadata": {},
     "output_type": "execute_result"
    }
   ],
   "source": [
    "# No exemplo acima, perdemos a informação de origem\n",
    "# Uma forma de guardar essa informação é por meio de dicionários\n",
    "\n",
    "{x:x**2 for x in range(10)}"
   ]
  },
  {
   "cell_type": "markdown",
   "metadata": {
    "id": "udc0nDNehLsK"
   },
   "source": [
    "Voltando para o exemplo de produtos"
   ]
  },
  {
   "cell_type": "code",
   "execution_count": 19,
   "metadata": {
    "colab": {
     "base_uri": "https://localhost:8080/"
    },
    "executionInfo": {
     "elapsed": 5,
     "status": "ok",
     "timestamp": 1664996408331,
     "user": {
      "displayName": "Gilberto Kaihami",
      "userId": "07651446941847976228"
     },
     "user_tz": 180
    },
    "id": "LjArssjFg6IA",
    "outputId": "fb4d4667-4d61-4307-f07d-666599339329",
    "tags": []
   },
   "outputs": [
    {
     "name": "stdout",
     "output_type": "stream",
     "text": [
      "{'Desodorante': 10, 'Alface': 4, 'Uva': 2, 'Salgadinho': 3, 'Banana': 5}\n"
     ]
    }
   ],
   "source": [
    "produtos = ['Desodorante', 'Alface', 'Uva', 'Salgadinho', 'Banana']\n",
    "quantidades = [10, 4, 2, 3, 5]\n",
    "\n",
    "cadastros = {produtos[i]:quantidades[i] for i in range(len(produtos))}\n",
    "\n",
    "print(cadastros)"
   ]
  },
  {
   "cell_type": "markdown",
   "metadata": {
    "id": "dccEm9EOhQZU"
   },
   "source": [
    "No exemplo acima, apesar de ser um código válido há outras formas de realizar a mesma operação, facilitando dessa forma a leitura do código.\n",
    "\n",
    "Nesse caso iremos utilizar a função `zip`.\n",
    "\n",
    "Ela aceita dois objetos que podem ser iterados, e comprime os seus elementos:\n",
    "\n",
    "Por exemplo:  \n",
    "```\n",
    "nomes = ['Ana', 'Vitor', 'Daniel']\n",
    "notas = [10, 5, 7]\n",
    "cadastros = {}\n",
    "for idx, nome in enumerate(nomes):\n",
    "  cadastros[nome] = notas[idx]\n",
    "```\n",
    "Pode ser entendido que o primeiro elemento da lista `nomes` deve fazer par com o primeiro elemento da lista notas, e assim por diante.\n",
    "\n",
    "Logo, seria equivalente a:\n",
    "\n",
    "```\n",
    "(nomes[0], notas[0]), (nomes[1], notas[1]), ..., (nomes[n], notas[n])\n",
    "```\n",
    "\n",
    "Utilizando o `zip` temos esse comportamento!\n",
    "\n"
   ]
  },
  {
   "cell_type": "code",
   "execution_count": 20,
   "metadata": {
    "colab": {
     "base_uri": "https://localhost:8080/"
    },
    "executionInfo": {
     "elapsed": 5,
     "status": "ok",
     "timestamp": 1664996715105,
     "user": {
      "displayName": "Gilberto Kaihami",
      "userId": "07651446941847976228"
     },
     "user_tz": 180
    },
    "id": "ud96mMiVhPel",
    "outputId": "a5d07e4a-93c8-47be-d6cf-d99903d96b43",
    "tags": []
   },
   "outputs": [
    {
     "name": "stdout",
     "output_type": "stream",
     "text": [
      "('Desodorante', 10)\n",
      "('Alface', 4)\n",
      "('Uva', 2)\n",
      "('Salgadinho', 3)\n",
      "('Banana', 5)\n"
     ]
    }
   ],
   "source": [
    "produtos = ['Desodorante', 'Alface', 'Uva', 'Salgadinho', 'Banana']\n",
    "quantidades = [10, 4, 2, 3, 5]\n",
    "\n",
    "for dupla in zip(produtos, quantidades):\n",
    "    print(dupla)"
   ]
  },
  {
   "cell_type": "code",
   "execution_count": 21,
   "metadata": {
    "colab": {
     "base_uri": "https://localhost:8080/"
    },
    "executionInfo": {
     "elapsed": 3,
     "status": "ok",
     "timestamp": 1664996727639,
     "user": {
      "displayName": "Gilberto Kaihami",
      "userId": "07651446941847976228"
     },
     "user_tz": 180
    },
    "id": "vVNEULuBiaSn",
    "outputId": "ab8018c2-dcc0-4540-cf7b-f81b4254a6df",
    "tags": []
   },
   "outputs": [
    {
     "name": "stdout",
     "output_type": "stream",
     "text": [
      "Desodorante 10\n",
      "Alface 4\n",
      "Uva 2\n",
      "Salgadinho 3\n",
      "Banana 5\n"
     ]
    }
   ],
   "source": [
    "produtos = ['Desodorante', 'Alface', 'Uva', 'Salgadinho', 'Banana']\n",
    "quantidades = [10, 4, 2, 3, 5]\n",
    "\n",
    "for p, q in zip(produtos, quantidades):\n",
    "    print(f\"{p} {q}\")"
   ]
  },
  {
   "cell_type": "code",
   "execution_count": 22,
   "metadata": {
    "colab": {
     "base_uri": "https://localhost:8080/"
    },
    "executionInfo": {
     "elapsed": 3,
     "status": "ok",
     "timestamp": 1664996756338,
     "user": {
      "displayName": "Gilberto Kaihami",
      "userId": "07651446941847976228"
     },
     "user_tz": 180
    },
    "id": "rkdPGD0widch",
    "outputId": "f6b1ed02-cd54-4006-c0a6-76f4a14f5126",
    "tags": []
   },
   "outputs": [
    {
     "name": "stdout",
     "output_type": "stream",
     "text": [
      "{'Desodorante': 10, 'Alface': 4, 'Uva': 2, 'Salgadinho': 3, 'Banana': 5}\n"
     ]
    }
   ],
   "source": [
    "produtos = ['Desodorante', 'Alface', 'Uva', 'Salgadinho', 'Banana']\n",
    "quantidades = [10, 4, 2, 3, 5]\n",
    "cadastros = {}\n",
    "for p, q in zip(produtos, quantidades):\n",
    "    cadastros[p] = q\n",
    "print(cadastros)"
   ]
  },
  {
   "cell_type": "markdown",
   "metadata": {
    "id": "s2bQfGZ-ilp_"
   },
   "source": [
    "Agora podemos utilizar a compreensão de dicionários com o zip!"
   ]
  },
  {
   "cell_type": "code",
   "execution_count": 23,
   "metadata": {
    "id": "8_hNVXBDiie1",
    "tags": []
   },
   "outputs": [
    {
     "name": "stdout",
     "output_type": "stream",
     "text": [
      "{'Desodorante': 10, 'Alface': 4, 'Uva': 2, 'Salgadinho': 3, 'Banana': 5}\n"
     ]
    }
   ],
   "source": [
    "cadastros = {p:q for p,q in zip(produtos, quantidades)}\n",
    "print(cadastros)"
   ]
  },
  {
   "cell_type": "markdown",
   "metadata": {
    "id": "Gm2oqMeTcfro"
   },
   "source": [
    "**Exercício**\n",
    "\n",
    "Utilizando compreensão de dicionário e condicionais, crie um dicionário novo a partir do dicionário `dict`, onde apenas o par `chave`:`valor` acima de 20 estejam presentes no novo dicionário:\n",
    "```\n",
    "dict1 = {'Maça': 3, \"Linguiça\": 30, 'Pera':5, 'Bife': 50}\n",
    "```\n",
    "Nesse caso o novo dicionário deveria conter:\n",
    "```\n",
    "dict2 = { \"Linguiça\": 30, 'Bife': 50}\n",
    "```"
   ]
  },
  {
   "cell_type": "code",
   "execution_count": 24,
   "metadata": {
    "colab": {
     "base_uri": "https://localhost:8080/"
    },
    "executionInfo": {
     "elapsed": 5,
     "status": "ok",
     "timestamp": 1665163231212,
     "user": {
      "displayName": "Gilberto Kaihami",
      "userId": "07651446941847976228"
     },
     "user_tz": 180
    },
    "id": "9cTO7ZR0iuhL",
    "outputId": "806ac5c9-b8c7-4231-9c39-df86611252e3"
   },
   "outputs": [],
   "source": [
    "dict1 = {'Maça': 3, \"Linguiça\": 30, 'Pera':5, 'Bife': 50}\n",
    "dict2 = {p:q for p,q in zip(dict1.keys(), dict1.values()) if q>20}"
   ]
  },
  {
   "cell_type": "code",
   "execution_count": 25,
   "metadata": {
    "tags": []
   },
   "outputs": [
    {
     "data": {
      "text/plain": [
       "{'Linguiça': 30, 'Bife': 50}"
      ]
     },
     "execution_count": 25,
     "metadata": {},
     "output_type": "execute_result"
    }
   ],
   "source": [
    "dict2"
   ]
  },
  {
   "cell_type": "markdown",
   "metadata": {
    "id": "lz6jfODfk50d"
   },
   "source": [
    "### Funções com parâmetros variáveis\n",
    "\n",
    "Se não quisermos especificar **quais** e **quantos** são os parâmetros de uma função, passamos o argumento com **um asterisco**\n",
    "\n",
    "- Os parâmetros passados são **agrupados em uma tupla**, automaticamente, pelo python.\n",
    "\n",
    "Porém, o usuário não precisa passar uma tupla: basta passar vários argumentos separados por vírgula, e o Python automaticamente criará uma tupla com eles. \n",
    "\n",
    "Uma função que segue exatamente essa estrutura é o `print()`!\n",
    "\n",
    "Vamos criar uma função desta forma:"
   ]
  },
  {
   "cell_type": "code",
   "execution_count": 26,
   "metadata": {
    "colab": {
     "base_uri": "https://localhost:8080/"
    },
    "executionInfo": {
     "elapsed": 6,
     "status": "ok",
     "timestamp": 1665152341725,
     "user": {
      "displayName": "Gilberto Kaihami",
      "userId": "07651446941847976228"
     },
     "user_tz": 180
    },
    "id": "1F0pAY4bjIpH",
    "outputId": "ae5fc64e-a940-4d25-d90d-42b258f54447",
    "tags": []
   },
   "outputs": [
    {
     "name": "stdout",
     "output_type": "stream",
     "text": [
      "1\n",
      "1 2\n"
     ]
    }
   ],
   "source": [
    "# O print é uma função que aceita parâmetros variáveis!\n",
    "print(1)\n",
    "# Por isso quando adicionamos mais de um argumento com vírgula\n",
    "# o print continua funcionando de forma correta\n",
    "print(1, 2)"
   ]
  },
  {
   "cell_type": "code",
   "execution_count": 27,
   "metadata": {
    "id": "UbiKFtFS6frb",
    "tags": []
   },
   "outputs": [
    {
     "name": "stdout",
     "output_type": "stream",
     "text": [
      "(1, 2, 3, 5)\n"
     ]
    }
   ],
   "source": [
    "# Quando queremos argumentos variados adicionamos `*`\n",
    "def meu_print(*elementos):\n",
    "  print(elementos)\n",
    "meu_print(1, 2, 3, 5)"
   ]
  },
  {
   "cell_type": "code",
   "execution_count": 28,
   "metadata": {
    "id": "ZhJwBwFqcKFQ",
    "tags": []
   },
   "outputs": [],
   "source": [
    "def soma(a, b, *numeros):\n",
    "    print(f'a={a}, b={b}')\n",
    "    print(f'numeros={numeros}')\n",
    "    soma_parcial = a +b\n",
    "    soma_numeros = sum(numeros)\n",
    "    print(f'soma_numeros={soma_numeros}')\n",
    "    return soma_parcial + soma_numeros"
   ]
  },
  {
   "cell_type": "code",
   "execution_count": 29,
   "metadata": {
    "colab": {
     "base_uri": "https://localhost:8080/"
    },
    "executionInfo": {
     "elapsed": 251,
     "status": "ok",
     "timestamp": 1665162908375,
     "user": {
      "displayName": "Gilberto Kaihami",
      "userId": "07651446941847976228"
     },
     "user_tz": 180
    },
    "id": "ZJGQqgK80LFa",
    "outputId": "8a9b3958-1b89-4c6e-cb00-142167de932f",
    "tags": []
   },
   "outputs": [
    {
     "name": "stdout",
     "output_type": "stream",
     "text": [
      "a=1, b=2\n",
      "numeros=(3, 2, 3, 4, 5, 6, 7, 8, 9)\n",
      "soma_numeros=47\n"
     ]
    },
    {
     "data": {
      "text/plain": [
       "50"
      ]
     },
     "execution_count": 29,
     "metadata": {},
     "output_type": "execute_result"
    }
   ],
   "source": [
    "soma(1, 2, 3, 2, 3, 4, 5, 6, 7, 8, 9)"
   ]
  },
  {
   "cell_type": "code",
   "execution_count": 30,
   "metadata": {
    "id": "ZtO8SFzKnYjL",
    "tags": []
   },
   "outputs": [],
   "source": [
    "def calcula_media(lista):\n",
    "    print(lista)\n",
    "    soma = sum(lista)\n",
    "    tamanho_lista = len(lista)\n",
    "    return soma/tamanho_lista"
   ]
  },
  {
   "cell_type": "code",
   "execution_count": 31,
   "metadata": {
    "colab": {
     "base_uri": "https://localhost:8080/"
    },
    "executionInfo": {
     "elapsed": 4,
     "status": "ok",
     "timestamp": 1665165805643,
     "user": {
      "displayName": "Gilberto Kaihami",
      "userId": "07651446941847976228"
     },
     "user_tz": 180
    },
    "id": "SccRG1fgnah0",
    "outputId": "b19f67ed-7f06-45d2-c444-e38cc3596ac5",
    "tags": []
   },
   "outputs": [
    {
     "name": "stdout",
     "output_type": "stream",
     "text": [
      "[10, 5, 8]\n"
     ]
    },
    {
     "data": {
      "text/plain": [
       "7.666666666666667"
      ]
     },
     "execution_count": 31,
     "metadata": {},
     "output_type": "execute_result"
    }
   ],
   "source": [
    "calcula_media([10, 5, 8])"
   ]
  },
  {
   "cell_type": "code",
   "execution_count": 32,
   "metadata": {
    "id": "yPMwSjd5ncOw",
    "tags": []
   },
   "outputs": [],
   "source": [
    "def calcula_media(*args):\n",
    "    print(args)\n",
    "    soma = sum(args)\n",
    "    tamanho_lista = len(args)\n",
    "    return soma/tamanho_lista"
   ]
  },
  {
   "cell_type": "code",
   "execution_count": 33,
   "metadata": {
    "colab": {
     "base_uri": "https://localhost:8080/"
    },
    "executionInfo": {
     "elapsed": 260,
     "status": "ok",
     "timestamp": 1665165815378,
     "user": {
      "displayName": "Gilberto Kaihami",
      "userId": "07651446941847976228"
     },
     "user_tz": 180
    },
    "id": "VGmSdRgIndYe",
    "outputId": "1072b02c-9895-4b5e-a0bf-6702b86a0f2c",
    "tags": []
   },
   "outputs": [
    {
     "name": "stdout",
     "output_type": "stream",
     "text": [
      "(1, 2, 3, 4, 5)\n"
     ]
    },
    {
     "data": {
      "text/plain": [
       "3.0"
      ]
     },
     "execution_count": 33,
     "metadata": {},
     "output_type": "execute_result"
    }
   ],
   "source": [
    "calcula_media(1, 2, 3, 4, 5)"
   ]
  },
  {
   "cell_type": "code",
   "execution_count": 34,
   "metadata": {
    "colab": {
     "base_uri": "https://localhost:8080/"
    },
    "executionInfo": {
     "elapsed": 274,
     "status": "ok",
     "timestamp": 1665165822286,
     "user": {
      "displayName": "Gilberto Kaihami",
      "userId": "07651446941847976228"
     },
     "user_tz": 180
    },
    "id": "35ns73wpnerK",
    "outputId": "925482e7-79ee-4474-98f4-8d13df7ad56a",
    "tags": []
   },
   "outputs": [
    {
     "name": "stdout",
     "output_type": "stream",
     "text": [
      "(10, 5, 8)\n"
     ]
    },
    {
     "data": {
      "text/plain": [
       "7.666666666666667"
      ]
     },
     "execution_count": 34,
     "metadata": {},
     "output_type": "execute_result"
    }
   ],
   "source": [
    "calcula_media(10, 5, 8)"
   ]
  },
  {
   "cell_type": "markdown",
   "metadata": {},
   "source": [
    "### Utilizando valores default para parâmetros"
   ]
  },
  {
   "cell_type": "code",
   "execution_count": 35,
   "metadata": {
    "id": "2LJ4kEUTnozc",
    "tags": []
   },
   "outputs": [],
   "source": [
    "# Utilizando um parâmetro padrão para b\n",
    "def media_de_dois_n(a, b=10):\n",
    "    \"\"\"Considera apenas os dois primeiros números para média\"\"\"\n",
    "    return (a + b) / 2"
   ]
  },
  {
   "cell_type": "code",
   "execution_count": 36,
   "metadata": {
    "colab": {
     "base_uri": "https://localhost:8080/"
    },
    "executionInfo": {
     "elapsed": 247,
     "status": "ok",
     "timestamp": 1665165868593,
     "user": {
      "displayName": "Gilberto Kaihami",
      "userId": "07651446941847976228"
     },
     "user_tz": 180
    },
    "id": "Fz9mdgPfnqko",
    "outputId": "0ad756b9-c679-4499-ecc5-b675b4df74d4",
    "tags": []
   },
   "outputs": [
    {
     "data": {
      "text/plain": [
       "1.5"
      ]
     },
     "execution_count": 36,
     "metadata": {},
     "output_type": "execute_result"
    }
   ],
   "source": [
    "media_de_dois_n(1, 2)"
   ]
  },
  {
   "cell_type": "code",
   "execution_count": 37,
   "metadata": {
    "colab": {
     "base_uri": "https://localhost:8080/"
    },
    "executionInfo": {
     "elapsed": 384,
     "status": "ok",
     "timestamp": 1665165872881,
     "user": {
      "displayName": "Gilberto Kaihami",
      "userId": "07651446941847976228"
     },
     "user_tz": 180
    },
    "id": "u9BistRxnrrW",
    "outputId": "ef1153a6-c000-4edb-8aa0-ed4ee8e00738",
    "tags": []
   },
   "outputs": [
    {
     "data": {
      "text/plain": [
       "5.5"
      ]
     },
     "execution_count": 37,
     "metadata": {},
     "output_type": "execute_result"
    }
   ],
   "source": [
    "media_de_dois_n(1)"
   ]
  },
  {
   "cell_type": "markdown",
   "metadata": {
    "id": "A9iMe0_foP6z"
   },
   "source": [
    "### Funções com parâmetros opcionais\n",
    "\n",
    "Também é possível fazer funções com **argumentos opcionais**, que são indicados com **dois asteriscos**\n",
    "\n",
    "- Os parâmetros passados são **agrupados em um dicionário**: o nome do parâmetro será uma chave, e o valor será o valor.\n",
    "\n",
    "O exemplo abaixo cadastra usuários em uma base de dados.\n",
    "\n",
    "Até agora, sabemos apenas definir funções com argumentos **obrigatórios**: se algum deles não for passado, a função nos avisará isso!"
   ]
  },
  {
   "cell_type": "code",
   "execution_count": 38,
   "metadata": {
    "id": "WALlV4gWoNqm"
   },
   "outputs": [],
   "source": [
    "def soma(a, b, c):\n",
    "    return a + b + c"
   ]
  },
  {
   "cell_type": "code",
   "execution_count": 39,
   "metadata": {
    "colab": {
     "base_uri": "https://localhost:8080/"
    },
    "executionInfo": {
     "elapsed": 257,
     "status": "ok",
     "timestamp": 1665166036401,
     "user": {
      "displayName": "Gilberto Kaihami",
      "userId": "07651446941847976228"
     },
     "user_tz": 180
    },
    "id": "C_mQ84ShoThA",
    "outputId": "f4a57247-0df8-436e-e4ec-f5b942547891"
   },
   "outputs": [
    {
     "data": {
      "text/plain": [
       "6"
      ]
     },
     "execution_count": 39,
     "metadata": {},
     "output_type": "execute_result"
    }
   ],
   "source": [
    "soma(1, 2, 3)"
   ]
  },
  {
   "cell_type": "code",
   "execution_count": 40,
   "metadata": {
    "colab": {
     "base_uri": "https://localhost:8080/",
     "height": 166
    },
    "executionInfo": {
     "elapsed": 538,
     "status": "error",
     "timestamp": 1665166041864,
     "user": {
      "displayName": "Gilberto Kaihami",
      "userId": "07651446941847976228"
     },
     "user_tz": 180
    },
    "id": "0K6velDkoUot",
    "outputId": "fef2163f-93f3-4dfe-87db-056a5c55dd49"
   },
   "outputs": [
    {
     "ename": "TypeError",
     "evalue": "soma() missing 2 required positional arguments: 'b' and 'c'",
     "output_type": "error",
     "traceback": [
      "\u001b[0;31m---------------------------------------------------------------------------\u001b[0m",
      "\u001b[0;31mTypeError\u001b[0m                                 Traceback (most recent call last)",
      "Cell \u001b[0;32mIn[40], line 2\u001b[0m\n\u001b[1;32m      1\u001b[0m \u001b[38;5;66;03m#Inserindo apenas um parâmetro (erro)\u001b[39;00m\n\u001b[0;32m----> 2\u001b[0m \u001b[43msoma\u001b[49m\u001b[43m(\u001b[49m\u001b[38;5;241;43m1\u001b[39;49m\u001b[43m)\u001b[49m\n",
      "\u001b[0;31mTypeError\u001b[0m: soma() missing 2 required positional arguments: 'b' and 'c'"
     ]
    }
   ],
   "source": [
    "#Inserindo apenas um parâmetro (erro)\n",
    "soma(1)"
   ]
  },
  {
   "cell_type": "code",
   "execution_count": 41,
   "metadata": {
    "colab": {
     "base_uri": "https://localhost:8080/"
    },
    "executionInfo": {
     "elapsed": 352,
     "status": "ok",
     "timestamp": 1665166045839,
     "user": {
      "displayName": "Gilberto Kaihami",
      "userId": "07651446941847976228"
     },
     "user_tz": 180
    },
    "id": "e1UcHAE4oV4G",
    "outputId": "cac47eda-daae-4e3f-eb6f-9315722d2ba8"
   },
   "outputs": [
    {
     "data": {
      "text/plain": [
       "6"
      ]
     },
     "execution_count": 41,
     "metadata": {},
     "output_type": "execute_result"
    }
   ],
   "source": [
    "soma(a=1, b=2, c=3)"
   ]
  },
  {
   "cell_type": "code",
   "execution_count": 42,
   "metadata": {
    "colab": {
     "base_uri": "https://localhost:8080/"
    },
    "executionInfo": {
     "elapsed": 2,
     "status": "ok",
     "timestamp": 1665166051228,
     "user": {
      "displayName": "Gilberto Kaihami",
      "userId": "07651446941847976228"
     },
     "user_tz": 180
    },
    "id": "xUWnP_nGoW66",
    "outputId": "0a750727-9d87-4acb-e423-eb771021af5f"
   },
   "outputs": [
    {
     "data": {
      "text/plain": [
       "6"
      ]
     },
     "execution_count": 42,
     "metadata": {},
     "output_type": "execute_result"
    }
   ],
   "source": [
    "#Invertendo a ordem dos parâmetros\n",
    "soma(b=2, a=1, c=3)"
   ]
  },
  {
   "cell_type": "code",
   "execution_count": 43,
   "metadata": {
    "colab": {
     "base_uri": "https://localhost:8080/",
     "height": 166
    },
    "executionInfo": {
     "elapsed": 296,
     "status": "error",
     "timestamp": 1665166055053,
     "user": {
      "displayName": "Gilberto Kaihami",
      "userId": "07651446941847976228"
     },
     "user_tz": 180
    },
    "id": "KhyNjQQDoYL1",
    "outputId": "da5eac96-c28b-4c71-c6c8-b4ef16235e8d"
   },
   "outputs": [
    {
     "ename": "TypeError",
     "evalue": "soma() missing 1 required positional argument: 'c'",
     "output_type": "error",
     "traceback": [
      "\u001b[0;31m---------------------------------------------------------------------------\u001b[0m",
      "\u001b[0;31mTypeError\u001b[0m                                 Traceback (most recent call last)",
      "Cell \u001b[0;32mIn[43], line 2\u001b[0m\n\u001b[1;32m      1\u001b[0m \u001b[38;5;66;03m#Inserindo apenas dois parâmetros (erro)\u001b[39;00m\n\u001b[0;32m----> 2\u001b[0m \u001b[43msoma\u001b[49m\u001b[43m(\u001b[49m\u001b[43mb\u001b[49m\u001b[38;5;241;43m=\u001b[39;49m\u001b[38;5;241;43m2\u001b[39;49m\u001b[43m,\u001b[49m\u001b[43m \u001b[49m\u001b[43ma\u001b[49m\u001b[38;5;241;43m=\u001b[39;49m\u001b[38;5;241;43m1\u001b[39;49m\u001b[43m)\u001b[49m\n",
      "\u001b[0;31mTypeError\u001b[0m: soma() missing 1 required positional argument: 'c'"
     ]
    }
   ],
   "source": [
    "#Inserindo apenas dois parâmetros (erro)\n",
    "soma(b=2, a=1)"
   ]
  },
  {
   "cell_type": "code",
   "execution_count": 44,
   "metadata": {
    "id": "CAjoXnjjoZLF"
   },
   "outputs": [],
   "source": [
    "#Criando função com parâmetro default\n",
    "def soma(a, b, c=0):\n",
    "    print(f'a={a}, b={b}, c={c}')\n",
    "    return a + b + c"
   ]
  },
  {
   "cell_type": "code",
   "execution_count": 45,
   "metadata": {
    "colab": {
     "base_uri": "https://localhost:8080/"
    },
    "executionInfo": {
     "elapsed": 295,
     "status": "ok",
     "timestamp": 1665166083507,
     "user": {
      "displayName": "Gilberto Kaihami",
      "userId": "07651446941847976228"
     },
     "user_tz": 180
    },
    "id": "My2EEbT7obDA",
    "outputId": "a1de8c3f-b641-41e4-f0b3-385d569557c7"
   },
   "outputs": [
    {
     "name": "stdout",
     "output_type": "stream",
     "text": [
      "a=1, b=2, c=0\n"
     ]
    },
    {
     "data": {
      "text/plain": [
       "3"
      ]
     },
     "execution_count": 45,
     "metadata": {},
     "output_type": "execute_result"
    }
   ],
   "source": [
    "soma(a=1, b=2)"
   ]
  },
  {
   "cell_type": "code",
   "execution_count": 46,
   "metadata": {
    "colab": {
     "base_uri": "https://localhost:8080/"
    },
    "executionInfo": {
     "elapsed": 311,
     "status": "ok",
     "timestamp": 1665166090178,
     "user": {
      "displayName": "Gilberto Kaihami",
      "userId": "07651446941847976228"
     },
     "user_tz": 180
    },
    "id": "4HkGKGYbogG4",
    "outputId": "dbfaa316-e4cf-413e-ddbb-4fc282fa99cc"
   },
   "outputs": [
    {
     "name": "stdout",
     "output_type": "stream",
     "text": [
      "a=1, b=2, c=3\n"
     ]
    },
    {
     "data": {
      "text/plain": [
       "6"
      ]
     },
     "execution_count": 46,
     "metadata": {},
     "output_type": "execute_result"
    }
   ],
   "source": [
    "soma(a=1, b=2, c=3)"
   ]
  },
  {
   "cell_type": "code",
   "execution_count": 47,
   "metadata": {
    "colab": {
     "base_uri": "https://localhost:8080/"
    },
    "executionInfo": {
     "elapsed": 248,
     "status": "ok",
     "timestamp": 1665166096515,
     "user": {
      "displayName": "Gilberto Kaihami",
      "userId": "07651446941847976228"
     },
     "user_tz": 180
    },
    "id": "IPLWurUfohuL",
    "outputId": "c90adda6-b096-4cfb-a3f2-0611993aee33"
   },
   "outputs": [
    {
     "name": "stdout",
     "output_type": "stream",
     "text": [
      "a=3, b=2, c=1\n"
     ]
    },
    {
     "data": {
      "text/plain": [
       "6"
      ]
     },
     "execution_count": 47,
     "metadata": {},
     "output_type": "execute_result"
    }
   ],
   "source": [
    "soma(c=1, b=2, a=3)"
   ]
  },
  {
   "cell_type": "code",
   "execution_count": 48,
   "metadata": {
    "tags": []
   },
   "outputs": [
    {
     "name": "stdout",
     "output_type": "stream",
     "text": [
      "{'a': 1, 'b': 2, 'c': 3}\n"
     ]
    }
   ],
   "source": [
    "def imprimir(**valores):\n",
    "    print(valores)\n",
    "    \n",
    "imprimir(a=1, b=2, c=3)\n",
    "\n",
    "# Os parâmetros são passados para a função como um dicionário.\n",
    "# As chaves se tornam o nome dos parâmetros.\n",
    "# O usuário terá de fornecer os parâmetros de acordo com a decumentação da função."
   ]
  },
  {
   "cell_type": "code",
   "execution_count": 49,
   "metadata": {
    "id": "H-a8MMhyok1e"
   },
   "outputs": [],
   "source": [
    "def cadastro(cpf, nome, imprime_dados=[]):\n",
    "    if 'cpf' in imprime_dados and 'nome' in imprime_dados:\n",
    "        print(f'O CPF do usuário cadastrado é {cpf}')\n",
    "        print(f'O nome do usuário cadastrado é {nome}')\n",
    "    elif 'cpf' in imprime_dados:\n",
    "        print(f'O CPF do usuário cadastrado é {cpf}')\n",
    "    elif 'nome' in imprime_dados:\n",
    "        print(f'O nome do usuário cadastrado é {nome}')\n",
    "    else:\n",
    "        print(f'O CPF do usuário cadastrado é {cpf}')\n",
    "        print(f'O nome do usuário cadastrado é {nome}')"
   ]
  },
  {
   "cell_type": "code",
   "execution_count": 50,
   "metadata": {
    "colab": {
     "base_uri": "https://localhost:8080/"
    },
    "executionInfo": {
     "elapsed": 3,
     "status": "ok",
     "timestamp": 1665166119175,
     "user": {
      "displayName": "Gilberto Kaihami",
      "userId": "07651446941847976228"
     },
     "user_tz": 180
    },
    "id": "ARsxnPJfojS_",
    "outputId": "18cb46e0-f618-4b00-811b-0a928ba348d8"
   },
   "outputs": [
    {
     "name": "stdout",
     "output_type": "stream",
     "text": [
      "O CPF do usuário cadastrado é 39784512357\n",
      "O nome do usuário cadastrado é Maria da Silva\n"
     ]
    }
   ],
   "source": [
    "cadastro(39784512357, 'Maria da Silva')"
   ]
  },
  {
   "cell_type": "code",
   "execution_count": 51,
   "metadata": {
    "colab": {
     "base_uri": "https://localhost:8080/",
     "height": 166
    },
    "executionInfo": {
     "elapsed": 310,
     "status": "error",
     "timestamp": 1665166125916,
     "user": {
      "displayName": "Gilberto Kaihami",
      "userId": "07651446941847976228"
     },
     "user_tz": 180
    },
    "id": "JDJXIuqToozt",
    "outputId": "b865b9b4-bba2-431a-aded-6777f496e3b1"
   },
   "outputs": [
    {
     "ename": "TypeError",
     "evalue": "cadastro() missing 1 required positional argument: 'nome'",
     "output_type": "error",
     "traceback": [
      "\u001b[0;31m---------------------------------------------------------------------------\u001b[0m",
      "\u001b[0;31mTypeError\u001b[0m                                 Traceback (most recent call last)",
      "Cell \u001b[0;32mIn[51], line 1\u001b[0m\n\u001b[0;32m----> 1\u001b[0m \u001b[43mcadastro\u001b[49m\u001b[43m(\u001b[49m\u001b[38;5;241;43m39784512357\u001b[39;49m\u001b[43m)\u001b[49m\n",
      "\u001b[0;31mTypeError\u001b[0m: cadastro() missing 1 required positional argument: 'nome'"
     ]
    }
   ],
   "source": [
    "cadastro(39784512357)"
   ]
  },
  {
   "cell_type": "code",
   "execution_count": 52,
   "metadata": {
    "colab": {
     "base_uri": "https://localhost:8080/"
    },
    "executionInfo": {
     "elapsed": 3,
     "status": "ok",
     "timestamp": 1665166132279,
     "user": {
      "displayName": "Gilberto Kaihami",
      "userId": "07651446941847976228"
     },
     "user_tz": 180
    },
    "id": "pvbjp3-Ooqcx",
    "outputId": "0b914e4d-969c-49e6-c72b-66db1f0cd5af"
   },
   "outputs": [
    {
     "name": "stdout",
     "output_type": "stream",
     "text": [
      "O nome do usuário cadastrado é Maria da Silva\n"
     ]
    }
   ],
   "source": [
    "cadastro(39784512357, 'Maria da Silva', imprime_dados=['nome'])"
   ]
  },
  {
   "cell_type": "code",
   "execution_count": 53,
   "metadata": {
    "colab": {
     "base_uri": "https://localhost:8080/"
    },
    "executionInfo": {
     "elapsed": 2,
     "status": "ok",
     "timestamp": 1665166139371,
     "user": {
      "displayName": "Gilberto Kaihami",
      "userId": "07651446941847976228"
     },
     "user_tz": 180
    },
    "id": "iD-hp7oFosDd",
    "outputId": "2086c24f-570f-4c0d-c969-c91eb2c7d7b6"
   },
   "outputs": [
    {
     "name": "stdout",
     "output_type": "stream",
     "text": [
      "O CPF do usuário cadastrado é 39784512357\n",
      "O nome do usuário cadastrado é Maria da Silva\n"
     ]
    }
   ],
   "source": [
    "cadastro(39784512357, 'Maria da Silva', imprime_dados=['nome', 'cpf'])"
   ]
  },
  {
   "cell_type": "code",
   "execution_count": 54,
   "metadata": {
    "colab": {
     "base_uri": "https://localhost:8080/"
    },
    "executionInfo": {
     "elapsed": 251,
     "status": "ok",
     "timestamp": 1665166143367,
     "user": {
      "displayName": "Gilberto Kaihami",
      "userId": "07651446941847976228"
     },
     "user_tz": 180
    },
    "id": "UcYNsBG9otkH",
    "outputId": "26470f91-b8c7-4c25-f275-419f1f21e1b0"
   },
   "outputs": [
    {
     "name": "stdout",
     "output_type": "stream",
     "text": [
      "O CPF do usuário cadastrado é 39784512357\n"
     ]
    }
   ],
   "source": [
    "cadastro(39784512357, 'Maria da Silva', imprime_dados=['cpf'])"
   ]
  },
  {
   "cell_type": "markdown",
   "metadata": {
    "id": "SQnTsDr8pA4E"
   },
   "source": [
    " Podemos modificar a função para que um usuário possa fornecer unicamente seu nome e CPF; ou ambos, opcionalmente."
   ]
  },
  {
   "cell_type": "code",
   "execution_count": 55,
   "metadata": {
    "id": "pnMzA63Zo-_Z"
   },
   "outputs": [],
   "source": [
    "def cadastro(**usuario):\n",
    "    \"\"\"\n",
    "    usuarios:\n",
    "        - cpf: corresponde ao cpf do usuario\n",
    "        - nome: corresponde ao nome do usuario\n",
    "    \"\"\"\n",
    "    print(usuario)\n",
    "    if 'nome' not in usuario and 'cpf' not in usuario:\n",
    "        print('Nenhum cadastro encontrado')\n",
    "    else:\n",
    "        if 'nome' in usuario:\n",
    "            print(f'O nome do usuário cadastrado é {usuario[\"nome\"]}')\n",
    "        if 'cpf' in usuario:\n",
    "            print(f'O CPF do usuário cadastrado é {usuario[\"cpf\"]}')"
   ]
  },
  {
   "cell_type": "code",
   "execution_count": 56,
   "metadata": {
    "colab": {
     "base_uri": "https://localhost:8080/"
    },
    "executionInfo": {
     "elapsed": 3,
     "status": "ok",
     "timestamp": 1665166357448,
     "user": {
      "displayName": "Gilberto Kaihami",
      "userId": "07651446941847976228"
     },
     "user_tz": 180
    },
    "id": "50VdoYxrpEFS",
    "outputId": "45555f86-fc59-4592-80a2-be78c3313245"
   },
   "outputs": [
    {
     "name": "stdout",
     "output_type": "stream",
     "text": [
      "{'cpf': 1234876479}\n",
      "O CPF do usuário cadastrado é 1234876479\n"
     ]
    }
   ],
   "source": [
    "cadastro(cpf=1234876479)"
   ]
  },
  {
   "cell_type": "code",
   "execution_count": 57,
   "metadata": {
    "colab": {
     "base_uri": "https://localhost:8080/"
    },
    "executionInfo": {
     "elapsed": 312,
     "status": "ok",
     "timestamp": 1665166361960,
     "user": {
      "displayName": "Gilberto Kaihami",
      "userId": "07651446941847976228"
     },
     "user_tz": 180
    },
    "id": "m75VsImMpjHo",
    "outputId": "a1d1a0d9-a5ef-4f36-cf4d-36624cd514c3"
   },
   "outputs": [
    {
     "name": "stdout",
     "output_type": "stream",
     "text": [
      "{'cpf': 1234876479, 'nome': 'Maria de Belem'}\n",
      "O nome do usuário cadastrado é Maria de Belem\n",
      "O CPF do usuário cadastrado é 1234876479\n"
     ]
    }
   ],
   "source": [
    "cadastro(cpf=1234876479, nome='Maria de Belem')"
   ]
  },
  {
   "cell_type": "code",
   "execution_count": 58,
   "metadata": {
    "colab": {
     "base_uri": "https://localhost:8080/"
    },
    "executionInfo": {
     "elapsed": 256,
     "status": "ok",
     "timestamp": 1665166369371,
     "user": {
      "displayName": "Gilberto Kaihami",
      "userId": "07651446941847976228"
     },
     "user_tz": 180
    },
    "id": "ntqdoTAMpkD3",
    "outputId": "d815302f-91b4-4ebf-ece1-eec73d3438fc"
   },
   "outputs": [
    {
     "name": "stdout",
     "output_type": "stream",
     "text": [
      "{'nome': 'Maria de Belem'}\n",
      "O nome do usuário cadastrado é Maria de Belem\n"
     ]
    }
   ],
   "source": [
    "cadastro(nome='Maria de Belem')"
   ]
  },
  {
   "cell_type": "code",
   "execution_count": 59,
   "metadata": {
    "tags": []
   },
   "outputs": [
    {
     "name": "stdout",
     "output_type": "stream",
     "text": [
      "{'nome': 'Maria de Belem', 'cpf': 12345678910, 'time': 'Flamengo'}\n",
      "O nome do usuário cadastrado é Maria de Belem\n",
      "O CPF do usuário cadastrado é 12345678910\n"
     ]
    }
   ],
   "source": [
    "# Se eu passar um parâmetro que não é usado na função, nada acontece\n",
    "cadastro(nome='Maria de Belem', cpf=12345678910, time=\"Flamengo\")"
   ]
  },
  {
   "cell_type": "code",
   "execution_count": 60,
   "metadata": {},
   "outputs": [
    {
     "name": "stdout",
     "output_type": "stream",
     "text": [
      "{'nome': 'Maria', 'cpf': 2468135790}\n",
      "O nome do usuário cadastrado é Maria\n",
      "O CPF do usuário cadastrado é 2468135790\n"
     ]
    }
   ],
   "source": [
    "# Cadastro a partir de um dicionário\n",
    "maria = {'nome':'Maria', 'cpf': 2468135790}\n",
    "cadastro(**maria)"
   ]
  },
  {
   "cell_type": "code",
   "execution_count": 61,
   "metadata": {
    "colab": {
     "base_uri": "https://localhost:8080/"
    },
    "executionInfo": {
     "elapsed": 307,
     "status": "ok",
     "timestamp": 1665166430876,
     "user": {
      "displayName": "Gilberto Kaihami",
      "userId": "07651446941847976228"
     },
     "user_tz": 180
    },
    "id": "OMlGvBEUpr9S",
    "outputId": "c5aaf718-11e8-4240-b51f-d08a47166397"
   },
   "outputs": [
    {
     "name": "stdout",
     "output_type": "stream",
     "text": [
      "args=(1, 2, 3)\n",
      "kwargs={'a': 20, 'b': 30}\n"
     ]
    }
   ],
   "source": [
    "def teste(*args, **kwargs):\n",
    "    print(f'args={args}')\n",
    "    print(f'kwargs={kwargs}')\n",
    "teste(1, 2, 3, a=20, b=30)"
   ]
  },
  {
   "cell_type": "code",
   "execution_count": 62,
   "metadata": {
    "colab": {
     "base_uri": "https://localhost:8080/"
    },
    "executionInfo": {
     "elapsed": 2,
     "status": "ok",
     "timestamp": 1665166435373,
     "user": {
      "displayName": "Gilberto Kaihami",
      "userId": "07651446941847976228"
     },
     "user_tz": 180
    },
    "id": "ss0zunNnpyJ7",
    "outputId": "54856d0c-801e-4b25-eb86-6c5dec21ee8d"
   },
   "outputs": [
    {
     "name": "stdout",
     "output_type": "stream",
     "text": [
      "args=(1, 2, 3)\n",
      "kwargs={}\n"
     ]
    }
   ],
   "source": [
    "teste(1, 2, 3)"
   ]
  },
  {
   "cell_type": "code",
   "execution_count": 63,
   "metadata": {
    "colab": {
     "base_uri": "https://localhost:8080/"
    },
    "executionInfo": {
     "elapsed": 446,
     "status": "ok",
     "timestamp": 1665166444086,
     "user": {
      "displayName": "Gilberto Kaihami",
      "userId": "07651446941847976228"
     },
     "user_tz": 180
    },
    "id": "CVGTEJ-3p3yb",
    "outputId": "ef7a8827-917e-4d28-844e-8a26321f2b82"
   },
   "outputs": [
    {
     "name": "stdout",
     "output_type": "stream",
     "text": [
      "args=()\n",
      "kwargs={'a': 20, 'b': 30}\n"
     ]
    }
   ],
   "source": [
    "teste(a=20, b=30)"
   ]
  },
  {
   "cell_type": "markdown",
   "metadata": {
    "id": "NbZK8RcXqmzx"
   },
   "source": [
    "**Desafio**\n",
    "\n",
    "Crie um sistema de cadastro de produtos. Neste sistema podemos:\n",
    "- Adicionar um novo produto\n",
    "- Remover um produto da base\n",
    "- Consultar quais são os produtos cadastrados\n",
    "- Consultas quais os produtos cadastrados e suas quantidades disponíveis\n",
    "- Adicionar informações extras por produto (descrição por exemplo)\n",
    "- Adicionar ao estoque de um produto\n",
    "- Remover do estoque um produto (nota, o total em estoque não pode ser menor que 0)\n",
    "\n",
    "Para tal crie as seguintes funções:\n",
    "- cadastre_produto\n",
    "- delete_produto\n",
    "- adicione_produto_estoque\n",
    "- remova_produto_estoque\n",
    "- consulte_produtos\n",
    "- consulte_quantidade\n",
    "- consulte_descricao_produto\n",
    "- ative_sistema\n",
    "  - Essa função irá gerenciar todas as funções acima (como um sistema central)\n",
    "\n",
    "Os atributos possíveis são:\n",
    "- Nome do produto\n",
    "- Quantidade do produto\n",
    "- descrição\n",
    "- Informações adicionais"
   ]
  },
  {
   "cell_type": "code",
   "execution_count": 129,
   "metadata": {
    "id": "F08f7nhBqYIH"
   },
   "outputs": [],
   "source": [
    "produtos = {\"nomes\": [], \"quantidades\": [], \"descricoes\": [], \"info_adicionais\": []}\n",
    "\n",
    "### [1]\n",
    "def cadastre_produto(nome_produto, **kwargs):\n",
    "    \"\"\"\n",
    "        Essa função cadastra um novo produto com os campos:\n",
    "        - nome do produto (obrigatório)\n",
    "        **kwargs:\n",
    "        - quantidade (opcional)\n",
    "        - descricao (opcional)\n",
    "        - info_adicional(opcional)\n",
    "    \"\"\"\n",
    "    try:\n",
    "        produtos[\"nomes\"].append(nome_produto)\n",
    "\n",
    "        if \"quantidade\" in kwargs:\n",
    "            produtos[\"quantidades\"].append(kwargs[\"quantidade\"])\n",
    "        else:\n",
    "            produtos[\"quantidades\"].append(0)\n",
    "\n",
    "        if \"descricao\" in kwargs:\n",
    "            produtos[\"descricoes\"].append(kwargs[\"descricao\"])\n",
    "        else:\n",
    "            produtos[\"descricoes\"].append(None)\n",
    "\n",
    "        if \"info_adicional\" in kwargs:\n",
    "            produtos[\"info_adicionais\"].append(kwargs[\"info_adicional\"])\n",
    "        else:\n",
    "            produtos[\"info_adicionais\"].append(None)\n",
    "        print(\"Produto cadastrado com sucesso!\")\n",
    "    except:\n",
    "        print(\"Erro. Produto não cadastrado.\")\n",
    "        pass\n",
    "\n",
    "    \n",
    "### [2]\n",
    "def delete_produto(nome_produto):\n",
    "    \"\"\" \n",
    "        Essa função deleta um produto da base pelo `nome do produto`\n",
    "    \"\"\"\n",
    "    try:\n",
    "        index_produto = produtos[\"nomes\"].index(nome_produto)\n",
    "        for chave in produtos:\n",
    "            produtos[chave].pop(index_produto)\n",
    "        print(f\"\\\"{nome_produto}\\\" deletado com sucesso!\")\n",
    "    except:\n",
    "        print(f\"Erro ao deletar o produto \\\"{nome_produto}\\\"\")\n",
    "        pass\n",
    "\n",
    "\n",
    "### [3]\n",
    "def consulte_produtos():\n",
    "    \"\"\"\n",
    "        Essa função mostra os produtos disponíveis no sistema (somente nome)\n",
    "    \"\"\"\n",
    "    print(\"Produtos cadastrados no sistema:\")\n",
    "    for nome in produtos[\"nomes\"]:\n",
    "        print(f\". {nome}\")\n",
    "\n",
    "\n",
    "def adicione_produto_estoque(nome_produto, quantidade_adicional):\n",
    "    \"\"\"\n",
    "        Essa função adiciona ao estoque uma quantidade de um dado produto\n",
    "        Nota: Não pode ser aceito quantidade negativas\n",
    "    \"\"\"\n",
    "    try:\n",
    "        index_produto = produtos[\"nomes\"].index(nome_produto)\n",
    "        produtos[\"quantidades\"][index_produto] += quantidade_adicional\n",
    "        print(f\"Sucesso ao adicionar a quantidade {quantidade_adicional} ao estoque do produto {nome_produto}!\")\n",
    "    except:\n",
    "        print(f\"Erro ao tentar adicionar a quantidade {quantidade_adicional} ao estoque do produto {nome_produto}\")\n",
    "        pass\n",
    "\n",
    "\n",
    "def remova_produto_estoque(nome_produto, quantidade_a_remover):\n",
    "    \"\"\"\n",
    "        Essa função remove do estoque uma quantidade de um dado produto\n",
    "        Nota: Não pode ser aceito quantidade negativas\n",
    "    \"\"\"\n",
    "    try:\n",
    "        index_produto = produtos[\"nomes\"].index(nome_produto)\n",
    "        produtos[\"quantidades\"][index_produto] -= quantidade_a_remover\n",
    "        print(f\"Sucesso ao remover a quantidade {quantidade_a_remover} do estoque do produto {nome_produto}!\")\n",
    "    except:\n",
    "        print(f\"Erro ao tentar remover a quantidade {quantidade_a_remover} ao estoque do produto {nome_produto}\")\n",
    "        pass\n",
    "\n",
    "\n",
    "\n",
    "\n",
    "def consulte_quantidade():\n",
    "    \"\"\"\n",
    "        Essa função mostra os produtos e a quantidade disponíveis no sistema\n",
    "    \"\"\"\n",
    "    print(\"Produtos e quantidades em estoque:\")\n",
    "    for p,q in zip(produtos[\"nomes\"], produtos[\"quantidades\"]):\n",
    "        print(f\". {p}: {q}\")\n",
    "     \n",
    "    \n",
    "def consulte_descricao_produto(nome_produto):\n",
    "    \"\"\"\n",
    "        Essa função mostra a descrição e as Informações adicionais de um dado produto\n",
    "    \"\"\"\n",
    "    try:\n",
    "        index_produto = produtos[\"nomes\"].index(nome_produto)\n",
    "        print(produtos[\"nomes\"][index_produto])\n",
    "        print(\".\", produtos[\"descricoes\"][index_produto])\n",
    "        print(\".\", produtos[\"info_adicionais\"][index_produto])\n",
    "    except:\n",
    "        print(f\"Erro ao acessar as informações do produto \\\"{nome_produto}\\\"\")\n",
    "        pass\n",
    "\n",
    "\n",
    "def ative_sistema():\n",
    "    \"\"\"\n",
    "        Essa função aceita as interações do usuário, coordenando qual ação deve ser tomada\n",
    "        Cada ação refere-se as funções desenvolvidas acima.\n",
    "        Nota: o que fazer se for inserida uma ação inválida?\n",
    "    \"\"\"\n",
    "\n",
    "\n",
    "while True:\n",
    "    print(\"### Sistema de Gerenciamento de Estoque ###\")\n",
    "    print(\"1. Adicionar um novo produto\")\n",
    "    print(\"2. Remover um produto da base\")\n",
    "    print(\"3. Consultar quais são os produtos cadastrados)\n",
    "    print(\"4. Consultas quais os produtos cadastrados e suas quantidades disponíveis\")\n",
    "    print(\"5. Adicionar informações extras por produto (descrição por exemplo)\")\n",
    "    print(\"6. Adicionar ao estoque de um produto\")\n",
    "    print(\"7. Remover do estoque um produto (nota, o total em estoque não pode ser menor que 0)\")\n",
    "\n"
   ]
  },
  {
   "cell_type": "code",
   "execution_count": 123,
   "metadata": {
    "tags": []
   },
   "outputs": [
    {
     "data": {
      "text/plain": [
       "{'nomes': [], 'quantidades': [], 'descricoes': [], 'info_adicionais': []}"
      ]
     },
     "execution_count": 123,
     "metadata": {},
     "output_type": "execute_result"
    }
   ],
   "source": [
    "produtos"
   ]
  },
  {
   "cell_type": "code",
   "execution_count": 130,
   "metadata": {
    "tags": []
   },
   "outputs": [
    {
     "name": "stdout",
     "output_type": "stream",
     "text": [
      "Produto cadastrado com sucesso!\n",
      "Produto cadastrado com sucesso!\n",
      "Produto cadastrado com sucesso!\n"
     ]
    }
   ],
   "source": [
    "cadastre_produto(nome_produto=\"Arroz\", quantidade=10, descricao=\"Arroz integral\")\n",
    "cadastre_produto(nome_produto=\"Feijao\", quantidade=2, descricao=\"Feijao preto\", info_adicional=\"Próximo de vencer\")\n",
    "cadastre_produto(nome_produto=\"Sabonete\")"
   ]
  },
  {
   "cell_type": "code",
   "execution_count": 131,
   "metadata": {
    "tags": []
   },
   "outputs": [
    {
     "data": {
      "text/plain": [
       "{'nomes': ['Arroz', 'Feijao', 'Sabonete'],\n",
       " 'quantidades': [10, 2, 0],\n",
       " 'descricoes': ['Arroz integral', 'Feijao preto', None],\n",
       " 'info_adicionais': [None, 'Próximo de vencer', None]}"
      ]
     },
     "execution_count": 131,
     "metadata": {},
     "output_type": "execute_result"
    }
   ],
   "source": [
    "produtos"
   ]
  }
 ],
 "metadata": {
  "colab": {
   "authorship_tag": "ABX9TyPy87b8whmoZ4H7sZ7z482L",
   "collapsed_sections": [],
   "provenance": []
  },
  "kernelspec": {
   "display_name": "Python 3 (ipykernel)",
   "language": "python",
   "name": "python3"
  },
  "language_info": {
   "codemirror_mode": {
    "name": "ipython",
    "version": 3
   },
   "file_extension": ".py",
   "mimetype": "text/x-python",
   "name": "python",
   "nbconvert_exporter": "python",
   "pygments_lexer": "ipython3",
   "version": "3.10.10"
  }
 },
 "nbformat": 4,
 "nbformat_minor": 4
}
