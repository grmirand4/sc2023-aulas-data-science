{
 "cells": [
  {
   "cell_type": "markdown",
   "metadata": {
    "id": "fmxPXEnS3yyC"
   },
   "source": [
    "## Lógica de programação II - Arquivos\n",
    "\n",
    "Na aula de hoje iremos explorar os seguintes tópicos em Python:\n",
    "\n",
    "- Arquivos de texto\n",
    "- CSV\n",
    "- Json\n"
   ]
  },
  {
   "cell_type": "markdown",
   "metadata": {
    "id": "Z0HroQXG6laz"
   },
   "source": [
    "### Arquivos\n",
    "\n",
    "Até o momento, todas as informações eram armazenadas na memória RAM, ou seja, uma vez que o programa/notebook fosse finalizado, seja por desligarmos o computador ou por reiniciar o kernel, as informações de cada linha de código eram perdidas. Sendo necessário a execução completa do programa/células, para termos acessos aos dados novamente.\n",
    "\n",
    "Em outras palavras não tinhamos a **persistência** dos dados. No programa de cadastros, por exemplo, era necessário a reinserção de todos os dados dos usuários para que pudesse ser reaproveitado. Um processo pouco prático e eficiente. Para contornar e permitir que esses dados sejam reaproveitados no mesmo programa ou em diferentes aplicações, podemos **persistir essas informações** no formato de **arquivos**. Esses arquivos são armazenados em unidades de armazenamento, como SSD ou HDD, sendo ele local (seu computador, por exemplo) ou num servidor da nuvem.\n",
    "\n",
    "#### Arquivos em Python\n",
    "\n",
    "Há dois tipos de arquivos: binários e texto\n",
    "\n",
    "**Texto:**\n",
    "\n",
    "Arquivos de texto são representados sequências de caracteres (ASCII, por exemplo) separado por linhas. Tipicamente arquivos de texto são fácilmente entendidos por humanos.\n",
    "\n",
    "**Binários:**\n",
    "\n",
    "São arquivos que incluem dados que não foram escritos utilizando um padrão de codificação de caracteres, esses arquivos são armazenados da mesma forma que foram armazenados na memória durante o processamento. \n",
    "\n",
    "\n",
    "Um passo importante ao manipular arquivos é **fechar** o mesmo, utilizando a método `close`. \n",
    "\n",
    "- Se o arquivo for alterado porém não finalizado, suas modificações não serão salvas\n",
    "- Se o arquivo não for finalizado, outros programas podem ter problemas de acesso a este arquivo.\n",
    "\n"
   ]
  },
  {
   "cell_type": "markdown",
   "metadata": {
    "id": "j5zdZMMqBAWY"
   },
   "source": [
    "#### Escrevendo arquivos\n",
    "\n",
    "Há três passos para a escrita de arquivos de texto\n",
    "\n",
    "- 1. Abertura do arquivo no modo correto\n",
    "- 2. Escrita do conteúdo\n",
    "- 3. Fechar o arquivo"
   ]
  },
  {
   "cell_type": "markdown",
   "metadata": {},
   "source": [
    "|modo|simbolo|descrição|\n",
    "|--|--|--|\n",
    "|read|`r`|lê um arquivo existente|\n",
    "|write|`w`|cria um novo arquivo|\n",
    "|append|`a`|abre um arquivo existente para adicionar informações ao seu final|\n",
    "|update|`+`|ao combinar com outros modos, permite a alteração do arquivo existente (ex: `r+` abre um arquivo existente permitindo a sua modificação (read and write)|\n",
    "|text|`t`|Abre um arquivo no modo texto (default)|\n",
    "|binary|`b`|abre um arquivo no modo binário|"
   ]
  },
  {
   "cell_type": "markdown",
   "metadata": {},
   "source": [
    "**Quando utilizamos o modo write, um novo arquivo é criado**"
   ]
  },
  {
   "cell_type": "code",
   "execution_count": 1,
   "metadata": {
    "id": "IMRLsHey3kxe",
    "tags": []
   },
   "outputs": [],
   "source": [
    "# Abrindo um arquivo\n",
    "arquivo = open(\n",
    "    './ola.txt', # Nome do arquivo\n",
    "    \"w\" # Modo de escrita\n",
    ")\n",
    "arquivo.write('Olá mundo') # Escreve a frase\n",
    "arquivo.close()"
   ]
  },
  {
   "cell_type": "markdown",
   "metadata": {
    "id": "erHtHHkqCDw7"
   },
   "source": [
    "Arquivos de texto somente aceitam strings!"
   ]
  },
  {
   "cell_type": "code",
   "execution_count": 2,
   "metadata": {
    "colab": {
     "base_uri": "https://localhost:8080/",
     "height": 253
    },
    "executionInfo": {
     "elapsed": 3,
     "status": "error",
     "timestamp": 1666028452077,
     "user": {
      "displayName": "Gilberto Kaihami",
      "userId": "07651446941847976228"
     },
     "user_tz": 180
    },
    "id": "ecCgVkvjByfR",
    "outputId": "5455851b-b162-4253-bb37-789bff081cd0",
    "tags": []
   },
   "outputs": [
    {
     "ename": "TypeError",
     "evalue": "write() argument must be str, not int",
     "output_type": "error",
     "traceback": [
      "\u001b[0;31m---------------------------------------------------------------------------\u001b[0m",
      "\u001b[0;31mTypeError\u001b[0m                                 Traceback (most recent call last)",
      "Cell \u001b[0;32mIn[2], line 7\u001b[0m\n\u001b[1;32m      2\u001b[0m arquivo \u001b[38;5;241m=\u001b[39m \u001b[38;5;28mopen\u001b[39m(\n\u001b[1;32m      3\u001b[0m     \u001b[38;5;124m'\u001b[39m\u001b[38;5;124m./ola.txt\u001b[39m\u001b[38;5;124m'\u001b[39m, \u001b[38;5;66;03m# Nome do arquivo\u001b[39;00m\n\u001b[1;32m      4\u001b[0m     \u001b[38;5;124m\"\u001b[39m\u001b[38;5;124mw\u001b[39m\u001b[38;5;124m\"\u001b[39m \u001b[38;5;66;03m# Modo de escrita\u001b[39;00m\n\u001b[1;32m      5\u001b[0m )\n\u001b[1;32m      6\u001b[0m arquivo\u001b[38;5;241m.\u001b[39mwrite(\u001b[38;5;124m'\u001b[39m\u001b[38;5;124mOlá mundo\u001b[39m\u001b[38;5;124m'\u001b[39m) \u001b[38;5;66;03m# Escreve a frase\u001b[39;00m\n\u001b[0;32m----> 7\u001b[0m \u001b[43marquivo\u001b[49m\u001b[38;5;241;43m.\u001b[39;49m\u001b[43mwrite\u001b[49m\u001b[43m(\u001b[49m\u001b[38;5;241;43m1\u001b[39;49m\u001b[43m)\u001b[49m \u001b[38;5;66;03m# Escreve o número\u001b[39;00m\n\u001b[1;32m      8\u001b[0m arquivo\u001b[38;5;241m.\u001b[39mclose()\n",
      "\u001b[0;31mTypeError\u001b[0m: write() argument must be str, not int"
     ]
    }
   ],
   "source": [
    "# Abrindo um arquivo\n",
    "arquivo = open(\n",
    "    './ola.txt', # Nome do arquivo\n",
    "    \"w\" # Modo de escrita\n",
    ")\n",
    "arquivo.write('Olá mundo') # Escreve a frase\n",
    "arquivo.write(1) # Escreve o número\n",
    "arquivo.close()"
   ]
  },
  {
   "cell_type": "markdown",
   "metadata": {
    "id": "9jLg7nuLCLhE"
   },
   "source": [
    "Precisamos inserir novas linhas ('\\n') para separar as frase"
   ]
  },
  {
   "cell_type": "code",
   "execution_count": 4,
   "metadata": {
    "id": "S59cgYgxCG1F",
    "tags": []
   },
   "outputs": [],
   "source": [
    "# Abrindo um arquivo\n",
    "arquivo = open(\n",
    "    './ola2.txt', # Nome do arquivo\n",
    "    \"w\" # Modo de escrita\n",
    ")\n",
    "arquivo.write('Olá mundo\\n') # Escreve a frase\n",
    "arquivo.write('Olá mundo') # Escreve o número\n",
    "arquivo.close()"
   ]
  },
  {
   "cell_type": "code",
   "execution_count": 6,
   "metadata": {
    "id": "uRzl6n9yCO9Z",
    "tags": []
   },
   "outputs": [],
   "source": [
    "# Abrindo um arquivo\n",
    "arquivo = open(\n",
    "    './ola3.txt', # Nome do arquivo\n",
    "    \"w\" # Modo de escrita\n",
    ")\n",
    "arquivo.write('Olá mundo') # Escreve a frase\n",
    "arquivo.write('\\n') # Escrevendo uma nova linha (newline character)\n",
    "arquivo.write('Olá mundo') # Escreve o número\n",
    "arquivo.close()"
   ]
  },
  {
   "cell_type": "markdown",
   "metadata": {
    "id": "ICvuYYcICsT_"
   },
   "source": [
    "**Adicionando novo conteúdo**"
   ]
  },
  {
   "cell_type": "code",
   "execution_count": 5,
   "metadata": {
    "id": "aHmQcOBTCh_I",
    "tags": []
   },
   "outputs": [],
   "source": [
    "arquivo = open(\n",
    "    './ola4.txt',\n",
    "    'a'\n",
    ")\n",
    "frases = ['Hoje era um bom dia!', 'Estava sol e consegui caminhar.']\n",
    "arquivo.write('\\n'.join(frases))\n",
    "arquivo.close()"
   ]
  },
  {
   "cell_type": "code",
   "execution_count": 7,
   "metadata": {
    "colab": {
     "base_uri": "https://localhost:8080/",
     "height": 236
    },
    "executionInfo": {
     "elapsed": 8,
     "status": "error",
     "timestamp": 1666028900261,
     "user": {
      "displayName": "Gilberto Kaihami",
      "userId": "07651446941847976228"
     },
     "user_tz": 180
    },
    "id": "eIljFHBDDAGl",
    "outputId": "1aaad64b-bc7f-446e-837c-4c75ae3375c0",
    "tags": []
   },
   "outputs": [
    {
     "ename": "ValueError",
     "evalue": "I/O operation on closed file.",
     "output_type": "error",
     "traceback": [
      "\u001b[0;31m---------------------------------------------------------------------------\u001b[0m",
      "\u001b[0;31mValueError\u001b[0m                                Traceback (most recent call last)",
      "Cell \u001b[0;32mIn[7], line 2\u001b[0m\n\u001b[1;32m      1\u001b[0m frases2 \u001b[38;5;241m=\u001b[39m [\u001b[38;5;124m'\u001b[39m\u001b[38;5;124mAmanhã será um bom dia também!\u001b[39m\u001b[38;5;124m'\u001b[39m, \u001b[38;5;124m'\u001b[39m\u001b[38;5;124mApesar de chover conseguirei estudar.\u001b[39m\u001b[38;5;124m'\u001b[39m]\n\u001b[0;32m----> 2\u001b[0m \u001b[43marquivo\u001b[49m\u001b[38;5;241;43m.\u001b[39;49m\u001b[43mwrite\u001b[49m\u001b[43m(\u001b[49m\u001b[38;5;124;43m'\u001b[39;49m\u001b[38;5;130;43;01m\\n\u001b[39;49;00m\u001b[38;5;124;43m'\u001b[39;49m\u001b[38;5;241;43m.\u001b[39;49m\u001b[43mjoin\u001b[49m\u001b[43m(\u001b[49m\u001b[43mfrases2\u001b[49m\u001b[43m)\u001b[49m\u001b[43m)\u001b[49m\n",
      "\u001b[0;31mValueError\u001b[0m: I/O operation on closed file."
     ]
    }
   ],
   "source": [
    "frases2 = ['Amanhã será um bom dia também!', 'Apesar de chover conseguirei estudar.']\n",
    "arquivo.write('\\n'.join(frases2))"
   ]
  },
  {
   "cell_type": "markdown",
   "metadata": {
    "id": "0SRdPuQSD5p1"
   },
   "source": [
    "No passo anterior, o arquivo estava fechado e por este motivo não conseguimos escrever um novo conteúdo! Precisamos abrir novamente o arquivo!"
   ]
  },
  {
   "cell_type": "code",
   "execution_count": 8,
   "metadata": {
    "id": "vyMXtmjOD5C3",
    "tags": []
   },
   "outputs": [],
   "source": [
    "arquivo = open(\n",
    "    './ola4.txt',\n",
    "    'a'\n",
    ")\n",
    "\n",
    "arquivo.write('\\n'.join(frases2))\n",
    "arquivo.close()"
   ]
  },
  {
   "cell_type": "markdown",
   "metadata": {
    "id": "JaWhqCRUEM4N"
   },
   "source": [
    "Note que não houve separação entre a segunda frase e a terceira frase!\n",
    "Por este motivo é muito comum utilizar compreensões de lista!"
   ]
  },
  {
   "cell_type": "code",
   "execution_count": 9,
   "metadata": {
    "id": "2VIuMyP2DFBa",
    "tags": []
   },
   "outputs": [],
   "source": [
    "arquivo = open(\n",
    "    './ola5.txt',\n",
    "    'a'\n",
    ")\n",
    "frases = ['Hoje era um bom dia!', 'Estava sol e consegui caminhar.', 'Não sei se vou pra faculdade hoje']\n",
    "arquivo.write(''.join([f'{frase}\\n' for frase in frases]))\n",
    "arquivo.close()\n",
    "\n",
    "arquivo = open(\n",
    "    './ola5.txt',\n",
    "    'a'\n",
    ")\n",
    "frases2 = ['Amanhã será um bom dia também!', 'Apesar de chover conseguirei estudar.']\n",
    "arquivo.write(''.join([f'{frase}\\n' for frase in frases2]))\n",
    "arquivo.close()"
   ]
  },
  {
   "cell_type": "markdown",
   "metadata": {
    "id": "cpig7stvE-2g"
   },
   "source": [
    "Como é \"difícil\" lembrar de fechar o arquivo, o Python permite que seja utilizada uma forma \"mais segura\" quando trabalhamos com conexões (arquivos/banco de dados, por exemplo). \n",
    "\n",
    "De forma resumida damos um contexto utilizando a palavra reservada `with`. Ao executar esse bloco de código, ele irá fechar a conexão ou o arquivo para a gente."
   ]
  },
  {
   "cell_type": "code",
   "execution_count": 10,
   "metadata": {
    "id": "8rPpzH4jEyhc",
    "tags": []
   },
   "outputs": [],
   "source": [
    "with open('ola6.txt', 'w') as arquivo:\n",
    "    arquivo.write('Olá tudo bem?\\nQue lindo dia!')"
   ]
  },
  {
   "cell_type": "markdown",
   "metadata": {
    "id": "tQEhUWyXaS3E"
   },
   "source": [
    "#### Lendo arquivos\n",
    "\n",
    "Para ler o conteúdo de arquivos podemos utilizar o método `read`, note que o arquivo precisa estar no modo de leitura (`r`)"
   ]
  },
  {
   "cell_type": "code",
   "execution_count": 11,
   "metadata": {
    "colab": {
     "base_uri": "https://localhost:8080/"
    },
    "executionInfo": {
     "elapsed": 892,
     "status": "ok",
     "timestamp": 1666034891380,
     "user": {
      "displayName": "Gilberto Kaihami",
      "userId": "07651446941847976228"
     },
     "user_tz": 180
    },
    "id": "ZkBz6VeAaNiX",
    "outputId": "af012d48-d063-4efa-bfa5-e363d30b44e8",
    "tags": []
   },
   "outputs": [
    {
     "name": "stdout",
     "output_type": "stream",
     "text": [
      "<_io.TextIOWrapper name='ola6.txt' mode='r' encoding='UTF-8'>\n"
     ]
    }
   ],
   "source": [
    "arquivo = open('ola6.txt', 'r')\n",
    "print(arquivo)"
   ]
  },
  {
   "cell_type": "markdown",
   "metadata": {
    "id": "GyeSdZySaswS"
   },
   "source": [
    "Podemos ler linha a linha"
   ]
  },
  {
   "cell_type": "code",
   "execution_count": 15,
   "metadata": {
    "colab": {
     "base_uri": "https://localhost:8080/",
     "height": 35
    },
    "executionInfo": {
     "elapsed": 4,
     "status": "ok",
     "timestamp": 1666034891762,
     "user": {
      "displayName": "Gilberto Kaihami",
      "userId": "07651446941847976228"
     },
     "user_tz": 180
    },
    "id": "AswG4rDsaoOX",
    "outputId": "1271384b-c39a-47b8-91f2-461d7d79124e",
    "tags": []
   },
   "outputs": [
    {
     "data": {
      "text/plain": [
       "''"
      ]
     },
     "execution_count": 15,
     "metadata": {},
     "output_type": "execute_result"
    }
   ],
   "source": [
    "arquivo.readline()"
   ]
  },
  {
   "cell_type": "code",
   "execution_count": null,
   "metadata": {
    "colab": {
     "base_uri": "https://localhost:8080/",
     "height": 35
    },
    "executionInfo": {
     "elapsed": 4,
     "status": "ok",
     "timestamp": 1666034891763,
     "user": {
      "displayName": "Gilberto Kaihami",
      "userId": "07651446941847976228"
     },
     "user_tz": 180
    },
    "id": "WUiltgCoaq3I",
    "outputId": "1cf52c61-d470-46ca-f5ea-e33be92a0c76"
   },
   "outputs": [
    {
     "data": {
      "application/vnd.google.colaboratory.intrinsic+json": {
       "type": "string"
      },
      "text/plain": [
       "'Que lindo dia!'"
      ]
     },
     "execution_count": 33,
     "metadata": {},
     "output_type": "execute_result"
    }
   ],
   "source": [
    "arquivo.readline()"
   ]
  },
  {
   "cell_type": "code",
   "execution_count": null,
   "metadata": {
    "colab": {
     "base_uri": "https://localhost:8080/",
     "height": 35
    },
    "executionInfo": {
     "elapsed": 607,
     "status": "ok",
     "timestamp": 1666034895439,
     "user": {
      "displayName": "Gilberto Kaihami",
      "userId": "07651446941847976228"
     },
     "user_tz": 180
    },
    "id": "JwK4GtZ7arwC",
    "outputId": "7b2099d0-b5c0-4296-8939-4618b1f1f390"
   },
   "outputs": [
    {
     "data": {
      "application/vnd.google.colaboratory.intrinsic+json": {
       "type": "string"
      },
      "text/plain": [
       "''"
      ]
     },
     "execution_count": 34,
     "metadata": {},
     "output_type": "execute_result"
    }
   ],
   "source": [
    "arquivo.readline()"
   ]
  },
  {
   "cell_type": "code",
   "execution_count": 16,
   "metadata": {
    "id": "GNWKCo6KbWpD",
    "tags": []
   },
   "outputs": [],
   "source": [
    "arquivo.close()"
   ]
  },
  {
   "cell_type": "markdown",
   "metadata": {
    "id": "xOVVj_jSbReE"
   },
   "source": [
    "Para ler o arquivo todo podemos utilizar o `read`"
   ]
  },
  {
   "cell_type": "code",
   "execution_count": 17,
   "metadata": {
    "colab": {
     "base_uri": "https://localhost:8080/"
    },
    "executionInfo": {
     "elapsed": 487,
     "status": "ok",
     "timestamp": 1666035082310,
     "user": {
      "displayName": "Gilberto Kaihami",
      "userId": "07651446941847976228"
     },
     "user_tz": 180
    },
    "id": "NkGkTPSoawXT",
    "outputId": "6a26e201-b7d2-457c-da31-727c14fb6d42",
    "tags": []
   },
   "outputs": [
    {
     "name": "stdout",
     "output_type": "stream",
     "text": [
      "<_io.TextIOWrapper name='ola6.txt' mode='r' encoding='UTF-8'>\n",
      "Olá tudo bem?\n",
      "Que lindo dia!\n"
     ]
    }
   ],
   "source": [
    "arquivo = open('ola6.txt', 'r')\n",
    "print(arquivo)\n",
    "texto = arquivo.read()\n",
    "print(texto)\n",
    "arquivo.close()"
   ]
  },
  {
   "cell_type": "code",
   "execution_count": null,
   "metadata": {
    "colab": {
     "base_uri": "https://localhost:8080/",
     "height": 35
    },
    "executionInfo": {
     "elapsed": 540,
     "status": "ok",
     "timestamp": 1666035091413,
     "user": {
      "displayName": "Gilberto Kaihami",
      "userId": "07651446941847976228"
     },
     "user_tz": 180
    },
    "id": "ZjZEcSgWaw1i",
    "outputId": "d125db0a-18da-4d4e-80c1-c93cbe3171c6"
   },
   "outputs": [
    {
     "data": {
      "application/vnd.google.colaboratory.intrinsic+json": {
       "type": "string"
      },
      "text/plain": [
       "'Olá tudo bem?\\nQue lindo dia!'"
      ]
     },
     "execution_count": 42,
     "metadata": {},
     "output_type": "execute_result"
    }
   ],
   "source": [
    "texto"
   ]
  },
  {
   "cell_type": "markdown",
   "metadata": {
    "id": "LZnUjBZobg-c"
   },
   "source": [
    "É muito comum termos que manipular os dados de texto, por exemplo separar em linhas"
   ]
  },
  {
   "cell_type": "code",
   "execution_count": null,
   "metadata": {
    "id": "dteon1RXbbyL"
   },
   "outputs": [],
   "source": [
    "frases = texto.split('\\n')"
   ]
  },
  {
   "cell_type": "code",
   "execution_count": null,
   "metadata": {
    "colab": {
     "base_uri": "https://localhost:8080/"
    },
    "executionInfo": {
     "elapsed": 4,
     "status": "ok",
     "timestamp": 1666035129083,
     "user": {
      "displayName": "Gilberto Kaihami",
      "userId": "07651446941847976228"
     },
     "user_tz": 180
    },
    "id": "HCibcmApborS",
    "outputId": "0128686b-ed66-4a67-8ece-0364e52907a8"
   },
   "outputs": [
    {
     "data": {
      "text/plain": [
       "['Olá tudo bem?', 'Que lindo dia!']"
      ]
     },
     "execution_count": 44,
     "metadata": {},
     "output_type": "execute_result"
    }
   ],
   "source": [
    "frases"
   ]
  },
  {
   "cell_type": "markdown",
   "metadata": {},
   "source": [
    "**Exercício 1**\n",
    "\n",
    "Crie um arquivo chamado `frutas.txt`.\n",
    "\n",
    "Nesse arquivo adicione em cada linha o nome de uma fruta contida na lista frutas."
   ]
  },
  {
   "cell_type": "code",
   "execution_count": null,
   "metadata": {},
   "outputs": [],
   "source": [
    "frutas = ['maça', 'acerola', 'uva']\n",
    "\n",
    "with ... as ...:\n",
    "  ..."
   ]
  },
  {
   "cell_type": "markdown",
   "metadata": {
    "id": "vTSpwolaysFn"
   },
   "source": [
    "**Exercício 2**\n",
    "\n",
    "Leia o arquivo `frutas.txt` criado acima atribua o seu conteúdo em uma lista, em que cada elemento represente uma fruta.\n",
    "\n",
    "O nome da nova lista deve ser `frutas`"
   ]
  },
  {
   "cell_type": "code",
   "execution_count": null,
   "metadata": {
    "id": "mhzKa0n6y1mo"
   },
   "outputs": [],
   "source": [
    "\n",
    "with ... as ...:\n",
    "  ...\n",
    "\n",
    "print(frutas)"
   ]
  },
  {
   "cell_type": "markdown",
   "metadata": {
    "id": "jrQdVqMNbsY8"
   },
   "source": [
    "#### Escrevendo tabelas\n",
    "\n",
    "O formato mais comum para trabalhar com tabelas, é o uso de um formato especifico chamado de `csv` (Comma-separated values, valores separados por virgula)."
   ]
  },
  {
   "cell_type": "code",
   "execution_count": 21,
   "metadata": {
    "colab": {
     "base_uri": "https://localhost:8080/"
    },
    "executionInfo": {
     "elapsed": 709,
     "status": "ok",
     "timestamp": 1666035240239,
     "user": {
      "displayName": "Gilberto Kaihami",
      "userId": "07651446941847976228"
     },
     "user_tz": 180
    },
    "id": "1Wr2ev8obpYO",
    "outputId": "a065b7ec-256c-472f-b5db-026737e0aa45",
    "tags": []
   },
   "outputs": [
    {
     "data": {
      "text/plain": [
       "[['Aluno', 'Nota 1', 'Nota 2', 'Presenças'],\n",
       " ['Luke', 7, 9, 15],\n",
       " ['Han', 4, 7, 10],\n",
       " ['Leia', 9, 9, 16]]"
      ]
     },
     "execution_count": 21,
     "metadata": {},
     "output_type": "execute_result"
    }
   ],
   "source": [
    "tabela = [['Aluno', 'Nota 1', 'Nota 2', 'Presenças'],\n",
    "          ['Luke', 7, 9, 15],\n",
    "          ['Han', 4, 7, 10],\n",
    "          ['Leia', 9, 9, 16]]\n",
    "tabela"
   ]
  },
  {
   "cell_type": "markdown",
   "metadata": {
    "id": "GIMlvycFcAjF"
   },
   "source": [
    "Escrevendo um arquivo csv"
   ]
  },
  {
   "cell_type": "code",
   "execution_count": 22,
   "metadata": {
    "id": "79OhkfLhbvor",
    "tags": []
   },
   "outputs": [],
   "source": [
    "def escreve_linha(arquivo, linha):\n",
    "    arquivo.write(','.join(linha)) # Escrevendo a linha separada por virgula\n",
    "    arquivo.write('\\n') # Adicionando uma nova linha a cada linha inserida\n",
    "    return True\n",
    "\n",
    "def escreve_tabela(tabela, nome_arquivo):\n",
    "    # Gerenciando contexto\n",
    "    # Abrindo o arquivo com o `nome_arquivo`\n",
    "    with open(nome_arquivo, 'a') as arquivo: \n",
    "        for idx, linha in enumerate(tabela, start=1):\n",
    "            print(f'Escrevendo linha #{idx}/{len(tabela)}')\n",
    "            sucesso = escreve_linha(arquivo, linha)\n",
    "            print('Linha escrita com sucesso')\n",
    "    return True"
   ]
  },
  {
   "cell_type": "code",
   "execution_count": 23,
   "metadata": {
    "colab": {
     "base_uri": "https://localhost:8080/",
     "height": 433
    },
    "executionInfo": {
     "elapsed": 449,
     "status": "error",
     "timestamp": 1666035524518,
     "user": {
      "displayName": "Gilberto Kaihami",
      "userId": "07651446941847976228"
     },
     "user_tz": 180
    },
    "id": "WXx90D3HdGaD",
    "outputId": "5ed851b7-5d22-4146-c576-5f8c335edf87",
    "tags": []
   },
   "outputs": [
    {
     "name": "stdout",
     "output_type": "stream",
     "text": [
      "Escrevendo linha #1/4\n",
      "Linha escrita com sucesso\n",
      "Escrevendo linha #2/4\n"
     ]
    },
    {
     "ename": "TypeError",
     "evalue": "sequence item 1: expected str instance, int found",
     "output_type": "error",
     "traceback": [
      "\u001b[0;31m---------------------------------------------------------------------------\u001b[0m",
      "\u001b[0;31mTypeError\u001b[0m                                 Traceback (most recent call last)",
      "Cell \u001b[0;32mIn[23], line 1\u001b[0m\n\u001b[0;32m----> 1\u001b[0m \u001b[43mescreve_tabela\u001b[49m\u001b[43m(\u001b[49m\u001b[43mtabela\u001b[49m\u001b[43m,\u001b[49m\u001b[43m \u001b[49m\u001b[38;5;124;43m'\u001b[39;49m\u001b[38;5;124;43mnotas.csv\u001b[39;49m\u001b[38;5;124;43m'\u001b[39;49m\u001b[43m)\u001b[49m\n",
      "Cell \u001b[0;32mIn[22], line 12\u001b[0m, in \u001b[0;36mescreve_tabela\u001b[0;34m(tabela, nome_arquivo)\u001b[0m\n\u001b[1;32m     10\u001b[0m     \u001b[38;5;28;01mfor\u001b[39;00m idx, linha \u001b[38;5;129;01min\u001b[39;00m \u001b[38;5;28menumerate\u001b[39m(tabela, start\u001b[38;5;241m=\u001b[39m\u001b[38;5;241m1\u001b[39m):\n\u001b[1;32m     11\u001b[0m         \u001b[38;5;28mprint\u001b[39m(\u001b[38;5;124mf\u001b[39m\u001b[38;5;124m'\u001b[39m\u001b[38;5;124mEscrevendo linha #\u001b[39m\u001b[38;5;132;01m{\u001b[39;00midx\u001b[38;5;132;01m}\u001b[39;00m\u001b[38;5;124m/\u001b[39m\u001b[38;5;132;01m{\u001b[39;00m\u001b[38;5;28mlen\u001b[39m(tabela)\u001b[38;5;132;01m}\u001b[39;00m\u001b[38;5;124m'\u001b[39m)\n\u001b[0;32m---> 12\u001b[0m         sucesso \u001b[38;5;241m=\u001b[39m \u001b[43mescreve_linha\u001b[49m\u001b[43m(\u001b[49m\u001b[43marquivo\u001b[49m\u001b[43m,\u001b[49m\u001b[43m \u001b[49m\u001b[43mlinha\u001b[49m\u001b[43m)\u001b[49m\n\u001b[1;32m     13\u001b[0m         \u001b[38;5;28mprint\u001b[39m(\u001b[38;5;124m'\u001b[39m\u001b[38;5;124mLinha escrita com sucesso\u001b[39m\u001b[38;5;124m'\u001b[39m)\n\u001b[1;32m     14\u001b[0m \u001b[38;5;28;01mreturn\u001b[39;00m \u001b[38;5;28;01mTrue\u001b[39;00m\n",
      "Cell \u001b[0;32mIn[22], line 2\u001b[0m, in \u001b[0;36mescreve_linha\u001b[0;34m(arquivo, linha)\u001b[0m\n\u001b[1;32m      1\u001b[0m \u001b[38;5;28;01mdef\u001b[39;00m \u001b[38;5;21mescreve_linha\u001b[39m(arquivo, linha):\n\u001b[0;32m----> 2\u001b[0m     arquivo\u001b[38;5;241m.\u001b[39mwrite(\u001b[38;5;124;43m'\u001b[39;49m\u001b[38;5;124;43m,\u001b[39;49m\u001b[38;5;124;43m'\u001b[39;49m\u001b[38;5;241;43m.\u001b[39;49m\u001b[43mjoin\u001b[49m\u001b[43m(\u001b[49m\u001b[43mlinha\u001b[49m\u001b[43m)\u001b[49m) \u001b[38;5;66;03m# Escrevendo a linha separada por virgula\u001b[39;00m\n\u001b[1;32m      3\u001b[0m     arquivo\u001b[38;5;241m.\u001b[39mwrite(\u001b[38;5;124m'\u001b[39m\u001b[38;5;130;01m\\n\u001b[39;00m\u001b[38;5;124m'\u001b[39m) \u001b[38;5;66;03m# Adicionando uma nova linha a cada linha inserida\u001b[39;00m\n\u001b[1;32m      4\u001b[0m     \u001b[38;5;28;01mreturn\u001b[39;00m \u001b[38;5;28;01mTrue\u001b[39;00m\n",
      "\u001b[0;31mTypeError\u001b[0m: sequence item 1: expected str instance, int found"
     ]
    }
   ],
   "source": [
    "escreve_tabela(tabela, 'notas.csv')"
   ]
  },
  {
   "cell_type": "markdown",
   "metadata": {
    "id": "-w05tEMUdLsH"
   },
   "source": [
    "Um erro ocorreu! Pois só conseguimos escrever string!"
   ]
  },
  {
   "cell_type": "code",
   "execution_count": 26,
   "metadata": {
    "id": "AYKkdF8GdKAv",
    "tags": []
   },
   "outputs": [],
   "source": [
    "def converter_para_string(linha):\n",
    "    # Função para converter para string\n",
    "    linha_string = [str(ele) for ele in linha]\n",
    "    return linha_string\n",
    "\n",
    "def escreve_linha(arquivo, linha):\n",
    "    arquivo.write(','.join(linha)) # Escrevendo a linha separada por virgula\n",
    "    arquivo.write('\\n') # Adicionando uma nova linha a cada linha inserida\n",
    "    return True\n",
    "\n",
    "def escreve_tabela(tabela, nome_arquivo):\n",
    "    # Gerenciando contexto\n",
    "    # Abrindo o arquivo com o `nome_arquivo`\n",
    "    with open(nome_arquivo, 'w') as arquivo: \n",
    "        for idx, linha in enumerate(tabela, start=1):\n",
    "            print(f'Escrevendo linha #{idx}/{len(tabela)}')\n",
    "            linha_string = converter_para_string(linha)\n",
    "            sucesso = escreve_linha(arquivo, linha_string)\n",
    "            print('Linha escrita com sucesso')\n",
    "            print(f'Arquivo, \"{nome_arquivo}\", escrito com sucesso!')\n",
    "    return True"
   ]
  },
  {
   "cell_type": "code",
   "execution_count": 27,
   "metadata": {
    "colab": {
     "base_uri": "https://localhost:8080/"
    },
    "executionInfo": {
     "elapsed": 5,
     "status": "ok",
     "timestamp": 1666035700105,
     "user": {
      "displayName": "Gilberto Kaihami",
      "userId": "07651446941847976228"
     },
     "user_tz": 180
    },
    "id": "4jHQdkdddf00",
    "outputId": "397e0250-9c53-4cb1-da1a-b64ca9cb2022",
    "tags": []
   },
   "outputs": [
    {
     "name": "stdout",
     "output_type": "stream",
     "text": [
      "Escrevendo linha #1/4\n",
      "Linha escrita com sucesso\n",
      "Arquivo, \"notas.csv\", escrito com sucesso!\n",
      "Escrevendo linha #2/4\n",
      "Linha escrita com sucesso\n",
      "Arquivo, \"notas.csv\", escrito com sucesso!\n",
      "Escrevendo linha #3/4\n",
      "Linha escrita com sucesso\n",
      "Arquivo, \"notas.csv\", escrito com sucesso!\n",
      "Escrevendo linha #4/4\n",
      "Linha escrita com sucesso\n",
      "Arquivo, \"notas.csv\", escrito com sucesso!\n"
     ]
    },
    {
     "data": {
      "text/plain": [
       "True"
      ]
     },
     "execution_count": 27,
     "metadata": {},
     "output_type": "execute_result"
    }
   ],
   "source": [
    "escreve_tabela(tabela, 'notas.csv')"
   ]
  },
  {
   "cell_type": "markdown",
   "metadata": {
    "id": "A4I5yJ2_d4lx"
   },
   "source": [
    "Apesar de ser simples essa operação, precisamos codificar algumas funções!\n",
    "\n",
    "Para facilitar esse processo podemos utilizar o módulo `csv` do Python"
   ]
  },
  {
   "cell_type": "code",
   "execution_count": 28,
   "metadata": {
    "id": "uA8bo9SPdk1a",
    "tags": []
   },
   "outputs": [],
   "source": [
    "import csv"
   ]
  },
  {
   "cell_type": "code",
   "execution_count": 29,
   "metadata": {
    "colab": {
     "base_uri": "https://localhost:8080/"
    },
    "executionInfo": {
     "elapsed": 4,
     "status": "ok",
     "timestamp": 1666040291837,
     "user": {
      "displayName": "Gilberto Kaihami",
      "userId": "07651446941847976228"
     },
     "user_tz": 180
    },
    "id": "QNsvhxrOeBUP",
    "outputId": "9d94dd89-fa21-4926-a76f-14fc26bec6fb",
    "tags": []
   },
   "outputs": [
    {
     "data": {
      "text/plain": [
       "[['Aluno', 'Nota 1', 'Nota 2', 'Presenças'],\n",
       " ['Luke', 7, 9, 15],\n",
       " ['Han', 4, 7, 10],\n",
       " ['Leia', 9, 9, 16]]"
      ]
     },
     "execution_count": 29,
     "metadata": {},
     "output_type": "execute_result"
    }
   ],
   "source": [
    "tabela = [['Aluno', 'Nota 1', 'Nota 2', 'Presenças'],\n",
    "          ['Luke', 7, 9, 15],\n",
    "          ['Han', 4, 7, 10],\n",
    "          ['Leia', 9, 9, 16]]\n",
    "tabela"
   ]
  },
  {
   "cell_type": "markdown",
   "metadata": {
    "id": "Q-LgyN6tvYzw"
   },
   "source": [
    "Escrevendo arquivos csv de forma simples"
   ]
  },
  {
   "cell_type": "code",
   "execution_count": 31,
   "metadata": {
    "id": "yH6GxlMzvV4P",
    "tags": []
   },
   "outputs": [],
   "source": [
    "with open('notas2.csv', 'w') as arquivo:\n",
    "    escritor = csv.writer(arquivo, delimiter=',', lineterminator='\\n')\n",
    "    escritor.writerows(tabela)"
   ]
  },
  {
   "cell_type": "markdown",
   "metadata": {
    "id": "nBtE3MGpwFh_"
   },
   "source": [
    "Podemos utilizar dicionários!"
   ]
  },
  {
   "cell_type": "code",
   "execution_count": 40,
   "metadata": {
    "colab": {
     "base_uri": "https://localhost:8080/"
    },
    "executionInfo": {
     "elapsed": 444,
     "status": "ok",
     "timestamp": 1666040721026,
     "user": {
      "displayName": "Gilberto Kaihami",
      "userId": "07651446941847976228"
     },
     "user_tz": 180
    },
    "id": "Fybchq6uv6XV",
    "outputId": "3a95ee4f-9503-425d-c592-f59485ddddf7",
    "tags": []
   },
   "outputs": [],
   "source": [
    "tabela_dict = [{'Aluno': 'Luke', 'Nota 1': 7, 'Nota 2': 9, 'Presenças': 15},\n",
    " {'Aluno': 'Han', 'Nota 1': 4, 'Nota 2': 7, 'Presenças': 10},\n",
    " {'Aluno': 'Leia', 'Nota 1': 9, 'Nota 2': 9, 'Presenças': 16}]\n",
    "\n",
    "colunas = tabela_dict[0].keys()"
   ]
  },
  {
   "cell_type": "code",
   "execution_count": 41,
   "metadata": {
    "id": "XzoTRL8Yweng",
    "tags": []
   },
   "outputs": [],
   "source": [
    "with open('notas_dict.csv', 'w') as arquivo:\n",
    "    escritor = csv.DictWriter(arquivo, fieldnames=colunas, lineterminator='\\n')\n",
    "    escritor.writeheader() # Escrevendo os nomes das colunas\n",
    "    escritor.writerows(tabela_dict)"
   ]
  },
  {
   "cell_type": "markdown",
   "metadata": {
    "id": "R1ZgXi_ixe12"
   },
   "source": [
    "**Lendo o csv**"
   ]
  },
  {
   "cell_type": "code",
   "execution_count": 35,
   "metadata": {
    "id": "LtK4lPT4xl00",
    "tags": []
   },
   "outputs": [],
   "source": [
    "with open('notas_dict.csv', 'r') as arquivo:\n",
    "    planilha = csv.reader(arquivo, delimiter=',', lineterminator='\\n')\n",
    "    tabela = list(planilha)"
   ]
  },
  {
   "cell_type": "code",
   "execution_count": 36,
   "metadata": {
    "colab": {
     "base_uri": "https://localhost:8080/"
    },
    "executionInfo": {
     "elapsed": 515,
     "status": "ok",
     "timestamp": 1666041036341,
     "user": {
      "displayName": "Gilberto Kaihami",
      "userId": "07651446941847976228"
     },
     "user_tz": 180
    },
    "id": "QjpLRpG1xmgm",
    "outputId": "71c143b9-a1e3-455b-b7f3-cf814212d918",
    "tags": []
   },
   "outputs": [
    {
     "data": {
      "text/plain": [
       "[['Aluno', 'Nota 1', 'Nota 2', 'Presenças'],\n",
       " ['Luke', '7', '9', '15'],\n",
       " ['Han', '4', '7', '10'],\n",
       " ['Leia', '9', '9', '16']]"
      ]
     },
     "execution_count": 36,
     "metadata": {},
     "output_type": "execute_result"
    }
   ],
   "source": [
    "tabela"
   ]
  },
  {
   "cell_type": "code",
   "execution_count": 39,
   "metadata": {
    "tags": []
   },
   "outputs": [
    {
     "data": {
      "text/plain": [
       "['Camisa', ' Criança']"
      ]
     },
     "execution_count": 39,
     "metadata": {},
     "output_type": "execute_result"
    }
   ],
   "source": [
    "frase = \"Camisa, Criança\"\n",
    "frase.split(',')"
   ]
  },
  {
   "cell_type": "markdown",
   "metadata": {
    "id": "_AVy40Jtgp0h"
   },
   "source": [
    "**Exercício**\n",
    "\n",
    "Escreva um arquivo no formato `tsv` (Tab-separated values), cujo simbolo é `\\t`.\n",
    "\n",
    "Para tal utilize os dados abaixo da variável `tabela`.\n",
    "\n",
    "Após a sua escrita, leia o mesmo arquivo utilizando o módulo `csv` e de forma clássica utilizando o `read`."
   ]
  },
  {
   "cell_type": "code",
   "execution_count": null,
   "metadata": {
    "id": "ou-SE_hPzA99"
   },
   "outputs": [],
   "source": [
    "tabela = [['Aluno', 'Nota 1', 'Nota 2', 'Presenças'],\n",
    " ['Luke', '7', '9', '15'],\n",
    " ['Han', '4', '7', '10'],\n",
    " ['Leia', '9', '9', '16']]\n",
    "\n",
    "with open('notas.tsv', 'w') as arquivo:\n",
    "  escritor = csv.writer(arquivo, delimiter=..., lineterminator='\\n')  # Preencha aqui\n",
    "  escritor.... # Preencha aqui\n",
    "\n"
   ]
  },
  {
   "cell_type": "code",
   "execution_count": null,
   "metadata": {
    "id": "DPZdfQrQyLlE"
   },
   "outputs": [],
   "source": [
    "# Lendo o arquivo\n",
    "with open('notas.tsv', 'r') as arquivo:\n",
    "  planilha = csv.reader(arquivo, delimiter=..., lineterminator='\\n')  # Preencha aqui\n",
    "  tabela = ... # Preencha aqui\n",
    "print(tabela)"
   ]
  },
  {
   "cell_type": "markdown",
   "metadata": {
    "id": "eN9RJzddiEBS"
   },
   "source": [
    "#### JSON\n",
    "\n",
    "JSON é uma sigla para `JavaScript Object Notation`. Apesar dessa estrutura de arquivo ser primeiro utilizada em linguagens web, esse formato de arquivo é amplamente utilizada por diversas aplicações.\n",
    "\n",
    "Um dos motivos é que a representação de objetos nesse formato é legível e de fácil entendimento para humanos.\n",
    "\n",
    "Em JavaScript temos:\n",
    "```javascript\n",
    "{\n",
    "  nome: 'Mario',\n",
    "  modulo: 3,\n",
    "  media: 9.5\n",
    "}\n",
    "```\n",
    "\n",
    "No exemplo acima, ele é parecido com os dicionários em Python.\n",
    "\n",
    "```Python\n",
    "{\n",
    "  \"nome\": \"Mario\",\n",
    "  \"modulo\": 3,\n",
    "  \"media: 9.5\n",
    "}\n",
    "```\n",
    "\n",
    "Os valores de um json podem assumir diferentes tipos, como inteiros, reais, strings, booleanos, nulos...\n",
    "\n",
    "|Python|Json|\n",
    "|--|--|\n",
    "|dict|\tObject|\n",
    "|list|\tArray|\n",
    "|tuple|\tArray|\n",
    "|str|\tString|\n",
    "|int|\tNumber|\n",
    "|float|\tNumber|\n",
    "|True|\ttrue|\n",
    "|False|\tfalse|\n",
    "|None|\tnull|\n",
    "\n"
   ]
  },
  {
   "cell_type": "markdown",
   "metadata": {
    "id": "6M7RSZvpjMj7"
   },
   "source": [
    "**Json para dicionário**"
   ]
  },
  {
   "cell_type": "code",
   "execution_count": 42,
   "metadata": {
    "colab": {
     "base_uri": "https://localhost:8080/"
    },
    "executionInfo": {
     "elapsed": 5,
     "status": "ok",
     "timestamp": 1666204976782,
     "user": {
      "displayName": "Gilberto Kaihami",
      "userId": "07651446941847976228"
     },
     "user_tz": 180
    },
    "id": "V4GfRK6xhzpp",
    "outputId": "752a52da-99c4-48be-acba-2598c6b4f0ed",
    "tags": []
   },
   "outputs": [],
   "source": [
    "# Importando o módulo para trabalhar com json\n",
    "import json"
   ]
  },
  {
   "cell_type": "markdown",
   "metadata": {
    "id": "NP_0RFyqjkxj"
   },
   "source": [
    "O `json.loads` permite que seja carregada um texto (string) no formato Json e seja retornado um dicionário"
   ]
  },
  {
   "cell_type": "code",
   "execution_count": 43,
   "metadata": {
    "colab": {
     "base_uri": "https://localhost:8080/"
    },
    "executionInfo": {
     "elapsed": 250,
     "status": "ok",
     "timestamp": 1666205114050,
     "user": {
      "displayName": "Gilberto Kaihami",
      "userId": "07651446941847976228"
     },
     "user_tz": 180
    },
    "id": "264S4DBKjijb",
    "outputId": "e9a82f64-face-4f66-9b79-2faf77c7ed21",
    "tags": []
   },
   "outputs": [
    {
     "name": "stdout",
     "output_type": "stream",
     "text": [
      "string json {\"nome\": \"Mario\", \"pontuação\":100}\n",
      "dicionario {'nome': 'Mario', 'pontuação': 100}\n",
      "nome Mario\n"
     ]
    }
   ],
   "source": [
    "jogador = '{\"nome\": \"Mario\", \"pontuação\":100}'\n",
    "\n",
    "dicionario = json.loads(jogador)\n",
    "print('string json', jogador)\n",
    "\n",
    "print('dicionario', dicionario)\n",
    "\n",
    "print('nome', dicionario.get('nome'))"
   ]
  },
  {
   "cell_type": "markdown",
   "metadata": {
    "id": "WHooI1hSkIHh"
   },
   "source": [
    "**Convertendo para Json**\n",
    "\n",
    "Uma forma de persistir os dados, sem ser tabulares (estruturados) é no formato Json!\n",
    "\n",
    "Para converter uma estrutura Python em Json utilizamos o `json.dumps` que retorna uma string no formato Json."
   ]
  },
  {
   "cell_type": "code",
   "execution_count": 44,
   "metadata": {
    "colab": {
     "base_uri": "https://localhost:8080/"
    },
    "executionInfo": {
     "elapsed": 5,
     "status": "ok",
     "timestamp": 1666205641208,
     "user": {
      "displayName": "Gilberto Kaihami",
      "userId": "07651446941847976228"
     },
     "user_tz": 180
    },
    "id": "7EvanEJ6jz8l",
    "outputId": "dc1fefda-47b1-408e-e0f3-e5f4369f5f0d",
    "tags": []
   },
   "outputs": [
    {
     "data": {
      "text/plain": [
       "{'jogadores': [{'nome': 'Fulano', 'pontuacao': 20, 'level': 3},\n",
       "  {'nome': 'Maria', 'pontuacao': 100, 'level': 4}],\n",
       " 'max_levels': 100,\n",
       " 'max_vidas': 5,\n",
       " 'versao': 1.0,\n",
       " 'autores': ['João', 'Helder'],\n",
       " 'infos': None}"
      ]
     },
     "execution_count": 44,
     "metadata": {},
     "output_type": "execute_result"
    }
   ],
   "source": [
    "dados = {\n",
    "    \"jogadores\": [\n",
    "        {\n",
    "        \"nome\": \"Fulano\",\n",
    "        \"pontuacao\": 20,\n",
    "        \"level\": 3\n",
    "    },\n",
    "        {\n",
    "        \"nome\": \"Maria\",\n",
    "         \"pontuacao\": 100,\n",
    "         \"level\": 4\n",
    "    }\n",
    "    ],\n",
    "    \"max_levels\": 100,\n",
    "    \"max_vidas\": 5,\n",
    "    \"versao\": 1.0,\n",
    "    \"autores\": [\"João\", \"Helder\"],\n",
    "    \"infos\": None\n",
    "}\n",
    "dados"
   ]
  },
  {
   "cell_type": "code",
   "execution_count": 45,
   "metadata": {
    "colab": {
     "base_uri": "https://localhost:8080/"
    },
    "executionInfo": {
     "elapsed": 4,
     "status": "ok",
     "timestamp": 1666205642890,
     "user": {
      "displayName": "Gilberto Kaihami",
      "userId": "07651446941847976228"
     },
     "user_tz": 180
    },
    "id": "B1WWCY1Xk3P-",
    "outputId": "4d7ba6a3-e1c2-4130-d8ce-3cc8580fade8",
    "tags": []
   },
   "outputs": [
    {
     "name": "stdout",
     "output_type": "stream",
     "text": [
      "<class 'str'>\n",
      "{\"jogadores\": [{\"nome\": \"Fulano\", \"pontuacao\": 20, \"level\": 3}, {\"nome\": \"Maria\", \"pontuacao\": 100, \"level\": 4}], \"max_levels\": 100, \"max_vidas\": 5, \"versao\": 1.0, \"autores\": [\"Jo\\u00e3o\", \"Helder\"], \"infos\": null}\n"
     ]
    }
   ],
   "source": [
    "string_dados = json.dumps(dados)\n",
    "print(type(string_dados))\n",
    "print(string_dados)"
   ]
  },
  {
   "cell_type": "code",
   "execution_count": 46,
   "metadata": {
    "colab": {
     "base_uri": "https://localhost:8080/"
    },
    "executionInfo": {
     "elapsed": 322,
     "status": "ok",
     "timestamp": 1666205645147,
     "user": {
      "displayName": "Gilberto Kaihami",
      "userId": "07651446941847976228"
     },
     "user_tz": 180
    },
    "id": "xhOPoMHxlPbv",
    "outputId": "0b6f6828-8450-4840-bf18-7a0a7061d925",
    "tags": []
   },
   "outputs": [
    {
     "name": "stdout",
     "output_type": "stream",
     "text": [
      "<class 'str'>\n",
      "{\n",
      "  \"jogadores\": [\n",
      "    {\n",
      "      \"nome\": \"Fulano\",\n",
      "      \"pontuacao\": 20,\n",
      "      \"level\": 3\n",
      "    },\n",
      "    {\n",
      "      \"nome\": \"Maria\",\n",
      "      \"pontuacao\": 100,\n",
      "      \"level\": 4\n",
      "    }\n",
      "  ],\n",
      "  \"max_levels\": 100,\n",
      "  \"max_vidas\": 5,\n",
      "  \"versao\": 1.0,\n",
      "  \"autores\": [\n",
      "    \"Jo\\u00e3o\",\n",
      "    \"Helder\"\n",
      "  ],\n",
      "  \"infos\": null\n",
      "}\n"
     ]
    }
   ],
   "source": [
    "# Deixando mais bonito o json\n",
    "string_dados = json.dumps(dados, indent=2)\n",
    "print(type(string_dados))\n",
    "print(string_dados)"
   ]
  },
  {
   "cell_type": "markdown",
   "metadata": {
    "id": "QLXsAXfOlGP8"
   },
   "source": [
    "**Salvando um arquivo json**"
   ]
  },
  {
   "cell_type": "code",
   "execution_count": 47,
   "metadata": {
    "id": "t1FDL5gDk-aJ",
    "tags": []
   },
   "outputs": [],
   "source": [
    "json.dump(dados, open('dados.json', 'w'), indent=2)"
   ]
  },
  {
   "cell_type": "markdown",
   "metadata": {
    "id": "QtHN462CllLQ"
   },
   "source": [
    "**Carregando um arquivo json**"
   ]
  },
  {
   "cell_type": "code",
   "execution_count": 48,
   "metadata": {
    "id": "TvPg7J28lgM3",
    "tags": []
   },
   "outputs": [],
   "source": [
    "dados_novos = json.load(open('dados.json', 'r'))"
   ]
  },
  {
   "cell_type": "code",
   "execution_count": 49,
   "metadata": {
    "colab": {
     "base_uri": "https://localhost:8080/"
    },
    "executionInfo": {
     "elapsed": 3,
     "status": "ok",
     "timestamp": 1666205650347,
     "user": {
      "displayName": "Gilberto Kaihami",
      "userId": "07651446941847976228"
     },
     "user_tz": 180
    },
    "id": "7i2EWhDNltNx",
    "outputId": "6af5ead4-1ecb-4867-c485-5b80e4db13d2",
    "tags": []
   },
   "outputs": [
    {
     "data": {
      "text/plain": [
       "{'jogadores': [{'nome': 'Fulano', 'pontuacao': 20, 'level': 3},\n",
       "  {'nome': 'Maria', 'pontuacao': 100, 'level': 4}],\n",
       " 'max_levels': 100,\n",
       " 'max_vidas': 5,\n",
       " 'versao': 1.0,\n",
       " 'autores': ['João', 'Helder'],\n",
       " 'infos': None}"
      ]
     },
     "execution_count": 49,
     "metadata": {},
     "output_type": "execute_result"
    }
   ],
   "source": [
    "dados_novos"
   ]
  },
  {
   "cell_type": "markdown",
   "metadata": {
    "id": "Vk2F5XD4lxQh"
   },
   "source": [
    "Logo temos que:\n",
    "\n",
    "Arquivos no formato json são ótimos para armazenar dados que não tem uma estrutura tabular (como no exemplo acima).\n",
    "\n",
    "São um formato que permitem que seja obtido estruturas de objeto de forma simples e rápida (dicionários, listas).\n",
    "\n",
    "São amplamente utilizados como armazenamento de informações, como no exemplo acima, e para configurações de sistema!\n",
    "\n",
    "Utilizamos:\n",
    "Os comandos com **`s`** para realizar operações locais e sem **`s`** para operações de arquivo\n",
    "\n",
    "`loads`: transforma uma **string json** em um objeto\n",
    "\n",
    "`dumps`: transforma um objeto em uma **string json**\n",
    "\n",
    "`load`: carrega um **arquivo json** em um objeto\n",
    "\n",
    "`dump`: salva um objeto em um **arquivo json**\n",
    "\n"
   ]
  }
 ],
 "metadata": {
  "colab": {
   "authorship_tag": "ABX9TyNL5uIDGImWhFCSdkUMMfps",
   "collapsed_sections": [],
   "provenance": []
  },
  "kernelspec": {
   "display_name": "Python 3 (ipykernel)",
   "language": "python",
   "name": "python3"
  },
  "language_info": {
   "codemirror_mode": {
    "name": "ipython",
    "version": 3
   },
   "file_extension": ".py",
   "mimetype": "text/x-python",
   "name": "python",
   "nbconvert_exporter": "python",
   "pygments_lexer": "ipython3",
   "version": "3.10.10"
  }
 },
 "nbformat": 4,
 "nbformat_minor": 4
}
