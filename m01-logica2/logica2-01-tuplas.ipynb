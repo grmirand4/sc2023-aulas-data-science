{
 "cells": [
  {
   "cell_type": "markdown",
   "metadata": {
    "id": "TrpsSyH5WmRn"
   },
   "source": [
    "## Anotações gerais:\n",
    "\n",
    "*   Teremos 9 aulas.\n",
    "*   A última aula é uma avaliação (projeto)."
   ]
  },
  {
   "cell_type": "markdown",
   "metadata": {
    "id": "ZC5lEMSSJHJw"
   },
   "source": [
    "## Lógica de programação II - Tuplas\n",
    "\n",
    "Na aula de hoje, iremos explorar os seguintes tópicos em Python:\n",
    "- Importando módulos\n",
    "- Revisão de listas\n",
    "- Tuplas"
   ]
  },
  {
   "cell_type": "markdown",
   "metadata": {
    "id": "hZ-2IdkdQ0HC"
   },
   "source": [
    "## 1. Importando módulos em Python\n",
    "\n",
    "Muitos dos problemas de programação já foram resolvidos por outras pessoas, por exemplo calcular o `log` de um número. Por este motivo diversas linguagens de programação, como Python e JavaScript, apresentam bibliotecas que facilitam o uso dessas funcionalidades sem a necessidade de programar do zero!\n",
    "\n",
    "Nas linguagens mais populares, há uma grande comunidade que desenvolve esses módulos facilitando ainda mais o nosso dia-a-dia, como por exemplo o `numpy`, `pandas` e o `matplotlib`, bibliotecas que iremos explorar nos próximos módulos!\n",
    "\n",
    "Para utilizar esses módulos, há três principais fontes:\n",
    "- As bibliotecas já distribuídas com o Python. Para saber mais temos a [PEP206](https://peps.python.org/pep-0206/)\n",
    "  - [Biblioteca padrão](https://docs.python.org/3/library/)\n",
    "- Bibliotecas de terceiros disponíveis pelo [PyPi](https://pypi.org/)\n",
    "- A última é o [github](https://github.com/)\n",
    "\n",
    "Para instalar módulos de terceiros podemos utilizar podemos utilizar o comando:\n",
    "`pip install <nome do pacote>`\n",
    "\n",
    "Para importar um módulo utilizamos:\n",
    "\n",
    "`import <nome do módulo>`\n",
    "\n",
    "`from <nome do módulo> import <nome do submódulo>`\n",
    "\n",
    "Ambos irão disponibilizar o pacote para serem utilizados na forma de código. A principal diferença é que no `from ... import ...` utilizamos menos memória, já que somente uma parte do módulo será importado, sendo uma boa prática a ser realizada."
   ]
  },
  {
   "cell_type": "code",
   "execution_count": 1,
   "metadata": {
    "colab": {
     "base_uri": "https://localhost:8080/"
    },
    "executionInfo": {
     "elapsed": 7819,
     "status": "ok",
     "timestamp": 1689601431632,
     "user": {
      "displayName": "Gabriel Miranda",
      "userId": "15559016933675739211"
     },
     "user_tz": 180
    },
    "id": "gp7agcbPTU7V",
    "outputId": "4ee657fc-ce68-4239-d8db-0b0fc25a9007"
   },
   "outputs": [
    {
     "name": "stdout",
     "output_type": "stream",
     "text": [
      "Collecting lmfit\n",
      "  Downloading lmfit-1.2.2-py3-none-any.whl (102 kB)\n",
      "\u001b[2K     \u001b[90m━━━━━━━━━━━━━━━━━━━━━━━━━━━━━━━━━━━━━━━\u001b[0m \u001b[32m103.0/103.0 kB\u001b[0m \u001b[31m4.7 MB/s\u001b[0m eta \u001b[36m0:00:00\u001b[0m\n",
      "\u001b[?25hCollecting asteval>=0.9.28 (from lmfit)\n",
      "  Downloading asteval-0.9.31-py3-none-any.whl (20 kB)\n",
      "Requirement already satisfied: numpy>=1.19 in /opt/conda/lib/python3.10/site-packages (from lmfit) (1.23.5)\n",
      "Requirement already satisfied: scipy>=1.6 in /opt/conda/lib/python3.10/site-packages (from lmfit) (1.10.1)\n",
      "Collecting uncertainties>=3.1.4 (from lmfit)\n",
      "  Downloading uncertainties-3.1.7-py2.py3-none-any.whl (98 kB)\n",
      "\u001b[2K     \u001b[90m━━━━━━━━━━━━━━━━━━━━━━━━━━━━━━━━━━━━━━━\u001b[0m \u001b[32m98.4/98.4 kB\u001b[0m \u001b[31m786.9 kB/s\u001b[0m eta \u001b[36m0:00:00\u001b[0ma \u001b[36m0:00:01\u001b[0m\n",
      "\u001b[?25hCollecting future (from uncertainties>=3.1.4->lmfit)\n",
      "  Downloading future-0.18.3.tar.gz (840 kB)\n",
      "\u001b[2K     \u001b[90m━━━━━━━━━━━━━━━━━━━━━━━━━━━━━━━━━━━━━━\u001b[0m \u001b[32m840.9/840.9 kB\u001b[0m \u001b[31m13.1 MB/s\u001b[0m eta \u001b[36m0:00:00\u001b[0ma \u001b[36m0:00:01\u001b[0m\n",
      "\u001b[?25h  Preparing metadata (setup.py) ... \u001b[?25ldone\n",
      "\u001b[?25hBuilding wheels for collected packages: future\n",
      "  Building wheel for future (setup.py) ... \u001b[?25ldone\n",
      "\u001b[?25h  Created wheel for future: filename=future-0.18.3-py3-none-any.whl size=492022 sha256=7b26c11d26c63bffca8588e2768394db0fa92186271eca5e775b08d7fdb19c3c\n",
      "  Stored in directory: /home/gabriel.resende/.cache/pip/wheels/5e/a9/47/f118e66afd12240e4662752cc22cefae5d97275623aa8ef57d\n",
      "Successfully built future\n",
      "Installing collected packages: future, asteval, uncertainties, lmfit\n",
      "Successfully installed asteval-0.9.31 future-0.18.3 lmfit-1.2.2 uncertainties-3.1.7\n"
     ]
    }
   ],
   "source": [
    "# Instalando o pacote diretamente pelo Jupyter Notebook:\n",
    "\n",
    "! pip install lmfit"
   ]
  },
  {
   "cell_type": "code",
   "execution_count": 2,
   "metadata": {
    "executionInfo": {
     "elapsed": 1044,
     "status": "ok",
     "timestamp": 1689601433187,
     "user": {
      "displayName": "Gabriel Miranda",
      "userId": "15559016933675739211"
     },
     "user_tz": 180
    },
    "id": "mOd8IdpBPqk5"
   },
   "outputs": [],
   "source": [
    "# Importando a biblioteca de estatística\n",
    "from scipy import stats\n",
    "\n",
    "# Outra biblioteca de estatística\n",
    "import statistics\n",
    "\n",
    "# Bibliotecas para visualização de dados\n",
    "import matplotlib.pyplot as plt\n",
    "# from matplotlib import pyplot as plt\n",
    "import seaborn as sns\n",
    "\n",
    "# Biblioteca para manipulação de dados estruturados (tabelas)\n",
    "import pandas as pd"
   ]
  },
  {
   "cell_type": "markdown",
   "metadata": {
    "id": "GAVWQmRKJZuA"
   },
   "source": [
    "## 2. Listas\n",
    "\n",
    "Listas são uma estrutura de dados que permitem armazenar de forma ordenada diversos objetos (valores), como `int`, `float`, `str`, outras listas, e etc.\n",
    "\n",
    "Podemos pensar nas listas como uma **corrente** em que cada elemento está conectado entre si, como se fosse um trem!\n",
    "\n",
    "Dessa forma, assim como no trem sabemos qual o primeiro vagão, o segundo, e assim por diante até alcançar o último vagão.\n",
    "\n",
    "No caso das listas, os vagões são representados por seus **índices**, sendo ele um inteiro (`int`) iniciando no valor zero (0) e incrementando com o tamanho da lista.\n"
   ]
  },
  {
   "cell_type": "code",
   "execution_count": 3,
   "metadata": {
    "colab": {
     "base_uri": "https://localhost:8080/"
    },
    "executionInfo": {
     "elapsed": 31,
     "status": "ok",
     "timestamp": 1689601433188,
     "user": {
      "displayName": "Gabriel Miranda",
      "userId": "15559016933675739211"
     },
     "user_tz": 180
    },
    "id": "qQuJTcOyFc4F",
    "outputId": "8d56e7dc-c6b3-4773-843d-97c781b5b7e4"
   },
   "outputs": [
    {
     "name": "stdout",
     "output_type": "stream",
     "text": [
      "Lista 1: [], Lista 2: []\n",
      "True\n"
     ]
    }
   ],
   "source": [
    "# Criando listas vazias (sem elementos)\n",
    "l1, l2 = list(), []\n",
    "\n",
    "# Imprimindo as listas criadas\n",
    "print(f\"Lista 1: {l1}, Lista 2: {l2}\")\n",
    "\n",
    "# Ambas as formas retornam o mesmo tipo de objeto (lista) portanto são \"identicas\"\n",
    "print(l1 == l2)"
   ]
  },
  {
   "cell_type": "code",
   "execution_count": 4,
   "metadata": {
    "colab": {
     "base_uri": "https://localhost:8080/"
    },
    "executionInfo": {
     "elapsed": 28,
     "status": "ok",
     "timestamp": 1689601433188,
     "user": {
      "displayName": "Gabriel Miranda",
      "userId": "15559016933675739211"
     },
     "user_tz": 180
    },
    "id": "U-npu_u9UrNI",
    "outputId": "64b9367b-fccd-44cc-8273-6978448d2a06"
   },
   "outputs": [
    {
     "name": "stdout",
     "output_type": "stream",
     "text": [
      "['morango', 'abacaxi', 'uva']\n",
      "[1, True, None, 3, 'abacate']\n",
      "[[1, True, None, 3, 'abacate'], ['morango', 'abacaxi', 'uva']]\n"
     ]
    }
   ],
   "source": [
    "# Criando uma lista com strings\n",
    "frutas = ['morango', 'abacaxi', 'uva']\n",
    "\n",
    "# Imprimindo a lista de frutas\n",
    "print(frutas)\n",
    "\n",
    "# Listas podem conter diversos tipos\n",
    "lista_variada = [1, True, None, 3, 'abacate']\n",
    "\n",
    "# Imprimindo a lista_variada\n",
    "print(lista_variada)\n",
    "\n",
    "# As listas podem conter listas (lista de listas) - Lista aninhada\n",
    "lista_de_listas = [lista_variada, frutas]\n",
    "\n",
    "# Imprimindo a lista de listas\n",
    "print(lista_de_listas)"
   ]
  },
  {
   "cell_type": "code",
   "execution_count": 5,
   "metadata": {
    "colab": {
     "base_uri": "https://localhost:8080/"
    },
    "executionInfo": {
     "elapsed": 26,
     "status": "ok",
     "timestamp": 1689601433189,
     "user": {
      "displayName": "Gabriel Miranda",
      "userId": "15559016933675739211"
     },
     "user_tz": 180
    },
    "id": "OTt945g3UZmT",
    "outputId": "538a5de0-5777-4b48-e549-24aaa7287c6e"
   },
   "outputs": [
    {
     "name": "stdout",
     "output_type": "stream",
     "text": [
      "Primeiro elemento da lista fruta: morango\n",
      "Segundo elemento da lista fruta: abacaxi\n",
      "Ultimo elemento da lista variada: uva\n",
      "Pegando o primeiro elemento da lista de listas: [1, True, None, 3, 'abacate']\n",
      "Pegando o primeiro elemento da lista de listas, apenas a idade True\n"
     ]
    }
   ],
   "source": [
    "# Pegando os elementos da lista\n",
    "\n",
    "# Primeiro elemento da lista\n",
    "print('Primeiro elemento da lista fruta:', frutas[0])\n",
    "# Segundo elemento da lista\n",
    "print('Segundo elemento da lista fruta:', frutas[1])\n",
    "# Último elemento da lista\n",
    "print('Ultimo elemento da lista variada:', frutas[-1])\n",
    "# Primeiro elemento da lista (que é outra lista)\n",
    "print('Pegando o primeiro elemento da lista de listas:', lista_de_listas[0])\n",
    "# Pegando o primeiro elemento (lista) e dentro dessa pegando o segundo elemento\n",
    "print('Pegando o primeiro elemento da lista de listas, apenas a idade', lista_de_listas[0][1])"
   ]
  },
  {
   "cell_type": "code",
   "execution_count": 6,
   "metadata": {
    "colab": {
     "base_uri": "https://localhost:8080/"
    },
    "executionInfo": {
     "elapsed": 23,
     "status": "ok",
     "timestamp": 1689601433189,
     "user": {
      "displayName": "Gabriel Miranda",
      "userId": "15559016933675739211"
     },
     "user_tz": 180
    },
    "id": "Zodr99l3md8j",
    "outputId": "f2562a13-ece9-439a-eb15-947d9088d5dc"
   },
   "outputs": [
    {
     "data": {
      "text/plain": [
       "[1, True, None, 3, 'abacate']"
      ]
     },
     "execution_count": 6,
     "metadata": {},
     "output_type": "execute_result"
    }
   ],
   "source": [
    "lista_variada"
   ]
  },
  {
   "cell_type": "code",
   "execution_count": 7,
   "metadata": {
    "colab": {
     "base_uri": "https://localhost:8080/"
    },
    "executionInfo": {
     "elapsed": 22,
     "status": "ok",
     "timestamp": 1689601433190,
     "user": {
      "displayName": "Gabriel Miranda",
      "userId": "15559016933675739211"
     },
     "user_tz": 180
    },
    "id": "ZF9nBWyoJQu6",
    "outputId": "361ab85b-b527-4306-b277-9327a9bbbf6d"
   },
   "outputs": [
    {
     "name": "stdout",
     "output_type": "stream",
     "text": [
      "Os últimos dois elementos: ['abacaxi', 'uva']\n",
      "Os últimos dois elementos: [None, 3, 'abacate']\n",
      "Os primeiros dois elementos: [1, True]\n",
      "Os elementos até o penúltimo: [1, True, None, 3]\n",
      "Os primeiros dois elementos: [1, True]\n"
     ]
    }
   ],
   "source": [
    "# Fatiando (slice) a lista\n",
    "# Pegando os dois últimos elementos\n",
    "print('Os últimos dois elementos:', frutas[-2:])\n",
    "# Pegando do terceiro elemento em diante\n",
    "print('Os últimos dois elementos:', lista_variada[2:])\n",
    "# Pegando os dois primeiros elementos\n",
    "print('Os primeiros dois elementos:', lista_variada[0:2])\n",
    "# Pegando todos os elementos até o penúltimo\n",
    "print('Os elementos até o penúltimo:', lista_variada[0:4])\n",
    "# Pegando os dois primeiros elementos\n",
    "print('Os primeiros dois elementos:', lista_variada[0:2])"
   ]
  },
  {
   "cell_type": "code",
   "execution_count": 8,
   "metadata": {
    "colab": {
     "base_uri": "https://localhost:8080/"
    },
    "executionInfo": {
     "elapsed": 20,
     "status": "ok",
     "timestamp": 1689601433190,
     "user": {
      "displayName": "Gabriel Miranda",
      "userId": "15559016933675739211"
     },
     "user_tz": 180
    },
    "id": "yf8VR8IrYTf4",
    "outputId": "818ca774-c44e-4e23-d78f-7ba5fab68120"
   },
   "outputs": [
    {
     "name": "stdout",
     "output_type": "stream",
     "text": [
      "Tamanho da lista_variada:\n"
     ]
    }
   ],
   "source": [
    "# Descobrindo o tamanho da lista, utilizando a função `len`\n",
    "print('Tamanho da lista_variada:', )"
   ]
  },
  {
   "cell_type": "markdown",
   "metadata": {
    "id": "PZOyOJLfYkh8"
   },
   "source": [
    "### 2.1 Iterando uma lista\n",
    "\n",
    "Uma forma de estruturar um código é descrever o que o algoritmo (procedimento) deve fazer.\n",
    "\n",
    "Por exemplo, uma possível tarefa seria: **quero verificar quais elementos fazem parte da minha lista**.\n",
    "\n",
    "Uma possível solução seria:\n",
    "- Acesse cada elemento da lista\n",
    "- Imprima esse elemento\n",
    "\n",
    "O que acabamos de fazer é um pseudocódigo\n",
    "\n",
    "Outros exemplos de [pseudocódigo](https://www.unf.edu/~broggio/cop2221/2221pseu.htm)"
   ]
  },
  {
   "cell_type": "code",
   "execution_count": 9,
   "metadata": {
    "colab": {
     "base_uri": "https://localhost:8080/"
    },
    "executionInfo": {
     "elapsed": 19,
     "status": "ok",
     "timestamp": 1689601433191,
     "user": {
      "displayName": "Gabriel Miranda",
      "userId": "15559016933675739211"
     },
     "user_tz": 180
    },
    "id": "vZLCT0_eUiWx",
    "outputId": "82d9b216-e412-4795-eb23-eef0f20cb912"
   },
   "outputs": [
    {
     "name": "stdout",
     "output_type": "stream",
     "text": [
      "1\n",
      "True\n",
      "None\n",
      "3\n",
      "abacate\n"
     ]
    }
   ],
   "source": [
    "# - Para cada elemento da nossa lista\n",
    "# - Imprima esse elemento\n",
    "\n",
    "for l in lista_variada:\n",
    "  print(l)"
   ]
  },
  {
   "cell_type": "markdown",
   "metadata": {
    "id": "hXaoPeYDZeoM"
   },
   "source": [
    "Podemos melhorar o código acima, já que sabemos que a lista é composta por índices.\n",
    "\n",
    "- Acesse cada elemento da nossa lista\n",
    "- Imprima esse elemento e o seu indice\n",
    "\n",
    "Por exemplo:\n",
    "\n",
    "Para o primeiro elemento seria impresso:\n",
    "\n",
    "`>>> indice: 1 elemento: 10`\n",
    "\n",
    "Para o segundo elemento:\n",
    "\n",
    "`>>> indice: 2 elemento: 2.75`\n",
    "\n",
    "**Para retornar o índice de cada elemento de uma lista, podemos utilizar a função enumerate!**"
   ]
  },
  {
   "cell_type": "code",
   "execution_count": 10,
   "metadata": {
    "colab": {
     "base_uri": "https://localhost:8080/"
    },
    "executionInfo": {
     "elapsed": 16,
     "status": "ok",
     "timestamp": 1689601433191,
     "user": {
      "displayName": "Gabriel Miranda",
      "userId": "15559016933675739211"
     },
     "user_tz": 180
    },
    "id": "IcrRnXvYZd6h",
    "outputId": "12016183-25f1-4b98-dfd3-54ac25c89edf"
   },
   "outputs": [
    {
     "name": "stdout",
     "output_type": "stream",
     "text": [
      "indice: 0 elemento: 10\n",
      "indice: 1 elemento: 20\n",
      "indice: 2 elemento: 30\n",
      "indice: 3 elemento: 40\n",
      "indice: 4 elemento: 50\n",
      "indice: 5 elemento: 60\n",
      "indice: 6 elemento: 70\n",
      "indice: 7 elemento: 80\n",
      "indice: 8 elemento: 90\n"
     ]
    }
   ],
   "source": [
    "# Iterando sobre a lista com o `enumerate`\n",
    "# O Enumerate permite adicionar um número (\"indice\") para a nossa contagem da lista\n",
    "for idx, elemento in enumerate(range(10, 100, 10)):\n",
    "  # Imprimindo o indice `idx`, além do elemento da lista\n",
    "  print('indice:', idx, 'elemento:', elemento)"
   ]
  },
  {
   "cell_type": "code",
   "execution_count": 11,
   "metadata": {
    "colab": {
     "base_uri": "https://localhost:8080/"
    },
    "executionInfo": {
     "elapsed": 15,
     "status": "ok",
     "timestamp": 1689601433192,
     "user": {
      "displayName": "Gabriel Miranda",
      "userId": "15559016933675739211"
     },
     "user_tz": 180
    },
    "id": "T4AB30-Atc3V",
    "outputId": "b3688ab8-ecf8-4954-8826-3d6c884b1e11"
   },
   "outputs": [
    {
     "name": "stdout",
     "output_type": "stream",
     "text": [
      "Índice: 0, elemento: 1\n",
      "Índice: 1, elemento: True\n",
      "Índice: 2, elemento: None\n",
      "Índice: 3, elemento: 3\n",
      "Índice: 4, elemento: abacate\n"
     ]
    }
   ],
   "source": [
    "for i, elem in enumerate(lista_variada):\n",
    "  print(f\"Índice: {i}, elemento: {elem}\")"
   ]
  },
  {
   "cell_type": "code",
   "execution_count": 12,
   "metadata": {
    "colab": {
     "base_uri": "https://localhost:8080/"
    },
    "executionInfo": {
     "elapsed": 13,
     "status": "ok",
     "timestamp": 1689601433192,
     "user": {
      "displayName": "Gabriel Miranda",
      "userId": "15559016933675739211"
     },
     "user_tz": 180
    },
    "id": "Aagg3c10t6TM",
    "outputId": "c085c46a-b488-4398-fcfa-68ea3fbad1e0"
   },
   "outputs": [
    {
     "name": "stdout",
     "output_type": "stream",
     "text": [
      "(0, 1)\n",
      "(1, True)\n",
      "(2, None)\n",
      "(3, 3)\n",
      "(4, 'abacate')\n"
     ]
    }
   ],
   "source": [
    "# A função enumerate retorna uma tupla (indice, elemento):\n",
    "\n",
    "for coisa in enumerate(lista_variada):\n",
    "  print(coisa)"
   ]
  },
  {
   "cell_type": "code",
   "execution_count": 13,
   "metadata": {
    "executionInfo": {
     "elapsed": 413,
     "status": "ok",
     "timestamp": 1689601433595,
     "user": {
      "displayName": "Gabriel Miranda",
      "userId": "15559016933675739211"
     },
     "user_tz": 180
    },
    "id": "YfQULrAMarKs"
   },
   "outputs": [
    {
     "data": {
      "text/plain": [
       "\u001b[0;31mInit signature:\u001b[0m \u001b[0menumerate\u001b[0m\u001b[0;34m(\u001b[0m\u001b[0miterable\u001b[0m\u001b[0;34m,\u001b[0m \u001b[0mstart\u001b[0m\u001b[0;34m=\u001b[0m\u001b[0;36m0\u001b[0m\u001b[0;34m)\u001b[0m\u001b[0;34m\u001b[0m\u001b[0;34m\u001b[0m\u001b[0m\n",
       "\u001b[0;31mDocstring:\u001b[0m     \n",
       "Return an enumerate object.\n",
       "\n",
       "  iterable\n",
       "    an object supporting iteration\n",
       "\n",
       "The enumerate object yields pairs containing a count (from start, which\n",
       "defaults to zero) and a value yielded by the iterable argument.\n",
       "\n",
       "enumerate is useful for obtaining an indexed list:\n",
       "    (0, seq[0]), (1, seq[1]), (2, seq[2]), ...\n",
       "\u001b[0;31mType:\u001b[0m           type\n",
       "\u001b[0;31mSubclasses:\u001b[0m     "
      ]
     },
     "metadata": {},
     "output_type": "display_data"
    }
   ],
   "source": [
    "# Verificando o \"manual\" de uma função ou classe.\n",
    "# O \"manual\" é conhecido como docstring\n",
    "\n",
    "enumerate?"
   ]
  },
  {
   "cell_type": "code",
   "execution_count": 14,
   "metadata": {
    "colab": {
     "base_uri": "https://localhost:8080/"
    },
    "executionInfo": {
     "elapsed": 139,
     "status": "ok",
     "timestamp": 1689601433674,
     "user": {
      "displayName": "Gabriel Miranda",
      "userId": "15559016933675739211"
     },
     "user_tz": 180
    },
    "id": "iSB4KCCJapEv",
    "outputId": "f3baa8cc-ff4c-4e12-c559-8aa70da08513"
   },
   "outputs": [
    {
     "name": "stdout",
     "output_type": "stream",
     "text": [
      "Ordem do elemento: 1, elemento: 1\n",
      "Ordem do elemento: 2, elemento: True\n",
      "Ordem do elemento: 3, elemento: None\n",
      "Ordem do elemento: 4, elemento: 3\n",
      "Ordem do elemento: 5, elemento: abacate\n"
     ]
    }
   ],
   "source": [
    "# Podemos modificar qual o inicio da contagem com o parâmetro `start`\n",
    "# Ao adicionar o `start=1` a contagem irá ocorrer a partir do número 1 e não zero como padrão\n",
    "\n",
    "  # Imprimindo o indice `idx`, além do elemento da lista\n",
    "\n",
    "for i, elem in enumerate(lista_variada, start=1):\n",
    "  print(f\"Ordem do elemento: {i}, elemento: {elem}\")"
   ]
  },
  {
   "cell_type": "markdown",
   "metadata": {
    "id": "mx95o9MEbZ9-"
   },
   "source": [
    "**Exercício**\n",
    "\n",
    "Crie um laço (loop) que obedeça o seguinte pseudocódigo:\n",
    "\n",
    "- Acesse cada elemento da nossa lista\n",
    "- Imprima esse elemento, além do seu indice e o total da lista\n",
    "\n",
    "Por exemplo:\n",
    "\n",
    "Utilizando a `lista_variada`\n",
    "\n",
    "No primeiro elemento teriamos:\n",
    "\n",
    "`>>> #1/4: 10`\n",
    "\n",
    "No segundo elemento:\n",
    "\n",
    "`>>> #2/4: 2.75`"
   ]
  },
  {
   "cell_type": "code",
   "execution_count": 15,
   "metadata": {
    "id": "okc9f0lWbZZe"
   },
   "outputs": [
    {
     "data": {
      "text/plain": [
       "[1, True, None, 3, 'abacate']"
      ]
     },
     "execution_count": 15,
     "metadata": {},
     "output_type": "execute_result"
    }
   ],
   "source": [
    "lista_variada"
   ]
  },
  {
   "cell_type": "code",
   "execution_count": 33,
   "metadata": {
    "tags": []
   },
   "outputs": [
    {
     "name": "stdout",
     "output_type": "stream",
     "text": [
      "0: 1\n",
      "1: True\n",
      "2: None\n",
      "3: 3\n",
      "4: abacate\n"
     ]
    }
   ],
   "source": [
    "for i, elemento in enumerate(lista_variada):\n",
    "    print(f\"{i}: {elemento}\")"
   ]
  },
  {
   "cell_type": "markdown",
   "metadata": {
    "id": "Qw-btkY3cfrX"
   },
   "source": [
    "### 2.2 Adicionando elementos na lista"
   ]
  },
  {
   "cell_type": "code",
   "execution_count": 34,
   "metadata": {
    "executionInfo": {
     "elapsed": 135,
     "status": "ok",
     "timestamp": 1689601433676,
     "user": {
      "displayName": "Gabriel Miranda",
      "userId": "15559016933675739211"
     },
     "user_tz": 180
    },
    "id": "9cXU_ywScL02"
   },
   "outputs": [
    {
     "data": {
      "text/plain": [
       "[1, True, None, 3, 'abacate', 'coisa 1']"
      ]
     },
     "execution_count": 34,
     "metadata": {},
     "output_type": "execute_result"
    }
   ],
   "source": [
    "# Adicionando elementos com `append`\n",
    "\n",
    "lista_variada.append(\"coisa 1\")\n",
    "lista_variada"
   ]
  },
  {
   "cell_type": "markdown",
   "metadata": {
    "id": "v4GdtQUDkouO"
   },
   "source": [
    "### 2.3 Concatenação de listas\n"
   ]
  },
  {
   "cell_type": "code",
   "execution_count": 42,
   "metadata": {
    "executionInfo": {
     "elapsed": 138,
     "status": "ok",
     "timestamp": 1689601433680,
     "user": {
      "displayName": "Gabriel Miranda",
      "userId": "15559016933675739211"
     },
     "user_tz": 180
    },
    "id": "g1mKVU9oknfP",
    "scrolled": true
   },
   "outputs": [
    {
     "name": "stdout",
     "output_type": "stream",
     "text": [
      "['abacaxi', 'banana', 'maca', 'cenoura', 'beterraba', 'chuchu']\n",
      "['cenoura', 'beterraba', 'chuchu', 'abacaxi', 'banana', 'maca']\n"
     ]
    }
   ],
   "source": [
    "# Definindo duas listas\n",
    "\n",
    "lista_frutas = ['abacaxi', 'banana', 'maca']\n",
    "lista_legumes = ['cenoura', 'beterraba', 'chuchu']\n",
    "\n",
    "# Concatenando as listas com o operador `+`\n",
    "\n",
    "print(lista_frutas + lista_legumes)\n",
    "\n",
    "# Concatenando as listas com o método `extend`\n",
    "\n",
    "lista_legumes.extend(lista_frutas)\n",
    "print(lista_legumes)"
   ]
  },
  {
   "cell_type": "markdown",
   "metadata": {
    "id": "ELZ2wDXtJQvG"
   },
   "source": [
    "### 2.4 Outros métodos"
   ]
  },
  {
   "cell_type": "markdown",
   "metadata": {
    "id": "FKNeCr1pJQvG"
   },
   "source": [
    "Métodos in-place: métodos que podem alterar o conteúdo da lista, como adicionar membros ou alterar seus valores."
   ]
  },
  {
   "cell_type": "code",
   "execution_count": 48,
   "metadata": {
    "colab": {
     "base_uri": "https://localhost:8080/"
    },
    "executionInfo": {
     "elapsed": 139,
     "status": "ok",
     "timestamp": 1689601433681,
     "user": {
      "displayName": "Gabriel Miranda",
      "userId": "15559016933675739211"
     },
     "user_tz": 180
    },
    "id": "AsBKSLwrJQvG",
    "outputId": "e4da57bb-a4df-4a08-aa53-a26cb2e1c9d9"
   },
   "outputs": [
    {
     "data": {
      "text/plain": [
       "1"
      ]
     },
     "execution_count": 48,
     "metadata": {},
     "output_type": "execute_result"
    }
   ],
   "source": [
    "# Count: Retorna o número de elementos com o valor especificado\n",
    "lista = ['banana', 'maca', 'uva', 'pera', 'limao', 'abacate', 'lichia']\n",
    "lista.count('uva')"
   ]
  },
  {
   "cell_type": "code",
   "execution_count": 49,
   "metadata": {
    "colab": {
     "base_uri": "https://localhost:8080/"
    },
    "executionInfo": {
     "elapsed": 138,
     "status": "ok",
     "timestamp": 1689601433682,
     "user": {
      "displayName": "Gabriel Miranda",
      "userId": "15559016933675739211"
     },
     "user_tz": 180
    },
    "id": "w34p905tJQvH",
    "outputId": "71bcaa7c-d98f-492d-d19e-b468ab13324b",
    "scrolled": true
   },
   "outputs": [
    {
     "data": {
      "text/plain": [
       "['banana', 'maca', 'morango', 'uva', 'pera', 'limao', 'abacate', 'lichia']"
      ]
     },
     "execution_count": 49,
     "metadata": {},
     "output_type": "execute_result"
    }
   ],
   "source": [
    "# Insert: Adiciona um elemento na posição especificada\n",
    "# Os outros elementos são movidos para a direita\n",
    "lista.insert(2,'morango')\n",
    "lista"
   ]
  },
  {
   "cell_type": "code",
   "execution_count": 50,
   "metadata": {
    "colab": {
     "base_uri": "https://localhost:8080/",
     "height": 36
    },
    "executionInfo": {
     "elapsed": 136,
     "status": "ok",
     "timestamp": 1689601433683,
     "user": {
      "displayName": "Gabriel Miranda",
      "userId": "15559016933675739211"
     },
     "user_tz": 180
    },
    "id": "VrUOAUZ1JQvH",
    "outputId": "3c2adc19-0d38-4481-cfd0-51308fc5d198"
   },
   "outputs": [
    {
     "name": "stdout",
     "output_type": "stream",
     "text": [
      "['banana', 'morango', 'uva', 'pera', 'limao', 'abacate', 'lichia']\n"
     ]
    }
   ],
   "source": [
    "# Pop: Remove o elemento na posição especificada\n",
    "lista.pop(1)\n",
    "print(lista)"
   ]
  },
  {
   "cell_type": "code",
   "execution_count": 51,
   "metadata": {
    "colab": {
     "base_uri": "https://localhost:8080/"
    },
    "executionInfo": {
     "elapsed": 135,
     "status": "ok",
     "timestamp": 1689601433684,
     "user": {
      "displayName": "Gabriel Miranda",
      "userId": "15559016933675739211"
     },
     "user_tz": 180
    },
    "id": "iZl1R0gKJQvH",
    "outputId": "d4d8f76c-1407-47cd-93cd-46de99814acd"
   },
   "outputs": [
    {
     "data": {
      "text/plain": [
       "['abacate', 'banana', 'lichia', 'limao', 'morango', 'pera', 'uva']"
      ]
     },
     "execution_count": 51,
     "metadata": {},
     "output_type": "execute_result"
    }
   ],
   "source": [
    "# Sort: Ordena a lista (ordem crescente)\n",
    "lista.sort()\n",
    "lista"
   ]
  },
  {
   "cell_type": "code",
   "execution_count": 52,
   "metadata": {
    "colab": {
     "base_uri": "https://localhost:8080/"
    },
    "executionInfo": {
     "elapsed": 132,
     "status": "ok",
     "timestamp": 1689601433684,
     "user": {
      "displayName": "Gabriel Miranda",
      "userId": "15559016933675739211"
     },
     "user_tz": 180
    },
    "id": "bRzbhZgzJQvH",
    "outputId": "5b001bc3-08b7-4899-babb-1c9ef4b82e4b"
   },
   "outputs": [
    {
     "data": {
      "text/plain": [
       "['uva', 'pera', 'morango', 'limao', 'lichia', 'banana', 'abacate']"
      ]
     },
     "execution_count": 52,
     "metadata": {},
     "output_type": "execute_result"
    }
   ],
   "source": [
    "# Reverse: Inverte a ordem da lista\n",
    "lista.reverse()\n",
    "lista"
   ]
  },
  {
   "cell_type": "markdown",
   "metadata": {
    "id": "Uu9Fp8HrJQvH"
   },
   "source": [
    "Para outros métodos: https://www.w3schools.com/python/python_ref_list.asp"
   ]
  },
  {
   "cell_type": "markdown",
   "metadata": {
    "id": "hHNRWdDUguR5"
   },
   "source": [
    "**Curiosidade**\n",
    "\n",
    "Listas são uma estrutura em cadeia, no Python é utilizada a estrutura de dados conhecido como `Dynamic array`, permitindo um acesso rápido ao elemento assim como inserção no fim da lista (`append`), porém com inserção lenta no meio da lista.\n",
    "\n",
    "Esse comportamento ocorre, por que imagine que precisamos \"quebrar\" a corrente para inserir um novo elo, e depois reconstruir a corrente elo por elo! Já no fim da corrente, basta inserir um elo novo sem precisar \"quebrar\" a corrente.\n",
    "\n",
    "Conhecer sobre estrutura de dados permite que criemos softwares com alta performance computacional!\n",
    "\n",
    "Para saber mais sobre estrutura de dados de listas [clique aqui](https://en.wikipedia.org/wiki/Dynamic_array#Performance)\n",
    "\n"
   ]
  },
  {
   "cell_type": "markdown",
   "metadata": {
    "id": "WWHGfzwSjSg6"
   },
   "source": [
    "## 3. Tuplas\n",
    "\n",
    "Até o momento, temos utilizado **listas** pra armazenar uma coleção de dados.\n",
    "\n",
    "Aprenderemos agora sobre uma nova **estrutura de dados**: tuplas!\n",
    "\n",
    "Tuplas são estruturas bastante parecidas com listas:\n",
    "\n",
    "- Podem guardar **tipos diferentes de dados**.\n",
    "- São indexadas (podemos **acessar elementos por índices**).\n",
    "- São iteráveis (**podemos percorrer com o `for`**)."
   ]
  },
  {
   "cell_type": "code",
   "execution_count": 54,
   "metadata": {
    "executionInfo": {
     "elapsed": 130,
     "status": "ok",
     "timestamp": 1689601433685,
     "user": {
      "displayName": "Gabriel Miranda",
      "userId": "15559016933675739211"
     },
     "user_tz": 180
    },
    "id": "ip2x66PsiV8f"
   },
   "outputs": [
    {
     "data": {
      "text/plain": [
       "tuple"
      ]
     },
     "execution_count": 54,
     "metadata": {},
     "output_type": "execute_result"
    }
   ],
   "source": [
    "# Criando uma tupla vazia\n",
    "\n",
    "ex_tupla = ()\n",
    "type(ex_tupla)"
   ]
  },
  {
   "cell_type": "code",
   "execution_count": 55,
   "metadata": {
    "executionInfo": {
     "elapsed": 130,
     "status": "ok",
     "timestamp": 1689601433685,
     "user": {
      "displayName": "Gabriel Miranda",
      "userId": "15559016933675739211"
     },
     "user_tz": 180
    },
    "id": "cTpozqX_3j4k"
   },
   "outputs": [],
   "source": [
    "# Tupla com três elementos\n",
    "ex_tupla = ('a', 'b', 'c')"
   ]
  },
  {
   "cell_type": "code",
   "execution_count": 56,
   "metadata": {
    "executionInfo": {
     "elapsed": 130,
     "status": "ok",
     "timestamp": 1689601433686,
     "user": {
      "displayName": "Gabriel Miranda",
      "userId": "15559016933675739211"
     },
     "user_tz": 180
    },
    "id": "6Qq8Xak9kwcF"
   },
   "outputs": [],
   "source": [
    "# Tupla com tipos diferentes\n",
    "ex_tupla = ('a', 'b', 'c', 1, 2, True)"
   ]
  },
  {
   "cell_type": "code",
   "execution_count": 57,
   "metadata": {
    "colab": {
     "base_uri": "https://localhost:8080/"
    },
    "executionInfo": {
     "elapsed": 130,
     "status": "ok",
     "timestamp": 1689601433686,
     "user": {
      "displayName": "Gabriel Miranda",
      "userId": "15559016933675739211"
     },
     "user_tz": 180
    },
    "id": "rGNFQJ26k8IL",
    "outputId": "0553885b-2db1-4298-d1fc-ec3ca2f6fce9"
   },
   "outputs": [
    {
     "name": "stdout",
     "output_type": "stream",
     "text": [
      "(('Curso', 'Módulo 1', 'Módulo 2'), ('Data Science', 'Lógica de Programação I', 'Lógica de Programação II'), ('Web Full Stack', 'Front End Estático', 'Front End Dinâmico'))\n"
     ]
    }
   ],
   "source": [
    "# Tupla de tuplas\n",
    "tupla_de_tuplas = (\n",
    "    ('Curso', 'Módulo 1', 'Módulo 2'),\n",
    "    ('Data Science', 'Lógica de Programação I', 'Lógica de Programação II'),\n",
    "    ('Web Full Stack', 'Front End Estático', 'Front End Dinâmico')\n",
    ")\n",
    "print(tupla_de_tuplas)"
   ]
  },
  {
   "cell_type": "code",
   "execution_count": 61,
   "metadata": {
    "executionInfo": {
     "elapsed": 128,
     "status": "ok",
     "timestamp": 1689601433686,
     "user": {
      "displayName": "Gabriel Miranda",
      "userId": "15559016933675739211"
     },
     "user_tz": 180
    },
    "id": "sKe1a6balF8x"
   },
   "outputs": [
    {
     "data": {
      "text/plain": [
       "'Curso'"
      ]
     },
     "execution_count": 61,
     "metadata": {},
     "output_type": "execute_result"
    }
   ],
   "source": [
    "# Acessando os elementos:\n",
    "\n",
    "tupla_de_tuplas[0][0]"
   ]
  },
  {
   "cell_type": "markdown",
   "metadata": {
    "id": "11RVrsM-lRHj"
   },
   "source": [
    "### 3.1 Iterando uma tupla"
   ]
  },
  {
   "cell_type": "code",
   "execution_count": 62,
   "metadata": {
    "colab": {
     "base_uri": "https://localhost:8080/"
    },
    "executionInfo": {
     "elapsed": 128,
     "status": "ok",
     "timestamp": 1689601433687,
     "user": {
      "displayName": "Gabriel Miranda",
      "userId": "15559016933675739211"
     },
     "user_tz": 180
    },
    "id": "vSGYkgqelQni",
    "outputId": "a42d614a-e3b9-4b2b-f940-909ae2d70659"
   },
   "outputs": [
    {
     "name": "stdout",
     "output_type": "stream",
     "text": [
      "('Ana', 32, 'SP')\n",
      "('João', 25, 'RJ')\n",
      "('Maria', 19, 'PE')\n"
     ]
    }
   ],
   "source": [
    "cadastros = (\n",
    "    ('Ana', 32, 'SP'),\n",
    "    ('João', 25, 'RJ'),\n",
    "    ('Maria', 19, 'PE')\n",
    ")\n",
    "for cadastro in cadastros:\n",
    "  print(cadastro)"
   ]
  },
  {
   "cell_type": "markdown",
   "metadata": {
    "id": "l28t0xFomYGr"
   },
   "source": [
    "### 3.2 Fatiando (slicing) dos dados"
   ]
  },
  {
   "cell_type": "code",
   "execution_count": 63,
   "metadata": {
    "colab": {
     "base_uri": "https://localhost:8080/"
    },
    "executionInfo": {
     "elapsed": 125,
     "status": "ok",
     "timestamp": 1689601433687,
     "user": {
      "displayName": "Gabriel Miranda",
      "userId": "15559016933675739211"
     },
     "user_tz": 180
    },
    "id": "LInDLjPSmW8_",
    "outputId": "2cefe03d-8769-4374-8e65-e3a6c663d83a"
   },
   "outputs": [
    {
     "name": "stdout",
     "output_type": "stream",
     "text": [
      "Primeira pessoa cadastrada: ('Ana', 32, 'SP')\n",
      "Nome da primeira pessoa cadastrada: Ana\n"
     ]
    }
   ],
   "source": [
    "print('Primeira pessoa cadastrada:', cadastros[0])\n",
    "print('Nome da primeira pessoa cadastrada:', cadastros[0][0])"
   ]
  },
  {
   "cell_type": "markdown",
   "metadata": {
    "id": "TaWccEJ7ndsL"
   },
   "source": [
    "Tuplas podem virar listas, e listas podem virar tuplas!"
   ]
  },
  {
   "cell_type": "code",
   "execution_count": 65,
   "metadata": {
    "colab": {
     "base_uri": "https://localhost:8080/"
    },
    "executionInfo": {
     "elapsed": 122,
     "status": "ok",
     "timestamp": 1689601433688,
     "user": {
      "displayName": "Gabriel Miranda",
      "userId": "15559016933675739211"
     },
     "user_tz": 180
    },
    "id": "nIqtke8EndKy",
    "outputId": "fd6f5a03-1150-4301-fcc3-dda965f6a24b"
   },
   "outputs": [
    {
     "name": "stdout",
     "output_type": "stream",
     "text": [
      "\n",
      "tipo:, <class 'list'>\n",
      "conteudo: ['abacate', 'banana', 'maca']\n",
      "\n",
      "\n",
      "tipo:, <class 'tuple'>\n",
      "conteudo: ('abacate', 'banana', 'maca')\n",
      "\n"
     ]
    }
   ],
   "source": [
    "lista_frutas = ['abacate', 'banana', 'maca']\n",
    "print(f'''\n",
    "tipo:, {type(lista_frutas)}\n",
    "conteudo: {lista_frutas}\n",
    "''')\n",
    "\n",
    "tupla_frutas = tuple(lista_frutas)\n",
    "\n",
    "print(f'''\n",
    "tipo:, {type(tupla_frutas)}\n",
    "conteudo: {tupla_frutas}\n",
    "''')"
   ]
  },
  {
   "cell_type": "markdown",
   "metadata": {
    "id": "7x7EPUkom0CD"
   },
   "source": [
    "A principal diferença é: tuplas são **imutáveis**!\n",
    "\n",
    "Para tuplas **não é possível**: alterar elementos individuais, adicionar elementos, remover elementos ou alterar a ordem dos elementos. Uma vez criada, não é possível alterar nada de uma tupla!"
   ]
  },
  {
   "cell_type": "code",
   "execution_count": 66,
   "metadata": {
    "colab": {
     "base_uri": "https://localhost:8080/",
     "height": 281
    },
    "executionInfo": {
     "elapsed": 119,
     "status": "error",
     "timestamp": 1689601433688,
     "user": {
      "displayName": "Gabriel Miranda",
      "userId": "15559016933675739211"
     },
     "user_tz": 180
    },
    "id": "IBkLDHIumzfC",
    "outputId": "76335114-e0f8-4d5f-e951-ba440eecfaba"
   },
   "outputs": [
    {
     "name": "stdout",
     "output_type": "stream",
     "text": [
      "lista ['abacate', 'banana', 'maca']\n",
      "tupla ('abacate', 'banana', 'maca')\n",
      "lista modificada ['abacaxi', 'banana', 'maca']\n",
      "--------------------\n"
     ]
    },
    {
     "ename": "TypeError",
     "evalue": "'tuple' object does not support item assignment",
     "output_type": "error",
     "traceback": [
      "\u001b[0;31m---------------------------------------------------------------------------\u001b[0m",
      "\u001b[0;31mTypeError\u001b[0m                                 Traceback (most recent call last)",
      "Cell \u001b[0;32mIn[66], line 6\u001b[0m\n\u001b[1;32m      4\u001b[0m \u001b[38;5;28mprint\u001b[39m(\u001b[38;5;124m'\u001b[39m\u001b[38;5;124mlista modificada\u001b[39m\u001b[38;5;124m'\u001b[39m, lista_frutas)\n\u001b[1;32m      5\u001b[0m \u001b[38;5;28mprint\u001b[39m(\u001b[38;5;124m'\u001b[39m\u001b[38;5;124m-\u001b[39m\u001b[38;5;124m'\u001b[39m\u001b[38;5;241m*\u001b[39m\u001b[38;5;241m20\u001b[39m)\n\u001b[0;32m----> 6\u001b[0m \u001b[43mtupla_frutas\u001b[49m\u001b[43m[\u001b[49m\u001b[38;5;241;43m0\u001b[39;49m\u001b[43m]\u001b[49m \u001b[38;5;241m=\u001b[39m \u001b[38;5;124m'\u001b[39m\u001b[38;5;124mabacaxi\u001b[39m\u001b[38;5;124m'\u001b[39m\n",
      "\u001b[0;31mTypeError\u001b[0m: 'tuple' object does not support item assignment"
     ]
    }
   ],
   "source": [
    "print('lista', lista_frutas)\n",
    "print('tupla', tupla_frutas)\n",
    "lista_frutas[0] = 'abacaxi'\n",
    "print('lista modificada', lista_frutas)\n",
    "print('-'*20)\n",
    "tupla_frutas[0] = 'abacaxi'\n"
   ]
  },
  {
   "cell_type": "markdown",
   "metadata": {
    "id": "SpaGWMwOpFXr"
   },
   "source": [
    "### Qual a vantagem das tuplas?\n",
    "\n",
    "As tuplas e listas possuem operações úteis parecidas, `slicing`, `index`, `ordenação`. Sendo a principal diferença é que nas listas, conseguimos modificar o seu conteúdo, enquanto nas tuplas não conseguimos.\n",
    "\n",
    "Há duas diferenças que sugerem o uso de tuplas no lugar de listas:\n",
    "- Performance:\n",
    "  - Tuplas apresentam uma leve vantagem de acesso (\"pegar\" um elemento)\n",
    "  - Tuplas ocupam menos espaço na memória\n",
    "- Indicar de uma estrutura rígida:\n",
    "  - É um jeito de **sinalizar que esses dados não deveriam ser alterados**.\n",
    "  - É um meio de garantir que os elementos estarão **em uma ordem específica**.\n",
    "\n",
    "\n",
    "  - Quando utilizamos tuplas, queremos indicar que novos elementos não deveriam ser inseridos, assim como o seu conteúdo não deveria ser modificado\n",
    "\n",
    "Um exemplo de estrutura rígida, é no cadastro de pessoas.  \n",
    "Em que coletamos, o nome, CPF, e idade, por exemplo. Neste o sistema não espera que hajam menos ou mais informações sendo rígida essa estrutura.  \n",
    "Vamos explorar um pouco este caso abaixo."
   ]
  },
  {
   "cell_type": "code",
   "execution_count": 67,
   "metadata": {
    "executionInfo": {
     "elapsed": 117,
     "status": "aborted",
     "timestamp": 1689601433689,
     "user": {
      "displayName": "Gabriel Miranda",
      "userId": "15559016933675739211"
     },
     "user_tz": 180
    },
    "id": "4cQ8zE-wpA15",
    "scrolled": true
   },
   "outputs": [
    {
     "name": "stdin",
     "output_type": "stream",
     "text": [
      "Deseja inserir um novo cadastro? s\n",
      "Insira o nome:  Gabriel\n",
      "Insira a idade:  26\n",
      "Insira o estado:  Bahia\n",
      "Deseja inserir um novo cadastro? s\n",
      "Insira o nome:  Oseias\n",
      "Insira a idade:  28\n",
      "Insira o estado:  Bahia\n",
      "Deseja inserir um novo cadastro? n\n"
     ]
    },
    {
     "name": "stdout",
     "output_type": "stream",
     "text": [
      "Cadastro finalizado, inserido 2 novos\n"
     ]
    }
   ],
   "source": [
    "# Cadastro\n",
    "# - Nome\n",
    "# - idade\n",
    "# - Estado\n",
    "continuar_cadastro = True\n",
    "\n",
    "cadastros = []\n",
    "\n",
    "while continuar_cadastro:\n",
    "  cadastrar = input('Deseja inserir um novo cadastro?')\n",
    "  if cadastrar.lower() in ['sim', 's', 'yes', 'y']:\n",
    "    nome = input('Insira o nome: ')\n",
    "    idade = int(input('Insira a idade: '))\n",
    "    estado = input('Insira o estado: ')\n",
    "    cadastro = (nome, idade, estado)\n",
    "    cadastros.append(cadastro)\n",
    "  elif cadastrar.lower() in ['não', 'n', 'nao', 'no']:\n",
    "    print(f'Cadastro finalizado, inserido {len(cadastros)} novos')\n",
    "    continuar_cadastro = False\n",
    "  else:\n",
    "    print(f'Opção invalida. Foi inserido \"{cadastrar}\",\\\n",
    "escolha entre [sim, s, yes, y] para cadastrar uma nova pessoa ou [não, nao, n, no] para parar')"
   ]
  },
  {
   "cell_type": "code",
   "execution_count": 68,
   "metadata": {
    "tags": []
   },
   "outputs": [
    {
     "data": {
      "text/plain": [
       "[('Gabriel', 26, 'Bahia'), ('Oseias', 28, 'Bahia')]"
      ]
     },
     "execution_count": 68,
     "metadata": {},
     "output_type": "execute_result"
    }
   ],
   "source": [
    "cadastros"
   ]
  },
  {
   "cell_type": "markdown",
   "metadata": {
    "id": "ZDtUDVWXYju_"
   },
   "source": [
    "Conseguimos desempacotar os elementos tanto de tuplas como de listas (do inglês *unpacking*)."
   ]
  },
  {
   "cell_type": "code",
   "execution_count": 81,
   "metadata": {
    "executionInfo": {
     "elapsed": 118,
     "status": "aborted",
     "timestamp": 1689601433691,
     "user": {
      "displayName": "Gabriel Miranda",
      "userId": "15559016933675739211"
     },
     "user_tz": 180
    },
    "id": "QipcEyNUYbZK",
    "tags": []
   },
   "outputs": [
    {
     "name": "stdout",
     "output_type": "stream",
     "text": [
      "abacate\n",
      "banana\n",
      "maca\n"
     ]
    }
   ],
   "source": [
    "(fruta1, fruta2, fruta3) = tupla_frutas\n",
    "print(fruta1)\n",
    "print(fruta2)\n",
    "print(fruta3)"
   ]
  },
  {
   "cell_type": "markdown",
   "metadata": {
    "id": "4FKLeYc1Y9hh"
   },
   "source": [
    "Outra forma é utilizar o operador `*` para o resto como o exemplo abaixo!\n",
    "Assim garantindo que não seja levantado um erro"
   ]
  },
  {
   "cell_type": "code",
   "execution_count": 82,
   "metadata": {
    "executionInfo": {
     "elapsed": 118,
     "status": "aborted",
     "timestamp": 1689601433691,
     "user": {
      "displayName": "Gabriel Miranda",
      "userId": "15559016933675739211"
     },
     "user_tz": 180
    },
    "id": "Oykwu4F0GCLe"
   },
   "outputs": [
    {
     "name": "stdout",
     "output_type": "stream",
     "text": [
      "Python\n",
      "['JavaScript', 'HTML', 'CSS', 'R']\n",
      "['Python', 'JavaScript', 'HTML', 'CSS']\n",
      "R\n",
      "Python\n",
      "['JavaScript', 'HTML', 'CSS']\n",
      "R\n"
     ]
    }
   ],
   "source": [
    "linguagens = ('Python', 'JavaScript', 'HTML', 'CSS', 'R')\n",
    "\n",
    "(primeira, *resto) = linguagens\n",
    "print(primeira) # Python\n",
    "print(resto) # ['JavaScript', 'HTML', 'CSS', 'R']\n",
    "\n",
    "(*resto, ultima) = linguagens\n",
    "print(resto) # ['Python', 'JavaScript', 'HTML', 'CSS']\n",
    "print(ultima) # R\n",
    "\n",
    "(primeira, *meio, ultima) = linguagens\n",
    "print(primeira) # Python\n",
    "print(meio) # ['JavaScript', 'HTML', 'CSS']\n",
    "print(ultima) # R"
   ]
  },
  {
   "cell_type": "markdown",
   "metadata": {
    "id": "BbQGekYKZQkK"
   },
   "source": [
    "Como lembrar a posição que cada valor significa na tupla?\n",
    "\n",
    "Essa é uma grande dificuldade (que será reduzida com os dicionários).\n",
    "\n",
    "Mas se uma das vantagens da tupla é a imutabilidade, e cada campo representar um valor específico (nome, idade, etc). Como relembrar sempre o que cada posição representa?\n",
    "\n",
    "Por este motivo temos o `named tuple` em Python, que podemos nomear a nossa tupla simplificando o processo e acesso aos valores como será visto abaixo"
   ]
  },
  {
   "cell_type": "code",
   "execution_count": 83,
   "metadata": {
    "executionInfo": {
     "elapsed": 119,
     "status": "aborted",
     "timestamp": 1689601433692,
     "user": {
      "displayName": "Gabriel Miranda",
      "userId": "15559016933675739211"
     },
     "user_tz": 180
    },
    "id": "lMpLcdTKZQNz"
   },
   "outputs": [],
   "source": [
    "# Importando as tuplas nomeadas\n",
    "from collections import namedtuple"
   ]
  },
  {
   "cell_type": "code",
   "execution_count": 84,
   "metadata": {
    "executionInfo": {
     "elapsed": 120,
     "status": "aborted",
     "timestamp": 1689601433693,
     "user": {
      "displayName": "Gabriel Miranda",
      "userId": "15559016933675739211"
     },
     "user_tz": 180
    },
    "id": "zKbAt7gvZy3g"
   },
   "outputs": [
    {
     "name": "stdout",
     "output_type": "stream",
     "text": [
      "('Gabriel', 26, 'Bahia')\n",
      "<class '__main__.Pessoa'>\n",
      "Pessoa(nome='Gil', idade=36, estado='SP')\n"
     ]
    }
   ],
   "source": [
    "# Pegando a primeira pessoa cadastrada\n",
    "pessoa = cadastros[0]\n",
    "print(pessoa)\n",
    "\n",
    "Pessoa = namedtuple(\"Pessoa\", [\"nome\", \"idade\", \"estado\"])\n",
    "print(Pessoa)\n",
    "\n",
    "pessoa = Pessoa(\"Gil\", 36, \"SP\")\n",
    "print(pessoa)"
   ]
  },
  {
   "cell_type": "code",
   "execution_count": 85,
   "metadata": {
    "executionInfo": {
     "elapsed": 120,
     "status": "aborted",
     "timestamp": 1689601433693,
     "user": {
      "displayName": "Gabriel Miranda",
      "userId": "15559016933675739211"
     },
     "user_tz": 180
    },
    "id": "lJIQVxFsaUV3"
   },
   "outputs": [
    {
     "name": "stdout",
     "output_type": "stream",
     "text": [
      "Pessoa(nome='Alex', idade=31, estado='RJ')\n"
     ]
    }
   ],
   "source": [
    "# Com o named tuple temos as mesmas funcionalidades das tuplas com vantagens!\n",
    "pessoa2 = Pessoa(nome='Alex', idade=31, estado='RJ')\n",
    "print(pessoa2)"
   ]
  },
  {
   "cell_type": "code",
   "execution_count": 86,
   "metadata": {
    "executionInfo": {
     "elapsed": 124,
     "status": "aborted",
     "timestamp": 1689601433698,
     "user": {
      "displayName": "Gabriel Miranda",
      "userId": "15559016933675739211"
     },
     "user_tz": 180
    },
    "id": "Sa14kBmwZy0-"
   },
   "outputs": [
    {
     "data": {
      "text/plain": [
       "\u001b[0;31mInit signature:\u001b[0m \u001b[0mPessoa\u001b[0m\u001b[0;34m(\u001b[0m\u001b[0mnome\u001b[0m\u001b[0;34m,\u001b[0m \u001b[0midade\u001b[0m\u001b[0;34m,\u001b[0m \u001b[0mestado\u001b[0m\u001b[0;34m)\u001b[0m\u001b[0;34m\u001b[0m\u001b[0;34m\u001b[0m\u001b[0m\n",
       "\u001b[0;31mDocstring:\u001b[0m      Pessoa(nome, idade, estado)\n",
       "\u001b[0;31mType:\u001b[0m           type\n",
       "\u001b[0;31mSubclasses:\u001b[0m     "
      ]
     },
     "metadata": {},
     "output_type": "display_data"
    }
   ],
   "source": [
    "Pessoa??"
   ]
  },
  {
   "cell_type": "code",
   "execution_count": 88,
   "metadata": {
    "executionInfo": {
     "elapsed": 10191,
     "status": "aborted",
     "timestamp": 1689601433709,
     "user": {
      "displayName": "Gabriel Miranda",
      "userId": "15559016933675739211"
     },
     "user_tz": 180
    },
    "id": "HQ8wgfS1Zyyi"
   },
   "outputs": [
    {
     "name": "stdout",
     "output_type": "stream",
     "text": [
      "Alex\n",
      "Alex\n"
     ]
    }
   ],
   "source": [
    "# Conseguimos acessar os atributos por posição e pelo nome dado!\n",
    "print(pessoa2[0])\n",
    "print(pessoa2.nome)"
   ]
  },
  {
   "cell_type": "markdown",
   "metadata": {
    "id": "BMkb3JINowrZ"
   },
   "source": [
    "Voltando ao exemplo de cadastro utilizando `named tuple`"
   ]
  },
  {
   "cell_type": "code",
   "execution_count": null,
   "metadata": {
    "executionInfo": {
     "elapsed": 10189,
     "status": "aborted",
     "timestamp": 1689601433709,
     "user": {
      "displayName": "Gabriel Miranda",
      "userId": "15559016933675739211"
     },
     "user_tz": 180
    },
    "id": "sC0svNfsoEsW"
   },
   "outputs": [],
   "source": [
    "# Cadastro\n",
    "# - Nome\n",
    "# - idade\n",
    "# - Estado\n",
    "Pessoa = namedtuple('Pessoa', ['nome', 'idade', 'estado'])\n",
    "continuar_cadastro = True\n",
    "\n",
    "cadastros = []\n",
    "\n",
    "while continuar_cadastro:\n",
    "  cadastrar = input('Deseja inserir um novo cadastro?')\n",
    "  if cadastrar.lower() in ['sim', 's', 'yes', 'y']:\n",
    "    nome = input('Insira o nome: ')\n",
    "    idade = int(input('Insira a idade: '))\n",
    "    estado = input('Insira o estado: ')\n",
    "    cadastro = Pessoa(nome=nome, idade=idade, estado=estado)\n",
    "    cadastros.append(cadastro)\n",
    "  elif cadastrar.lower() in ['não', 'n', 'nao', 'no']:\n",
    "    print(f'Cadastro finalizado, inserido {len(cadastros)} novos')\n",
    "    continuar_cadastro = False\n",
    "  else:\n",
    "    print(f'Opção invalida. Foi inserido \"{cadastrar}\",\\\n",
    "escolha entre [sim, s, yes, y] para cadastrar uma nova pessoa ou [não, nao, n, no] para parar')"
   ]
  },
  {
   "cell_type": "markdown",
   "metadata": {
    "id": "Yh8v2INT82yn"
   },
   "source": [
    "Outra utilidade de tuplas: fazer uma função **retornar mais de um valor**"
   ]
  },
  {
   "cell_type": "markdown",
   "metadata": {
    "id": "88qlGqCbrEU_"
   },
   "source": [
    "**Desafio**\n",
    "\n",
    "Utilize a função `cadastrar_usuario` abaixo em que serão coletados as seguintes informações a partir da entrada da pessoa usuária:\n",
    "- Nome\n",
    "- Idade\n",
    "- Sexo\n",
    "\n",
    "Agora crie uma função que permita descobrir a idade média de pessoas cadastradas pelo sexo (para manter simples, masculino e feminino, representado por `m` e `f`, respectivamente).\n",
    "\n"
   ]
  },
  {
   "cell_type": "code",
   "execution_count": 101,
   "metadata": {
    "executionInfo": {
     "elapsed": 10186,
     "status": "aborted",
     "timestamp": 1689601433710,
     "user": {
      "displayName": "Gabriel Miranda",
      "userId": "15559016933675739211"
     },
     "user_tz": 180
    },
    "id": "dCQYJsmKq8EB",
    "tags": []
   },
   "outputs": [
    {
     "name": "stdin",
     "output_type": "stream",
     "text": [
      "Deseja inserir um novo cadastro? s\n",
      "Insira o nome:  Joao\n",
      "Insira a idade:  13\n",
      "Insira o sexo:  m\n",
      "Deseja inserir um novo cadastro? s\n",
      "Insira o nome:  Maria\n",
      "Insira a idade:  45\n",
      "Insira o sexo:  f\n",
      "Deseja inserir um novo cadastro? s\n",
      "Insira o nome:  Sergio\n",
      "Insira a idade:  89\n",
      "Insira o sexo:  m\n",
      "Deseja inserir um novo cadastro? s\n",
      "Insira o nome:  Claudia\n",
      "Insira a idade:  34\n",
      "Insira o sexo:  f\n",
      "Deseja inserir um novo cadastro? s\n",
      "Insira o nome:  Gabriel\n",
      "Insira a idade:  26\n",
      "Insira o sexo:  m\n",
      "Deseja inserir um novo cadastro? n\n"
     ]
    },
    {
     "name": "stdout",
     "output_type": "stream",
     "text": [
      "Cadastro finalizado, inserido 5 novos\n"
     ]
    }
   ],
   "source": [
    "from collections import namedtuple\n",
    "\n",
    "Pessoa = namedtuple('Pessoa', ['nome', 'idade', 'sexo'])\n",
    "def cadastrar_usuario():\n",
    "  continuar_cadastro = True\n",
    "\n",
    "  cadastros = []\n",
    "\n",
    "  while continuar_cadastro:\n",
    "    cadastrar = input('Deseja inserir um novo cadastro?')\n",
    "    if cadastrar.lower() in ['sim', 's', 'yes', 'y']:\n",
    "      nome = input('Insira o nome: ')\n",
    "      idade = int(input('Insira a idade: '))\n",
    "      sexo = input('Insira o sexo: ')\n",
    "      cadastro = Pessoa(nome=nome, idade=idade, sexo=sexo)\n",
    "      cadastros.append(cadastro)\n",
    "    elif cadastrar.lower() in ['não', 'n', 'nao', 'no']:\n",
    "      print(f'Cadastro finalizado, inserido {len(cadastros)} novos')\n",
    "      continuar_cadastro = False\n",
    "    else:\n",
    "      print(f'Opção invalida. Foi inserido \"{cadastrar}\",\\\n",
    "escolha entre [sim, s, yes, y] para cadastrar uma nova pessoa ou [não, nao, n, no] para parar')\n",
    "  return cadastros\n",
    "\n",
    "pessoas_cadastradas = cadastrar_usuario()"
   ]
  },
  {
   "cell_type": "code",
   "execution_count": 102,
   "metadata": {
    "tags": []
   },
   "outputs": [
    {
     "data": {
      "text/plain": [
       "[Pessoa(nome='Joao', idade=13, sexo='m'),\n",
       " Pessoa(nome='Maria', idade=45, sexo='f'),\n",
       " Pessoa(nome='Sergio', idade=89, sexo='m'),\n",
       " Pessoa(nome='Claudia', idade=34, sexo='f'),\n",
       " Pessoa(nome='Gabriel', idade=26, sexo='m')]"
      ]
     },
     "execution_count": 102,
     "metadata": {},
     "output_type": "execute_result"
    }
   ],
   "source": [
    "pessoas_cadastradas"
   ]
  },
  {
   "cell_type": "code",
   "execution_count": 103,
   "metadata": {
    "tags": []
   },
   "outputs": [],
   "source": [
    "def media_idade(cadastros: list, sexo: str) -> float:\n",
    "    soma = 0\n",
    "    n = 0\n",
    "    for pessoa in cadastros:\n",
    "        if pessoa.sexo == sexo:\n",
    "            soma += pessoa.idade\n",
    "            n += 1\n",
    "    return soma/n"
   ]
  },
  {
   "cell_type": "code",
   "execution_count": 105,
   "metadata": {
    "tags": []
   },
   "outputs": [
    {
     "data": {
      "text/plain": [
       "42.666666666666664"
      ]
     },
     "execution_count": 105,
     "metadata": {},
     "output_type": "execute_result"
    }
   ],
   "source": [
    "media_idade(pessoas_cadastradas, 'm')"
   ]
  }
 ],
 "metadata": {
  "colab": {
   "provenance": []
  },
  "kernelspec": {
   "display_name": "Python 3 (ipykernel)",
   "language": "python",
   "name": "python3"
  },
  "language_info": {
   "codemirror_mode": {
    "name": "ipython",
    "version": 3
   },
   "file_extension": ".py",
   "mimetype": "text/x-python",
   "name": "python",
   "nbconvert_exporter": "python",
   "pygments_lexer": "ipython3",
   "version": "3.10.10"
  }
 },
 "nbformat": 4,
 "nbformat_minor": 4
}
